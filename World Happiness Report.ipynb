{
 "cells": [
  {
   "cell_type": "markdown",
   "id": "52503121",
   "metadata": {},
   "source": [
    "# WORLD HAPPINESS REPORT"
   ]
  },
  {
   "cell_type": "code",
   "execution_count": 74,
   "id": "de0afdb9",
   "metadata": {},
   "outputs": [],
   "source": [
    "import pandas as pd\n",
    "import warnings\n",
    "warnings.filterwarnings('ignore')"
   ]
  },
  {
   "cell_type": "code",
   "execution_count": 146,
   "id": "f0029c77",
   "metadata": {},
   "outputs": [
    {
     "data": {
      "text/html": [
       "<div>\n",
       "<style scoped>\n",
       "    .dataframe tbody tr th:only-of-type {\n",
       "        vertical-align: middle;\n",
       "    }\n",
       "\n",
       "    .dataframe tbody tr th {\n",
       "        vertical-align: top;\n",
       "    }\n",
       "\n",
       "    .dataframe thead th {\n",
       "        text-align: right;\n",
       "    }\n",
       "</style>\n",
       "<table border=\"1\" class=\"dataframe\">\n",
       "  <thead>\n",
       "    <tr style=\"text-align: right;\">\n",
       "      <th></th>\n",
       "      <th>Country</th>\n",
       "      <th>Region</th>\n",
       "      <th>Happiness Rank</th>\n",
       "      <th>Happiness Score</th>\n",
       "      <th>Standard Error</th>\n",
       "      <th>Economy (GDP per Capita)</th>\n",
       "      <th>Family</th>\n",
       "      <th>Health (Life Expectancy)</th>\n",
       "      <th>Freedom</th>\n",
       "      <th>Trust (Government Corruption)</th>\n",
       "      <th>Generosity</th>\n",
       "      <th>Dystopia Residual</th>\n",
       "    </tr>\n",
       "  </thead>\n",
       "  <tbody>\n",
       "    <tr>\n",
       "      <th>0</th>\n",
       "      <td>Switzerland</td>\n",
       "      <td>Western Europe</td>\n",
       "      <td>1</td>\n",
       "      <td>7.587</td>\n",
       "      <td>0.03411</td>\n",
       "      <td>1.39651</td>\n",
       "      <td>1.34951</td>\n",
       "      <td>0.94143</td>\n",
       "      <td>0.66557</td>\n",
       "      <td>0.41978</td>\n",
       "      <td>0.29678</td>\n",
       "      <td>2.51738</td>\n",
       "    </tr>\n",
       "    <tr>\n",
       "      <th>1</th>\n",
       "      <td>Iceland</td>\n",
       "      <td>Western Europe</td>\n",
       "      <td>2</td>\n",
       "      <td>7.561</td>\n",
       "      <td>0.04884</td>\n",
       "      <td>1.30232</td>\n",
       "      <td>1.40223</td>\n",
       "      <td>0.94784</td>\n",
       "      <td>0.62877</td>\n",
       "      <td>0.14145</td>\n",
       "      <td>0.43630</td>\n",
       "      <td>2.70201</td>\n",
       "    </tr>\n",
       "    <tr>\n",
       "      <th>2</th>\n",
       "      <td>Denmark</td>\n",
       "      <td>Western Europe</td>\n",
       "      <td>3</td>\n",
       "      <td>7.527</td>\n",
       "      <td>0.03328</td>\n",
       "      <td>1.32548</td>\n",
       "      <td>1.36058</td>\n",
       "      <td>0.87464</td>\n",
       "      <td>0.64938</td>\n",
       "      <td>0.48357</td>\n",
       "      <td>0.34139</td>\n",
       "      <td>2.49204</td>\n",
       "    </tr>\n",
       "    <tr>\n",
       "      <th>3</th>\n",
       "      <td>Norway</td>\n",
       "      <td>Western Europe</td>\n",
       "      <td>4</td>\n",
       "      <td>7.522</td>\n",
       "      <td>0.03880</td>\n",
       "      <td>1.45900</td>\n",
       "      <td>1.33095</td>\n",
       "      <td>0.88521</td>\n",
       "      <td>0.66973</td>\n",
       "      <td>0.36503</td>\n",
       "      <td>0.34699</td>\n",
       "      <td>2.46531</td>\n",
       "    </tr>\n",
       "    <tr>\n",
       "      <th>4</th>\n",
       "      <td>Canada</td>\n",
       "      <td>North America</td>\n",
       "      <td>5</td>\n",
       "      <td>7.427</td>\n",
       "      <td>0.03553</td>\n",
       "      <td>1.32629</td>\n",
       "      <td>1.32261</td>\n",
       "      <td>0.90563</td>\n",
       "      <td>0.63297</td>\n",
       "      <td>0.32957</td>\n",
       "      <td>0.45811</td>\n",
       "      <td>2.45176</td>\n",
       "    </tr>\n",
       "    <tr>\n",
       "      <th>...</th>\n",
       "      <td>...</td>\n",
       "      <td>...</td>\n",
       "      <td>...</td>\n",
       "      <td>...</td>\n",
       "      <td>...</td>\n",
       "      <td>...</td>\n",
       "      <td>...</td>\n",
       "      <td>...</td>\n",
       "      <td>...</td>\n",
       "      <td>...</td>\n",
       "      <td>...</td>\n",
       "      <td>...</td>\n",
       "    </tr>\n",
       "    <tr>\n",
       "      <th>153</th>\n",
       "      <td>Rwanda</td>\n",
       "      <td>Sub-Saharan Africa</td>\n",
       "      <td>154</td>\n",
       "      <td>3.465</td>\n",
       "      <td>0.03464</td>\n",
       "      <td>0.22208</td>\n",
       "      <td>0.77370</td>\n",
       "      <td>0.42864</td>\n",
       "      <td>0.59201</td>\n",
       "      <td>0.55191</td>\n",
       "      <td>0.22628</td>\n",
       "      <td>0.67042</td>\n",
       "    </tr>\n",
       "    <tr>\n",
       "      <th>154</th>\n",
       "      <td>Benin</td>\n",
       "      <td>Sub-Saharan Africa</td>\n",
       "      <td>155</td>\n",
       "      <td>3.340</td>\n",
       "      <td>0.03656</td>\n",
       "      <td>0.28665</td>\n",
       "      <td>0.35386</td>\n",
       "      <td>0.31910</td>\n",
       "      <td>0.48450</td>\n",
       "      <td>0.08010</td>\n",
       "      <td>0.18260</td>\n",
       "      <td>1.63328</td>\n",
       "    </tr>\n",
       "    <tr>\n",
       "      <th>155</th>\n",
       "      <td>Syria</td>\n",
       "      <td>Middle East and Northern Africa</td>\n",
       "      <td>156</td>\n",
       "      <td>3.006</td>\n",
       "      <td>0.05015</td>\n",
       "      <td>0.66320</td>\n",
       "      <td>0.47489</td>\n",
       "      <td>0.72193</td>\n",
       "      <td>0.15684</td>\n",
       "      <td>0.18906</td>\n",
       "      <td>0.47179</td>\n",
       "      <td>0.32858</td>\n",
       "    </tr>\n",
       "    <tr>\n",
       "      <th>156</th>\n",
       "      <td>Burundi</td>\n",
       "      <td>Sub-Saharan Africa</td>\n",
       "      <td>157</td>\n",
       "      <td>2.905</td>\n",
       "      <td>0.08658</td>\n",
       "      <td>0.01530</td>\n",
       "      <td>0.41587</td>\n",
       "      <td>0.22396</td>\n",
       "      <td>0.11850</td>\n",
       "      <td>0.10062</td>\n",
       "      <td>0.19727</td>\n",
       "      <td>1.83302</td>\n",
       "    </tr>\n",
       "    <tr>\n",
       "      <th>157</th>\n",
       "      <td>Togo</td>\n",
       "      <td>Sub-Saharan Africa</td>\n",
       "      <td>158</td>\n",
       "      <td>2.839</td>\n",
       "      <td>0.06727</td>\n",
       "      <td>0.20868</td>\n",
       "      <td>0.13995</td>\n",
       "      <td>0.28443</td>\n",
       "      <td>0.36453</td>\n",
       "      <td>0.10731</td>\n",
       "      <td>0.16681</td>\n",
       "      <td>1.56726</td>\n",
       "    </tr>\n",
       "  </tbody>\n",
       "</table>\n",
       "<p>158 rows × 12 columns</p>\n",
       "</div>"
      ],
      "text/plain": [
       "         Country                           Region  Happiness Rank  \\\n",
       "0    Switzerland                   Western Europe               1   \n",
       "1        Iceland                   Western Europe               2   \n",
       "2        Denmark                   Western Europe               3   \n",
       "3         Norway                   Western Europe               4   \n",
       "4         Canada                    North America               5   \n",
       "..           ...                              ...             ...   \n",
       "153       Rwanda               Sub-Saharan Africa             154   \n",
       "154        Benin               Sub-Saharan Africa             155   \n",
       "155        Syria  Middle East and Northern Africa             156   \n",
       "156      Burundi               Sub-Saharan Africa             157   \n",
       "157         Togo               Sub-Saharan Africa             158   \n",
       "\n",
       "     Happiness Score  Standard Error  Economy (GDP per Capita)   Family  \\\n",
       "0              7.587         0.03411                   1.39651  1.34951   \n",
       "1              7.561         0.04884                   1.30232  1.40223   \n",
       "2              7.527         0.03328                   1.32548  1.36058   \n",
       "3              7.522         0.03880                   1.45900  1.33095   \n",
       "4              7.427         0.03553                   1.32629  1.32261   \n",
       "..               ...             ...                       ...      ...   \n",
       "153            3.465         0.03464                   0.22208  0.77370   \n",
       "154            3.340         0.03656                   0.28665  0.35386   \n",
       "155            3.006         0.05015                   0.66320  0.47489   \n",
       "156            2.905         0.08658                   0.01530  0.41587   \n",
       "157            2.839         0.06727                   0.20868  0.13995   \n",
       "\n",
       "     Health (Life Expectancy)  Freedom  Trust (Government Corruption)  \\\n",
       "0                     0.94143  0.66557                        0.41978   \n",
       "1                     0.94784  0.62877                        0.14145   \n",
       "2                     0.87464  0.64938                        0.48357   \n",
       "3                     0.88521  0.66973                        0.36503   \n",
       "4                     0.90563  0.63297                        0.32957   \n",
       "..                        ...      ...                            ...   \n",
       "153                   0.42864  0.59201                        0.55191   \n",
       "154                   0.31910  0.48450                        0.08010   \n",
       "155                   0.72193  0.15684                        0.18906   \n",
       "156                   0.22396  0.11850                        0.10062   \n",
       "157                   0.28443  0.36453                        0.10731   \n",
       "\n",
       "     Generosity  Dystopia Residual  \n",
       "0       0.29678            2.51738  \n",
       "1       0.43630            2.70201  \n",
       "2       0.34139            2.49204  \n",
       "3       0.34699            2.46531  \n",
       "4       0.45811            2.45176  \n",
       "..          ...                ...  \n",
       "153     0.22628            0.67042  \n",
       "154     0.18260            1.63328  \n",
       "155     0.47179            0.32858  \n",
       "156     0.19727            1.83302  \n",
       "157     0.16681            1.56726  \n",
       "\n",
       "[158 rows x 12 columns]"
      ]
     },
     "execution_count": 146,
     "metadata": {},
     "output_type": "execute_result"
    }
   ],
   "source": [
    "df=pd.read_csv(\"happiness_score_dataset.csv\")\n",
    "df"
   ]
  },
  {
   "cell_type": "code",
   "execution_count": 147,
   "id": "180f1ea1",
   "metadata": {},
   "outputs": [
    {
     "data": {
      "text/plain": [
       "Index(['Country', 'Region', 'Happiness Rank', 'Happiness Score',\n",
       "       'Standard Error', 'Economy (GDP per Capita)', 'Family',\n",
       "       'Health (Life Expectancy)', 'Freedom', 'Trust (Government Corruption)',\n",
       "       'Generosity', 'Dystopia Residual'],\n",
       "      dtype='object')"
      ]
     },
     "execution_count": 147,
     "metadata": {},
     "output_type": "execute_result"
    }
   ],
   "source": [
    "df.columns"
   ]
  },
  {
   "cell_type": "code",
   "execution_count": 148,
   "id": "92572c0b",
   "metadata": {},
   "outputs": [
    {
     "data": {
      "text/plain": [
       "Country                          0\n",
       "Region                           0\n",
       "Happiness Rank                   0\n",
       "Happiness Score                  0\n",
       "Standard Error                   0\n",
       "Economy (GDP per Capita)         0\n",
       "Family                           0\n",
       "Health (Life Expectancy)         0\n",
       "Freedom                          0\n",
       "Trust (Government Corruption)    0\n",
       "Generosity                       0\n",
       "Dystopia Residual                0\n",
       "dtype: int64"
      ]
     },
     "execution_count": 148,
     "metadata": {},
     "output_type": "execute_result"
    }
   ],
   "source": [
    "df.isnull().sum()"
   ]
  },
  {
   "cell_type": "code",
   "execution_count": 149,
   "id": "94fd5f39",
   "metadata": {},
   "outputs": [
    {
     "data": {
      "text/plain": [
       "Country                           object\n",
       "Region                            object\n",
       "Happiness Rank                     int64\n",
       "Happiness Score                  float64\n",
       "Standard Error                   float64\n",
       "Economy (GDP per Capita)         float64\n",
       "Family                           float64\n",
       "Health (Life Expectancy)         float64\n",
       "Freedom                          float64\n",
       "Trust (Government Corruption)    float64\n",
       "Generosity                       float64\n",
       "Dystopia Residual                float64\n",
       "dtype: object"
      ]
     },
     "execution_count": 149,
     "metadata": {},
     "output_type": "execute_result"
    }
   ],
   "source": [
    "df.dtypes"
   ]
  },
  {
   "cell_type": "markdown",
   "id": "5f15389f",
   "metadata": {},
   "source": [
    "Label Encoding for country and region"
   ]
  },
  {
   "cell_type": "code",
   "execution_count": 150,
   "id": "922a9cc7",
   "metadata": {},
   "outputs": [
    {
     "data": {
      "text/html": [
       "<div>\n",
       "<style scoped>\n",
       "    .dataframe tbody tr th:only-of-type {\n",
       "        vertical-align: middle;\n",
       "    }\n",
       "\n",
       "    .dataframe tbody tr th {\n",
       "        vertical-align: top;\n",
       "    }\n",
       "\n",
       "    .dataframe thead th {\n",
       "        text-align: right;\n",
       "    }\n",
       "</style>\n",
       "<table border=\"1\" class=\"dataframe\">\n",
       "  <thead>\n",
       "    <tr style=\"text-align: right;\">\n",
       "      <th></th>\n",
       "      <th>Country</th>\n",
       "      <th>Region</th>\n",
       "      <th>Happiness Rank</th>\n",
       "      <th>Happiness Score</th>\n",
       "      <th>Standard Error</th>\n",
       "      <th>Economy (GDP per Capita)</th>\n",
       "      <th>Family</th>\n",
       "      <th>Health (Life Expectancy)</th>\n",
       "      <th>Freedom</th>\n",
       "      <th>Trust (Government Corruption)</th>\n",
       "      <th>Generosity</th>\n",
       "      <th>Dystopia Residual</th>\n",
       "    </tr>\n",
       "  </thead>\n",
       "  <tbody>\n",
       "    <tr>\n",
       "      <th>0</th>\n",
       "      <td>135</td>\n",
       "      <td>9</td>\n",
       "      <td>1</td>\n",
       "      <td>7.587</td>\n",
       "      <td>0.03411</td>\n",
       "      <td>1.39651</td>\n",
       "      <td>1.34951</td>\n",
       "      <td>0.94143</td>\n",
       "      <td>0.66557</td>\n",
       "      <td>0.41978</td>\n",
       "      <td>0.29678</td>\n",
       "      <td>2.51738</td>\n",
       "    </tr>\n",
       "    <tr>\n",
       "      <th>1</th>\n",
       "      <td>58</td>\n",
       "      <td>9</td>\n",
       "      <td>2</td>\n",
       "      <td>7.561</td>\n",
       "      <td>0.04884</td>\n",
       "      <td>1.30232</td>\n",
       "      <td>1.40223</td>\n",
       "      <td>0.94784</td>\n",
       "      <td>0.62877</td>\n",
       "      <td>0.14145</td>\n",
       "      <td>0.43630</td>\n",
       "      <td>2.70201</td>\n",
       "    </tr>\n",
       "    <tr>\n",
       "      <th>2</th>\n",
       "      <td>37</td>\n",
       "      <td>9</td>\n",
       "      <td>3</td>\n",
       "      <td>7.527</td>\n",
       "      <td>0.03328</td>\n",
       "      <td>1.32548</td>\n",
       "      <td>1.36058</td>\n",
       "      <td>0.87464</td>\n",
       "      <td>0.64938</td>\n",
       "      <td>0.48357</td>\n",
       "      <td>0.34139</td>\n",
       "      <td>2.49204</td>\n",
       "    </tr>\n",
       "    <tr>\n",
       "      <th>3</th>\n",
       "      <td>105</td>\n",
       "      <td>9</td>\n",
       "      <td>4</td>\n",
       "      <td>7.522</td>\n",
       "      <td>0.03880</td>\n",
       "      <td>1.45900</td>\n",
       "      <td>1.33095</td>\n",
       "      <td>0.88521</td>\n",
       "      <td>0.66973</td>\n",
       "      <td>0.36503</td>\n",
       "      <td>0.34699</td>\n",
       "      <td>2.46531</td>\n",
       "    </tr>\n",
       "    <tr>\n",
       "      <th>4</th>\n",
       "      <td>24</td>\n",
       "      <td>5</td>\n",
       "      <td>5</td>\n",
       "      <td>7.427</td>\n",
       "      <td>0.03553</td>\n",
       "      <td>1.32629</td>\n",
       "      <td>1.32261</td>\n",
       "      <td>0.90563</td>\n",
       "      <td>0.63297</td>\n",
       "      <td>0.32957</td>\n",
       "      <td>0.45811</td>\n",
       "      <td>2.45176</td>\n",
       "    </tr>\n",
       "    <tr>\n",
       "      <th>...</th>\n",
       "      <td>...</td>\n",
       "      <td>...</td>\n",
       "      <td>...</td>\n",
       "      <td>...</td>\n",
       "      <td>...</td>\n",
       "      <td>...</td>\n",
       "      <td>...</td>\n",
       "      <td>...</td>\n",
       "      <td>...</td>\n",
       "      <td>...</td>\n",
       "      <td>...</td>\n",
       "      <td>...</td>\n",
       "    </tr>\n",
       "    <tr>\n",
       "      <th>153</th>\n",
       "      <td>118</td>\n",
       "      <td>8</td>\n",
       "      <td>154</td>\n",
       "      <td>3.465</td>\n",
       "      <td>0.03464</td>\n",
       "      <td>0.22208</td>\n",
       "      <td>0.77370</td>\n",
       "      <td>0.42864</td>\n",
       "      <td>0.59201</td>\n",
       "      <td>0.55191</td>\n",
       "      <td>0.22628</td>\n",
       "      <td>0.67042</td>\n",
       "    </tr>\n",
       "    <tr>\n",
       "      <th>154</th>\n",
       "      <td>13</td>\n",
       "      <td>8</td>\n",
       "      <td>155</td>\n",
       "      <td>3.340</td>\n",
       "      <td>0.03656</td>\n",
       "      <td>0.28665</td>\n",
       "      <td>0.35386</td>\n",
       "      <td>0.31910</td>\n",
       "      <td>0.48450</td>\n",
       "      <td>0.08010</td>\n",
       "      <td>0.18260</td>\n",
       "      <td>1.63328</td>\n",
       "    </tr>\n",
       "    <tr>\n",
       "      <th>155</th>\n",
       "      <td>136</td>\n",
       "      <td>4</td>\n",
       "      <td>156</td>\n",
       "      <td>3.006</td>\n",
       "      <td>0.05015</td>\n",
       "      <td>0.66320</td>\n",
       "      <td>0.47489</td>\n",
       "      <td>0.72193</td>\n",
       "      <td>0.15684</td>\n",
       "      <td>0.18906</td>\n",
       "      <td>0.47179</td>\n",
       "      <td>0.32858</td>\n",
       "    </tr>\n",
       "    <tr>\n",
       "      <th>156</th>\n",
       "      <td>21</td>\n",
       "      <td>8</td>\n",
       "      <td>157</td>\n",
       "      <td>2.905</td>\n",
       "      <td>0.08658</td>\n",
       "      <td>0.01530</td>\n",
       "      <td>0.41587</td>\n",
       "      <td>0.22396</td>\n",
       "      <td>0.11850</td>\n",
       "      <td>0.10062</td>\n",
       "      <td>0.19727</td>\n",
       "      <td>1.83302</td>\n",
       "    </tr>\n",
       "    <tr>\n",
       "      <th>157</th>\n",
       "      <td>141</td>\n",
       "      <td>8</td>\n",
       "      <td>158</td>\n",
       "      <td>2.839</td>\n",
       "      <td>0.06727</td>\n",
       "      <td>0.20868</td>\n",
       "      <td>0.13995</td>\n",
       "      <td>0.28443</td>\n",
       "      <td>0.36453</td>\n",
       "      <td>0.10731</td>\n",
       "      <td>0.16681</td>\n",
       "      <td>1.56726</td>\n",
       "    </tr>\n",
       "  </tbody>\n",
       "</table>\n",
       "<p>158 rows × 12 columns</p>\n",
       "</div>"
      ],
      "text/plain": [
       "     Country  Region  Happiness Rank  Happiness Score  Standard Error  \\\n",
       "0        135       9               1            7.587         0.03411   \n",
       "1         58       9               2            7.561         0.04884   \n",
       "2         37       9               3            7.527         0.03328   \n",
       "3        105       9               4            7.522         0.03880   \n",
       "4         24       5               5            7.427         0.03553   \n",
       "..       ...     ...             ...              ...             ...   \n",
       "153      118       8             154            3.465         0.03464   \n",
       "154       13       8             155            3.340         0.03656   \n",
       "155      136       4             156            3.006         0.05015   \n",
       "156       21       8             157            2.905         0.08658   \n",
       "157      141       8             158            2.839         0.06727   \n",
       "\n",
       "     Economy (GDP per Capita)   Family  Health (Life Expectancy)  Freedom  \\\n",
       "0                     1.39651  1.34951                   0.94143  0.66557   \n",
       "1                     1.30232  1.40223                   0.94784  0.62877   \n",
       "2                     1.32548  1.36058                   0.87464  0.64938   \n",
       "3                     1.45900  1.33095                   0.88521  0.66973   \n",
       "4                     1.32629  1.32261                   0.90563  0.63297   \n",
       "..                        ...      ...                       ...      ...   \n",
       "153                   0.22208  0.77370                   0.42864  0.59201   \n",
       "154                   0.28665  0.35386                   0.31910  0.48450   \n",
       "155                   0.66320  0.47489                   0.72193  0.15684   \n",
       "156                   0.01530  0.41587                   0.22396  0.11850   \n",
       "157                   0.20868  0.13995                   0.28443  0.36453   \n",
       "\n",
       "     Trust (Government Corruption)  Generosity  Dystopia Residual  \n",
       "0                          0.41978     0.29678            2.51738  \n",
       "1                          0.14145     0.43630            2.70201  \n",
       "2                          0.48357     0.34139            2.49204  \n",
       "3                          0.36503     0.34699            2.46531  \n",
       "4                          0.32957     0.45811            2.45176  \n",
       "..                             ...         ...                ...  \n",
       "153                        0.55191     0.22628            0.67042  \n",
       "154                        0.08010     0.18260            1.63328  \n",
       "155                        0.18906     0.47179            0.32858  \n",
       "156                        0.10062     0.19727            1.83302  \n",
       "157                        0.10731     0.16681            1.56726  \n",
       "\n",
       "[158 rows x 12 columns]"
      ]
     },
     "execution_count": 150,
     "metadata": {},
     "output_type": "execute_result"
    }
   ],
   "source": [
    "from sklearn.preprocessing import LabelEncoder\n",
    "\n",
    "le=LabelEncoder()\n",
    "\n",
    "df['Country']=le.fit_transform(df['Country'])\n",
    "df['Region']=le.fit_transform(df['Region'])\n",
    "\n",
    "df"
   ]
  },
  {
   "cell_type": "code",
   "execution_count": 151,
   "id": "d42fa80f",
   "metadata": {},
   "outputs": [
    {
     "data": {
      "text/plain": [
       "Country                          0\n",
       "Region                           0\n",
       "Happiness Rank                   0\n",
       "Happiness Score                  0\n",
       "Standard Error                   0\n",
       "Economy (GDP per Capita)         0\n",
       "Family                           0\n",
       "Health (Life Expectancy)         0\n",
       "Freedom                          0\n",
       "Trust (Government Corruption)    0\n",
       "Generosity                       0\n",
       "Dystopia Residual                0\n",
       "dtype: int64"
      ]
     },
     "execution_count": 151,
     "metadata": {},
     "output_type": "execute_result"
    }
   ],
   "source": [
    "df.isnull().sum()"
   ]
  },
  {
   "cell_type": "code",
   "execution_count": 152,
   "id": "78336874",
   "metadata": {},
   "outputs": [
    {
     "data": {
      "text/plain": [
       "Country                            int32\n",
       "Region                             int32\n",
       "Happiness Rank                     int64\n",
       "Happiness Score                  float64\n",
       "Standard Error                   float64\n",
       "Economy (GDP per Capita)         float64\n",
       "Family                           float64\n",
       "Health (Life Expectancy)         float64\n",
       "Freedom                          float64\n",
       "Trust (Government Corruption)    float64\n",
       "Generosity                       float64\n",
       "Dystopia Residual                float64\n",
       "dtype: object"
      ]
     },
     "execution_count": 152,
     "metadata": {},
     "output_type": "execute_result"
    }
   ],
   "source": [
    "df.dtypes"
   ]
  },
  {
   "cell_type": "markdown",
   "id": "bc2673a7",
   "metadata": {},
   "source": [
    "# EDA"
   ]
  },
  {
   "cell_type": "code",
   "execution_count": 153,
   "id": "ab8f8566",
   "metadata": {},
   "outputs": [
    {
     "data": {
      "text/plain": [
       "<AxesSubplot:xlabel='Country', ylabel='Happiness Score'>"
      ]
     },
     "execution_count": 153,
     "metadata": {},
     "output_type": "execute_result"
    },
    {
     "data": {
      "image/png": "[encoded data removed]",
      "text/plain": [
       "<Figure size 432x288 with 1 Axes>"
      ]
     },
     "metadata": {
      "needs_background": "light"
     },
     "output_type": "display_data"
    }
   ],
   "source": [
    "import seaborn as sns\n",
    "sns.scatterplot(x=\"Country\",y=\"Happiness Score\",data=df)"
   ]
  },
  {
   "cell_type": "markdown",
   "id": "47415e76",
   "metadata": {},
   "source": [
    "We can see that Switzerland has the greatest happiness score and Togo has the least happiness score."
   ]
  },
  {
   "cell_type": "code",
   "execution_count": 154,
   "id": "10fc0e1a",
   "metadata": {},
   "outputs": [
    {
     "data": {
      "text/plain": [
       "<AxesSubplot:xlabel='Happiness Rank', ylabel='Happiness Score'>"
      ]
     },
     "execution_count": 154,
     "metadata": {},
     "output_type": "execute_result"
    },
    {
     "data": {
      "image/png": "[encoded data removed]",
      "text/plain": [
       "<Figure size 432x288 with 1 Axes>"
      ]
     },
     "metadata": {
      "needs_background": "light"
     },
     "output_type": "display_data"
    }
   ],
   "source": [
    "sns.scatterplot(x=\"Happiness Rank\",y=\"Happiness Score\",data=df)"
   ]
  },
  {
   "cell_type": "markdown",
   "id": "72e493e6",
   "metadata": {},
   "source": [
    "We can see that the Happiness Score decreases with the decrease in the Happiness Rank."
   ]
  },
  {
   "cell_type": "code",
   "execution_count": 155,
   "id": "e543d467",
   "metadata": {},
   "outputs": [
    {
     "data": {
      "text/plain": [
       "<AxesSubplot:xlabel='Economy (GDP per Capita)', ylabel='Region'>"
      ]
     },
     "execution_count": 155,
     "metadata": {},
     "output_type": "execute_result"
    },
    {
     "data": {
      "image/png": "[encoded data removed]",
      "text/plain": [
       "<Figure size 432x288 with 1 Axes>"
      ]
     },
     "metadata": {
      "needs_background": "light"
     },
     "output_type": "display_data"
    }
   ],
   "source": [
    "sns.scatterplot(x=\"Economy (GDP per Capita)\",y=\"Region\",data=df)"
   ]
  },
  {
   "cell_type": "markdown",
   "id": "eed2380e",
   "metadata": {},
   "source": [
    "We can see that Western Europe countries has good score of GDP per capita when compared to others and sub-saharan African countries has least GDP score."
   ]
  },
  {
   "cell_type": "code",
   "execution_count": 156,
   "id": "d0ae0d03",
   "metadata": {},
   "outputs": [
    {
     "data": {
      "text/plain": [
       "<AxesSubplot:xlabel='Freedom', ylabel='Happiness Score'>"
      ]
     },
     "execution_count": 156,
     "metadata": {},
     "output_type": "execute_result"
    },
    {
     "data": {
      "image/png": "[encoded data removed]",
      "text/plain": [
       "<Figure size 432x288 with 1 Axes>"
      ]
     },
     "metadata": {
      "needs_background": "light"
     },
     "output_type": "display_data"
    }
   ],
   "source": [
    "sns.scatterplot(x=\"Freedom\",y=\"Happiness Score\",data=df)"
   ]
  },
  {
   "cell_type": "markdown",
   "id": "2cc990c0",
   "metadata": {},
   "source": [
    "We can observe that Happiness Score is high in the region where freedom is high."
   ]
  },
  {
   "cell_type": "code",
   "execution_count": 157,
   "id": "eb985fc5",
   "metadata": {},
   "outputs": [
    {
     "data": {
      "text/plain": [
       "<AxesSubplot:xlabel='Generosity', ylabel='Happiness Score'>"
      ]
     },
     "execution_count": 157,
     "metadata": {},
     "output_type": "execute_result"
    },
    {
     "data": {
      "image/png": "[encoded data removed]",
      "text/plain": [
       "<Figure size 432x288 with 1 Axes>"
      ]
     },
     "metadata": {
      "needs_background": "light"
     },
     "output_type": "display_data"
    }
   ],
   "source": [
    "sns.scatterplot(x=\"Generosity\",y=\"Happiness Score\",data=df)"
   ]
  },
  {
   "cell_type": "markdown",
   "id": "29c60d93",
   "metadata": {},
   "source": [
    "We can see that how Generosity level impacts the Happiness Score."
   ]
  },
  {
   "cell_type": "markdown",
   "id": "26482e67",
   "metadata": {},
   "source": [
    "# Correlation:"
   ]
  },
  {
   "cell_type": "code",
   "execution_count": 158,
   "id": "419c1298",
   "metadata": {},
   "outputs": [
    {
     "data": {
      "text/html": [
       "<div>\n",
       "<style scoped>\n",
       "    .dataframe tbody tr th:only-of-type {\n",
       "        vertical-align: middle;\n",
       "    }\n",
       "\n",
       "    .dataframe tbody tr th {\n",
       "        vertical-align: top;\n",
       "    }\n",
       "\n",
       "    .dataframe thead th {\n",
       "        text-align: right;\n",
       "    }\n",
       "</style>\n",
       "<table border=\"1\" class=\"dataframe\">\n",
       "  <thead>\n",
       "    <tr style=\"text-align: right;\">\n",
       "      <th></th>\n",
       "      <th>Country</th>\n",
       "      <th>Region</th>\n",
       "      <th>Happiness Rank</th>\n",
       "      <th>Happiness Score</th>\n",
       "      <th>Standard Error</th>\n",
       "      <th>Economy (GDP per Capita)</th>\n",
       "      <th>Family</th>\n",
       "      <th>Health (Life Expectancy)</th>\n",
       "      <th>Freedom</th>\n",
       "      <th>Trust (Government Corruption)</th>\n",
       "      <th>Generosity</th>\n",
       "      <th>Dystopia Residual</th>\n",
       "    </tr>\n",
       "  </thead>\n",
       "  <tbody>\n",
       "    <tr>\n",
       "      <th>Country</th>\n",
       "      <td>1.000000</td>\n",
       "      <td>0.005092</td>\n",
       "      <td>-0.098538</td>\n",
       "      <td>0.083380</td>\n",
       "      <td>0.033879</td>\n",
       "      <td>0.037808</td>\n",
       "      <td>0.159416</td>\n",
       "      <td>0.037829</td>\n",
       "      <td>0.085684</td>\n",
       "      <td>0.088155</td>\n",
       "      <td>0.118085</td>\n",
       "      <td>-0.019778</td>\n",
       "    </tr>\n",
       "    <tr>\n",
       "      <th>Region</th>\n",
       "      <td>0.005092</td>\n",
       "      <td>1.000000</td>\n",
       "      <td>0.213773</td>\n",
       "      <td>-0.176791</td>\n",
       "      <td>-0.022600</td>\n",
       "      <td>-0.260139</td>\n",
       "      <td>-0.168533</td>\n",
       "      <td>-0.357508</td>\n",
       "      <td>0.092567</td>\n",
       "      <td>0.165040</td>\n",
       "      <td>0.273557</td>\n",
       "      <td>-0.057276</td>\n",
       "    </tr>\n",
       "    <tr>\n",
       "      <th>Happiness Rank</th>\n",
       "      <td>-0.098538</td>\n",
       "      <td>0.213773</td>\n",
       "      <td>1.000000</td>\n",
       "      <td>-0.992105</td>\n",
       "      <td>0.158516</td>\n",
       "      <td>-0.785267</td>\n",
       "      <td>-0.733644</td>\n",
       "      <td>-0.735613</td>\n",
       "      <td>-0.556886</td>\n",
       "      <td>-0.372315</td>\n",
       "      <td>-0.160142</td>\n",
       "      <td>-0.521999</td>\n",
       "    </tr>\n",
       "    <tr>\n",
       "      <th>Happiness Score</th>\n",
       "      <td>0.083380</td>\n",
       "      <td>-0.176791</td>\n",
       "      <td>-0.992105</td>\n",
       "      <td>1.000000</td>\n",
       "      <td>-0.177254</td>\n",
       "      <td>0.780966</td>\n",
       "      <td>0.740605</td>\n",
       "      <td>0.724200</td>\n",
       "      <td>0.568211</td>\n",
       "      <td>0.395199</td>\n",
       "      <td>0.180319</td>\n",
       "      <td>0.530474</td>\n",
       "    </tr>\n",
       "    <tr>\n",
       "      <th>Standard Error</th>\n",
       "      <td>0.033879</td>\n",
       "      <td>-0.022600</td>\n",
       "      <td>0.158516</td>\n",
       "      <td>-0.177254</td>\n",
       "      <td>1.000000</td>\n",
       "      <td>-0.217651</td>\n",
       "      <td>-0.120728</td>\n",
       "      <td>-0.310287</td>\n",
       "      <td>-0.129773</td>\n",
       "      <td>-0.178325</td>\n",
       "      <td>-0.088439</td>\n",
       "      <td>0.083981</td>\n",
       "    </tr>\n",
       "    <tr>\n",
       "      <th>Economy (GDP per Capita)</th>\n",
       "      <td>0.037808</td>\n",
       "      <td>-0.260139</td>\n",
       "      <td>-0.785267</td>\n",
       "      <td>0.780966</td>\n",
       "      <td>-0.217651</td>\n",
       "      <td>1.000000</td>\n",
       "      <td>0.645299</td>\n",
       "      <td>0.816478</td>\n",
       "      <td>0.370300</td>\n",
       "      <td>0.307885</td>\n",
       "      <td>-0.010465</td>\n",
       "      <td>0.040059</td>\n",
       "    </tr>\n",
       "    <tr>\n",
       "      <th>Family</th>\n",
       "      <td>0.159416</td>\n",
       "      <td>-0.168533</td>\n",
       "      <td>-0.733644</td>\n",
       "      <td>0.740605</td>\n",
       "      <td>-0.120728</td>\n",
       "      <td>0.645299</td>\n",
       "      <td>1.000000</td>\n",
       "      <td>0.531104</td>\n",
       "      <td>0.441518</td>\n",
       "      <td>0.205605</td>\n",
       "      <td>0.087513</td>\n",
       "      <td>0.148117</td>\n",
       "    </tr>\n",
       "    <tr>\n",
       "      <th>Health (Life Expectancy)</th>\n",
       "      <td>0.037829</td>\n",
       "      <td>-0.357508</td>\n",
       "      <td>-0.735613</td>\n",
       "      <td>0.724200</td>\n",
       "      <td>-0.310287</td>\n",
       "      <td>0.816478</td>\n",
       "      <td>0.531104</td>\n",
       "      <td>1.000000</td>\n",
       "      <td>0.360477</td>\n",
       "      <td>0.248335</td>\n",
       "      <td>0.108335</td>\n",
       "      <td>0.018979</td>\n",
       "    </tr>\n",
       "    <tr>\n",
       "      <th>Freedom</th>\n",
       "      <td>0.085684</td>\n",
       "      <td>0.092567</td>\n",
       "      <td>-0.556886</td>\n",
       "      <td>0.568211</td>\n",
       "      <td>-0.129773</td>\n",
       "      <td>0.370300</td>\n",
       "      <td>0.441518</td>\n",
       "      <td>0.360477</td>\n",
       "      <td>1.000000</td>\n",
       "      <td>0.493524</td>\n",
       "      <td>0.373916</td>\n",
       "      <td>0.062783</td>\n",
       "    </tr>\n",
       "    <tr>\n",
       "      <th>Trust (Government Corruption)</th>\n",
       "      <td>0.088155</td>\n",
       "      <td>0.165040</td>\n",
       "      <td>-0.372315</td>\n",
       "      <td>0.395199</td>\n",
       "      <td>-0.178325</td>\n",
       "      <td>0.307885</td>\n",
       "      <td>0.205605</td>\n",
       "      <td>0.248335</td>\n",
       "      <td>0.493524</td>\n",
       "      <td>1.000000</td>\n",
       "      <td>0.276123</td>\n",
       "      <td>-0.033105</td>\n",
       "    </tr>\n",
       "    <tr>\n",
       "      <th>Generosity</th>\n",
       "      <td>0.118085</td>\n",
       "      <td>0.273557</td>\n",
       "      <td>-0.160142</td>\n",
       "      <td>0.180319</td>\n",
       "      <td>-0.088439</td>\n",
       "      <td>-0.010465</td>\n",
       "      <td>0.087513</td>\n",
       "      <td>0.108335</td>\n",
       "      <td>0.373916</td>\n",
       "      <td>0.276123</td>\n",
       "      <td>1.000000</td>\n",
       "      <td>-0.101301</td>\n",
       "    </tr>\n",
       "    <tr>\n",
       "      <th>Dystopia Residual</th>\n",
       "      <td>-0.019778</td>\n",
       "      <td>-0.057276</td>\n",
       "      <td>-0.521999</td>\n",
       "      <td>0.530474</td>\n",
       "      <td>0.083981</td>\n",
       "      <td>0.040059</td>\n",
       "      <td>0.148117</td>\n",
       "      <td>0.018979</td>\n",
       "      <td>0.062783</td>\n",
       "      <td>-0.033105</td>\n",
       "      <td>-0.101301</td>\n",
       "      <td>1.000000</td>\n",
       "    </tr>\n",
       "  </tbody>\n",
       "</table>\n",
       "</div>"
      ],
      "text/plain": [
       "                                Country    Region  Happiness Rank  \\\n",
       "Country                        1.000000  0.005092       -0.098538   \n",
       "Region                         0.005092  1.000000        0.213773   \n",
       "Happiness Rank                -0.098538  0.213773        1.000000   \n",
       "Happiness Score                0.083380 -0.176791       -0.992105   \n",
       "Standard Error                 0.033879 -0.022600        0.158516   \n",
       "Economy (GDP per Capita)       0.037808 -0.260139       -0.785267   \n",
       "Family                         0.159416 -0.168533       -0.733644   \n",
       "Health (Life Expectancy)       0.037829 -0.357508       -0.735613   \n",
       "Freedom                        0.085684  0.092567       -0.556886   \n",
       "Trust (Government Corruption)  0.088155  0.165040       -0.372315   \n",
       "Generosity                     0.118085  0.273557       -0.160142   \n",
       "Dystopia Residual             -0.019778 -0.057276       -0.521999   \n",
       "\n",
       "                               Happiness Score  Standard Error  \\\n",
       "Country                               0.083380        0.033879   \n",
       "Region                               -0.176791       -0.022600   \n",
       "Happiness Rank                       -0.992105        0.158516   \n",
       "Happiness Score                       1.000000       -0.177254   \n",
       "Standard Error                       -0.177254        1.000000   \n",
       "Economy (GDP per Capita)              0.780966       -0.217651   \n",
       "Family                                0.740605       -0.120728   \n",
       "Health (Life Expectancy)              0.724200       -0.310287   \n",
       "Freedom                               0.568211       -0.129773   \n",
       "Trust (Government Corruption)         0.395199       -0.178325   \n",
       "Generosity                            0.180319       -0.088439   \n",
       "Dystopia Residual                     0.530474        0.083981   \n",
       "\n",
       "                               Economy (GDP per Capita)    Family  \\\n",
       "Country                                        0.037808  0.159416   \n",
       "Region                                        -0.260139 -0.168533   \n",
       "Happiness Rank                                -0.785267 -0.733644   \n",
       "Happiness Score                                0.780966  0.740605   \n",
       "Standard Error                                -0.217651 -0.120728   \n",
       "Economy (GDP per Capita)                       1.000000  0.645299   \n",
       "Family                                         0.645299  1.000000   \n",
       "Health (Life Expectancy)                       0.816478  0.531104   \n",
       "Freedom                                        0.370300  0.441518   \n",
       "Trust (Government Corruption)                  0.307885  0.205605   \n",
       "Generosity                                    -0.010465  0.087513   \n",
       "Dystopia Residual                              0.040059  0.148117   \n",
       "\n",
       "                               Health (Life Expectancy)   Freedom  \\\n",
       "Country                                        0.037829  0.085684   \n",
       "Region                                        -0.357508  0.092567   \n",
       "Happiness Rank                                -0.735613 -0.556886   \n",
       "Happiness Score                                0.724200  0.568211   \n",
       "Standard Error                                -0.310287 -0.129773   \n",
       "Economy (GDP per Capita)                       0.816478  0.370300   \n",
       "Family                                         0.531104  0.441518   \n",
       "Health (Life Expectancy)                       1.000000  0.360477   \n",
       "Freedom                                        0.360477  1.000000   \n",
       "Trust (Government Corruption)                  0.248335  0.493524   \n",
       "Generosity                                     0.108335  0.373916   \n",
       "Dystopia Residual                              0.018979  0.062783   \n",
       "\n",
       "                               Trust (Government Corruption)  Generosity  \\\n",
       "Country                                             0.088155    0.118085   \n",
       "Region                                              0.165040    0.273557   \n",
       "Happiness Rank                                     -0.372315   -0.160142   \n",
       "Happiness Score                                     0.395199    0.180319   \n",
       "Standard Error                                     -0.178325   -0.088439   \n",
       "Economy (GDP per Capita)                            0.307885   -0.010465   \n",
       "Family                                              0.205605    0.087513   \n",
       "Health (Life Expectancy)                            0.248335    0.108335   \n",
       "Freedom                                             0.493524    0.373916   \n",
       "Trust (Government Corruption)                       1.000000    0.276123   \n",
       "Generosity                                          0.276123    1.000000   \n",
       "Dystopia Residual                                  -0.033105   -0.101301   \n",
       "\n",
       "                               Dystopia Residual  \n",
       "Country                                -0.019778  \n",
       "Region                                 -0.057276  \n",
       "Happiness Rank                         -0.521999  \n",
       "Happiness Score                         0.530474  \n",
       "Standard Error                          0.083981  \n",
       "Economy (GDP per Capita)                0.040059  \n",
       "Family                                  0.148117  \n",
       "Health (Life Expectancy)                0.018979  \n",
       "Freedom                                 0.062783  \n",
       "Trust (Government Corruption)          -0.033105  \n",
       "Generosity                             -0.101301  \n",
       "Dystopia Residual                       1.000000  "
      ]
     },
     "execution_count": 158,
     "metadata": {},
     "output_type": "execute_result"
    }
   ],
   "source": [
    "df.corr()"
   ]
  },
  {
   "cell_type": "markdown",
   "id": "8f3c4457",
   "metadata": {},
   "source": [
    "Correlation using heatmap:"
   ]
  },
  {
   "cell_type": "code",
   "execution_count": 159,
   "id": "1835bdca",
   "metadata": {},
   "outputs": [
    {
     "data": {
      "text/plain": [
       "<AxesSubplot:>"
      ]
     },
     "execution_count": 159,
     "metadata": {},
     "output_type": "execute_result"
    },
    {
     "data": {
      "image/png": "[encoded data removed]",
      "text/plain": [
       "<Figure size 1080x504 with 2 Axes>"
      ]
     },
     "metadata": {
      "needs_background": "light"
     },
     "output_type": "display_data"
    }
   ],
   "source": [
    "import matplotlib.pyplot as plt\n",
    "plt.figure(figsize=(15,7))\n",
    "sns.heatmap(df.corr(), annot= True, linewidth=0.5, linecolor=\"black\", fmt='.2f')"
   ]
  },
  {
   "cell_type": "markdown",
   "id": "145184ef",
   "metadata": {},
   "source": [
    "# Outcome Of Correlation:"
   ]
  },
  {
   "cell_type": "markdown",
   "id": "af57b7e0",
   "metadata": {},
   "source": [
    "We can see that most of tht columns of the datset are positively correlated to the target column while few are negatively correlated.\n",
    "Country has 8% correlation with the target column which is not a good bond.\n",
    "Region has 18% correlation with the target column which is not a good bond.\n",
    "Happiness Rank has 99% correlation with the target column which is a strong bond.\n",
    "Standard Error has 18% correlation with the target column which is not a good bond.\n",
    "Economy has 78% correlation with the target column which is a great bond.\n",
    "Family has 74% correlation with the target column which is a great bond.\n",
    "Health has 8% correlation with the target column which is again a great bond.\n",
    "Freedom has 57% correlation with the target column which a good bond.\n",
    "Trust(Government Corruption) has 40% correlation with the target column which a good bond.\n",
    "Generosity has 18% correlation with the target column which is not a good bond.\n",
    "Dystopia Residual has 53% correlation with the target column which is a good bond.\n",
    "\n",
    "Max. Correlation:Happiness Rank\n",
    "\n",
    "Min. Correlation:Country,Region and Generosity\n",
    "\n",
    "\n",
    "\n",
    "\n",
    "\n",
    "\n"
   ]
  },
  {
   "cell_type": "markdown",
   "id": "47be4750",
   "metadata": {},
   "source": [
    "Describing datasets:"
   ]
  },
  {
   "cell_type": "code",
   "execution_count": 160,
   "id": "f787efad",
   "metadata": {},
   "outputs": [
    {
     "data": {
      "text/html": [
       "<div>\n",
       "<style scoped>\n",
       "    .dataframe tbody tr th:only-of-type {\n",
       "        vertical-align: middle;\n",
       "    }\n",
       "\n",
       "    .dataframe tbody tr th {\n",
       "        vertical-align: top;\n",
       "    }\n",
       "\n",
       "    .dataframe thead th {\n",
       "        text-align: right;\n",
       "    }\n",
       "</style>\n",
       "<table border=\"1\" class=\"dataframe\">\n",
       "  <thead>\n",
       "    <tr style=\"text-align: right;\">\n",
       "      <th></th>\n",
       "      <th>Country</th>\n",
       "      <th>Region</th>\n",
       "      <th>Happiness Rank</th>\n",
       "      <th>Happiness Score</th>\n",
       "      <th>Standard Error</th>\n",
       "      <th>Economy (GDP per Capita)</th>\n",
       "      <th>Family</th>\n",
       "      <th>Health (Life Expectancy)</th>\n",
       "      <th>Freedom</th>\n",
       "      <th>Trust (Government Corruption)</th>\n",
       "      <th>Generosity</th>\n",
       "      <th>Dystopia Residual</th>\n",
       "    </tr>\n",
       "  </thead>\n",
       "  <tbody>\n",
       "    <tr>\n",
       "      <th>count</th>\n",
       "      <td>158.000000</td>\n",
       "      <td>158.000000</td>\n",
       "      <td>158.000000</td>\n",
       "      <td>158.000000</td>\n",
       "      <td>158.000000</td>\n",
       "      <td>158.000000</td>\n",
       "      <td>158.000000</td>\n",
       "      <td>158.000000</td>\n",
       "      <td>158.000000</td>\n",
       "      <td>158.000000</td>\n",
       "      <td>158.000000</td>\n",
       "      <td>158.000000</td>\n",
       "    </tr>\n",
       "    <tr>\n",
       "      <th>mean</th>\n",
       "      <td>78.500000</td>\n",
       "      <td>5.120253</td>\n",
       "      <td>79.493671</td>\n",
       "      <td>5.375734</td>\n",
       "      <td>0.047885</td>\n",
       "      <td>0.846137</td>\n",
       "      <td>0.991046</td>\n",
       "      <td>0.630259</td>\n",
       "      <td>0.428615</td>\n",
       "      <td>0.143422</td>\n",
       "      <td>0.237296</td>\n",
       "      <td>2.098977</td>\n",
       "    </tr>\n",
       "    <tr>\n",
       "      <th>std</th>\n",
       "      <td>45.754781</td>\n",
       "      <td>2.993321</td>\n",
       "      <td>45.754363</td>\n",
       "      <td>1.145010</td>\n",
       "      <td>0.017146</td>\n",
       "      <td>0.403121</td>\n",
       "      <td>0.272369</td>\n",
       "      <td>0.247078</td>\n",
       "      <td>0.150693</td>\n",
       "      <td>0.120034</td>\n",
       "      <td>0.126685</td>\n",
       "      <td>0.553550</td>\n",
       "    </tr>\n",
       "    <tr>\n",
       "      <th>min</th>\n",
       "      <td>0.000000</td>\n",
       "      <td>0.000000</td>\n",
       "      <td>1.000000</td>\n",
       "      <td>2.839000</td>\n",
       "      <td>0.018480</td>\n",
       "      <td>0.000000</td>\n",
       "      <td>0.000000</td>\n",
       "      <td>0.000000</td>\n",
       "      <td>0.000000</td>\n",
       "      <td>0.000000</td>\n",
       "      <td>0.000000</td>\n",
       "      <td>0.328580</td>\n",
       "    </tr>\n",
       "    <tr>\n",
       "      <th>25%</th>\n",
       "      <td>39.250000</td>\n",
       "      <td>3.000000</td>\n",
       "      <td>40.250000</td>\n",
       "      <td>4.526000</td>\n",
       "      <td>0.037268</td>\n",
       "      <td>0.545808</td>\n",
       "      <td>0.856823</td>\n",
       "      <td>0.439185</td>\n",
       "      <td>0.328330</td>\n",
       "      <td>0.061675</td>\n",
       "      <td>0.150553</td>\n",
       "      <td>1.759410</td>\n",
       "    </tr>\n",
       "    <tr>\n",
       "      <th>50%</th>\n",
       "      <td>78.500000</td>\n",
       "      <td>4.500000</td>\n",
       "      <td>79.500000</td>\n",
       "      <td>5.232500</td>\n",
       "      <td>0.043940</td>\n",
       "      <td>0.910245</td>\n",
       "      <td>1.029510</td>\n",
       "      <td>0.696705</td>\n",
       "      <td>0.435515</td>\n",
       "      <td>0.107220</td>\n",
       "      <td>0.216130</td>\n",
       "      <td>2.095415</td>\n",
       "    </tr>\n",
       "    <tr>\n",
       "      <th>75%</th>\n",
       "      <td>117.750000</td>\n",
       "      <td>8.000000</td>\n",
       "      <td>118.750000</td>\n",
       "      <td>6.243750</td>\n",
       "      <td>0.052300</td>\n",
       "      <td>1.158448</td>\n",
       "      <td>1.214405</td>\n",
       "      <td>0.811013</td>\n",
       "      <td>0.549092</td>\n",
       "      <td>0.180255</td>\n",
       "      <td>0.309883</td>\n",
       "      <td>2.462415</td>\n",
       "    </tr>\n",
       "    <tr>\n",
       "      <th>max</th>\n",
       "      <td>157.000000</td>\n",
       "      <td>9.000000</td>\n",
       "      <td>158.000000</td>\n",
       "      <td>7.587000</td>\n",
       "      <td>0.136930</td>\n",
       "      <td>1.690420</td>\n",
       "      <td>1.402230</td>\n",
       "      <td>1.025250</td>\n",
       "      <td>0.669730</td>\n",
       "      <td>0.551910</td>\n",
       "      <td>0.795880</td>\n",
       "      <td>3.602140</td>\n",
       "    </tr>\n",
       "  </tbody>\n",
       "</table>\n",
       "</div>"
      ],
      "text/plain": [
       "          Country      Region  Happiness Rank  Happiness Score  \\\n",
       "count  158.000000  158.000000      158.000000       158.000000   \n",
       "mean    78.500000    5.120253       79.493671         5.375734   \n",
       "std     45.754781    2.993321       45.754363         1.145010   \n",
       "min      0.000000    0.000000        1.000000         2.839000   \n",
       "25%     39.250000    3.000000       40.250000         4.526000   \n",
       "50%     78.500000    4.500000       79.500000         5.232500   \n",
       "75%    117.750000    8.000000      118.750000         6.243750   \n",
       "max    157.000000    9.000000      158.000000         7.587000   \n",
       "\n",
       "       Standard Error  Economy (GDP per Capita)      Family  \\\n",
       "count      158.000000                158.000000  158.000000   \n",
       "mean         0.047885                  0.846137    0.991046   \n",
       "std          0.017146                  0.403121    0.272369   \n",
       "min          0.018480                  0.000000    0.000000   \n",
       "25%          0.037268                  0.545808    0.856823   \n",
       "50%          0.043940                  0.910245    1.029510   \n",
       "75%          0.052300                  1.158448    1.214405   \n",
       "max          0.136930                  1.690420    1.402230   \n",
       "\n",
       "       Health (Life Expectancy)     Freedom  Trust (Government Corruption)  \\\n",
       "count                158.000000  158.000000                     158.000000   \n",
       "mean                   0.630259    0.428615                       0.143422   \n",
       "std                    0.247078    0.150693                       0.120034   \n",
       "min                    0.000000    0.000000                       0.000000   \n",
       "25%                    0.439185    0.328330                       0.061675   \n",
       "50%                    0.696705    0.435515                       0.107220   \n",
       "75%                    0.811013    0.549092                       0.180255   \n",
       "max                    1.025250    0.669730                       0.551910   \n",
       "\n",
       "       Generosity  Dystopia Residual  \n",
       "count  158.000000         158.000000  \n",
       "mean     0.237296           2.098977  \n",
       "std      0.126685           0.553550  \n",
       "min      0.000000           0.328580  \n",
       "25%      0.150553           1.759410  \n",
       "50%      0.216130           2.095415  \n",
       "75%      0.309883           2.462415  \n",
       "max      0.795880           3.602140  "
      ]
     },
     "execution_count": 160,
     "metadata": {},
     "output_type": "execute_result"
    }
   ],
   "source": [
    "df.describe()"
   ]
  },
  {
   "cell_type": "code",
   "execution_count": 161,
   "id": "69880827",
   "metadata": {},
   "outputs": [
    {
     "data": {
      "image/png": "[encoded data removed]",
      "text/plain": [
       "<Figure size 1080x864 with 2 Axes>"
      ]
     },
     "metadata": {
      "needs_background": "light"
     },
     "output_type": "display_data"
    }
   ],
   "source": [
    "plt.figure(figsize=(15,12))\n",
    "sns.heatmap(round(df.describe()[1:].transpose(),2), linewidth=2, annot= True, fmt='f')\n",
    "plt.xticks(fontsize=18)\n",
    "plt.yticks(fontsize=12)\n",
    "plt.title(\"Variable Summary\")\n",
    "plt.show()"
   ]
  },
  {
   "cell_type": "markdown",
   "id": "32689fb8",
   "metadata": {},
   "source": [
    "Outcome of describe of datasets:"
   ]
  },
  {
   "cell_type": "raw",
   "id": "5b94bb97",
   "metadata": {},
   "source": [
    "From the above plotting we are determining mean, standard deviation, minimum and maximum value pf each column.\n",
    "\n",
    "158 rows\n",
    "12 columns\n",
    "\n",
    "Country:\n",
    "    1.Mean=78.500000\n",
    "    2.std=45.754781\n",
    "    3.max_value=157.000000\n",
    "    4.min_value=0\n",
    "    \n",
    "Region:\n",
    "    1.Mean=5.120253\n",
    "    2.std=2.993321\n",
    "    3.max_value=9.000000\n",
    "    4.min_value=0\n",
    "    \n",
    "Happiness Rank:\n",
    "    1.Mean=79.493671\n",
    "    2.std=45.754363\n",
    "    3.max_value=158.000000\n",
    "    4.min_value=1.000000\n",
    "    \n",
    "Happiness Score:\n",
    "    1.Mean=5.375734\n",
    "    2.std=1.145010\n",
    "    3.max_value=7.587000\n",
    "    4.min_value=2.839000\n",
    "    \n",
    "Standard Error:\n",
    "    1.Mean=0.047885\n",
    "    2.std=0.017146\n",
    "    3.max_value=0.136930\n",
    "    4.min_value=0.018480\n",
    "    \n",
    "Economy(GDP Per Capita):\n",
    "    1.Mean=0.846137\n",
    "    2.std=0.403121\n",
    "    3.max_value=1.690420\n",
    "    4.min_value=0\n",
    "    \n",
    "Family:\n",
    "    1.Mean=0.991046\n",
    "    2.std=0.272369\n",
    "    3.max_value=1.402230\n",
    "    4.min_value=0\n",
    "    \n",
    "Health(Life Expectancy):\n",
    "    1.Mean=0.630259\n",
    "    2.std=0.247078\n",
    "    3.max_value=1.025250\n",
    "    4.min_value=0\n",
    "    \n",
    "Freedom:\n",
    "    1.Mean=0.428615\n",
    "    2.std=0.150693\n",
    "    3.max_value=0.669730\n",
    "    4.min_value=0\n",
    "\n",
    "Trust(Government Corruption):\n",
    "    1.Mean=0.143422\n",
    "    2.std=0.120034\n",
    "    3.max_value=0.551910\n",
    "    4.min_value=0\n",
    "    \n",
    "Generosity:\n",
    "    1.Mean=0.237296\n",
    "    2.std=0.126685\n",
    "    3.max_value=0.795880\n",
    "    4.min_value=0\n",
    "    \n",
    "Dystopia Residual:\n",
    "    1.Mean=2.098977\n",
    "    2.std=0.553550\n",
    "    3.max_value=3.602140\n",
    "    4.min_value=0.328580"
   ]
  },
  {
   "cell_type": "code",
   "execution_count": 162,
   "id": "a917ac8b",
   "metadata": {},
   "outputs": [
    {
     "name": "stdout",
     "output_type": "stream",
     "text": [
      "<class 'pandas.core.frame.DataFrame'>\n",
      "RangeIndex: 158 entries, 0 to 157\n",
      "Data columns (total 12 columns):\n",
      " #   Column                         Non-Null Count  Dtype  \n",
      "---  ------                         --------------  -----  \n",
      " 0   Country                        158 non-null    int32  \n",
      " 1   Region                         158 non-null    int32  \n",
      " 2   Happiness Rank                 158 non-null    int64  \n",
      " 3   Happiness Score                158 non-null    float64\n",
      " 4   Standard Error                 158 non-null    float64\n",
      " 5   Economy (GDP per Capita)       158 non-null    float64\n",
      " 6   Family                         158 non-null    float64\n",
      " 7   Health (Life Expectancy)       158 non-null    float64\n",
      " 8   Freedom                        158 non-null    float64\n",
      " 9   Trust (Government Corruption)  158 non-null    float64\n",
      " 10  Generosity                     158 non-null    float64\n",
      " 11  Dystopia Residual              158 non-null    float64\n",
      "dtypes: float64(9), int32(2), int64(1)\n",
      "memory usage: 13.7 KB\n"
     ]
    }
   ],
   "source": [
    "df.info()"
   ]
  },
  {
   "cell_type": "markdown",
   "id": "803c84ec",
   "metadata": {},
   "source": [
    "Outliers Checking:"
   ]
  },
  {
   "cell_type": "code",
   "execution_count": 163,
   "id": "82b9fd16",
   "metadata": {},
   "outputs": [
    {
     "data": {
      "text/plain": [
       "Country                             AxesSubplot(0.125,0.536818;0.110714x0.343182)\n",
       "Region                           AxesSubplot(0.257857,0.536818;0.110714x0.343182)\n",
       "Happiness Rank                   AxesSubplot(0.390714,0.536818;0.110714x0.343182)\n",
       "Happiness Score                  AxesSubplot(0.523571,0.536818;0.110714x0.343182)\n",
       "Standard Error                   AxesSubplot(0.656429,0.536818;0.110714x0.343182)\n",
       "Economy (GDP per Capita)         AxesSubplot(0.789286,0.536818;0.110714x0.343182)\n",
       "Family                                 AxesSubplot(0.125,0.125;0.110714x0.343182)\n",
       "Health (Life Expectancy)            AxesSubplot(0.257857,0.125;0.110714x0.343182)\n",
       "Freedom                             AxesSubplot(0.390714,0.125;0.110714x0.343182)\n",
       "Trust (Government Corruption)       AxesSubplot(0.523571,0.125;0.110714x0.343182)\n",
       "Generosity                          AxesSubplot(0.656429,0.125;0.110714x0.343182)\n",
       "Dystopia Residual                   AxesSubplot(0.789286,0.125;0.110714x0.343182)\n",
       "dtype: object"
      ]
     },
     "execution_count": 163,
     "metadata": {},
     "output_type": "execute_result"
    },
    {
     "data": {
      "image/png": "[encoded data removed]",
      "text/plain": [
       "<Figure size 720x720 with 12 Axes>"
      ]
     },
     "metadata": {
      "needs_background": "light"
     },
     "output_type": "display_data"
    }
   ],
   "source": [
    "df.plot(kind='box',subplots=True,layout=(2,6),figsize=(10,10),color='green')"
   ]
  },
  {
   "cell_type": "raw",
   "id": "0a7e4734",
   "metadata": {},
   "source": [
    "From the above plot, we can see that columns[Family,Generosity,Dystopia Residual] has less outliers.\n",
    "columns[Standard Error,Trust(Government Corruption)] has more outliers\n",
    "while the columns[Country,Region,Happiness Rank,Happiness Score,Economy(GDP per Capita),Health(Life Expectancy),Freedom] has no outliers."
   ]
  },
  {
   "cell_type": "markdown",
   "id": "31d91da4",
   "metadata": {},
   "source": [
    "# Skewness:"
   ]
  },
  {
   "cell_type": "code",
   "execution_count": 164,
   "id": "5315cdae",
   "metadata": {},
   "outputs": [
    {
     "data": {
      "text/plain": [
       "Country                          0.000000\n",
       "Region                          -0.116119\n",
       "Happiness Rank                   0.000418\n",
       "Happiness Score                  0.097769\n",
       "Standard Error                   1.983439\n",
       "Economy (GDP per Capita)        -0.317575\n",
       "Family                          -1.006893\n",
       "Health (Life Expectancy)        -0.705328\n",
       "Freedom                         -0.413462\n",
       "Trust (Government Corruption)    1.385463\n",
       "Generosity                       1.001961\n",
       "Dystopia Residual               -0.238911\n",
       "dtype: float64"
      ]
     },
     "execution_count": 164,
     "metadata": {},
     "output_type": "execute_result"
    }
   ],
   "source": [
    "df.skew()"
   ]
  },
  {
   "cell_type": "raw",
   "id": "aabdb78e",
   "metadata": {},
   "source": [
    "Outcome of skewness:Skewness threshold is taken as +/-0.5. \n",
    "columns which are having skewness:\n",
    "    Region\n",
    "    Standard Error\n",
    "    Family\n",
    "    Health(Life Expectancy)\n",
    "    Trust(Government Corruption)\n",
    "    Generosity\n",
    "    "
   ]
  },
  {
   "cell_type": "markdown",
   "id": "c9d715de",
   "metadata": {},
   "source": [
    "# Normal Distribution Curve:"
   ]
  },
  {
   "cell_type": "code",
   "execution_count": 165,
   "id": "625f7311",
   "metadata": {},
   "outputs": [
    {
     "data": {
      "text/plain": [
       "<AxesSubplot:xlabel='Country', ylabel='Density'>"
      ]
     },
     "execution_count": 165,
     "metadata": {},
     "output_type": "execute_result"
    },
    {
     "data": {
      "image/png": "[encoded data removed]",
      "text/plain": [
       "<Figure size 432x288 with 1 Axes>"
      ]
     },
     "metadata": {
      "needs_background": "light"
     },
     "output_type": "display_data"
    }
   ],
   "source": [
    "sns.distplot(df[\"Country\"])"
   ]
  },
  {
   "cell_type": "markdown",
   "id": "5efd21b7",
   "metadata": {},
   "source": [
    "The data of the Country column is not normaised. The building blocks is out of the normalised curve."
   ]
  },
  {
   "cell_type": "code",
   "execution_count": 166,
   "id": "375a190b",
   "metadata": {},
   "outputs": [
    {
     "data": {
      "text/plain": [
       "<AxesSubplot:xlabel='Region', ylabel='Density'>"
      ]
     },
     "execution_count": 166,
     "metadata": {},
     "output_type": "execute_result"
    },
    {
     "data": {
      "image/png": "[encoded data removed]",
      "text/plain": [
       "<Figure size 432x288 with 1 Axes>"
      ]
     },
     "metadata": {
      "needs_background": "light"
     },
     "output_type": "display_data"
    }
   ],
   "source": [
    "sns.distplot(df[\"Region\"])"
   ]
  },
  {
   "cell_type": "markdown",
   "id": "f19393ea",
   "metadata": {},
   "source": [
    "The data of the Region column is not normaised. The building blocks is out of the normalised curve."
   ]
  },
  {
   "cell_type": "code",
   "execution_count": 167,
   "id": "0459f35b",
   "metadata": {},
   "outputs": [
    {
     "data": {
      "text/plain": [
       "<AxesSubplot:xlabel='Happiness Rank', ylabel='Density'>"
      ]
     },
     "execution_count": 167,
     "metadata": {},
     "output_type": "execute_result"
    },
    {
     "data": {
      "image/png": "[encoded data removed]",
      "text/plain": [
       "<Figure size 432x288 with 1 Axes>"
      ]
     },
     "metadata": {
      "needs_background": "light"
     },
     "output_type": "display_data"
    }
   ],
   "source": [
    "sns.distplot(df[\"Happiness Rank\"])"
   ]
  },
  {
   "cell_type": "markdown",
   "id": "314e8824",
   "metadata": {},
   "source": [
    "The data of the Happiness Rank column is not normaised. The building blocks is out of the normalised curve."
   ]
  },
  {
   "cell_type": "code",
   "execution_count": 168,
   "id": "b23da214",
   "metadata": {},
   "outputs": [
    {
     "data": {
      "text/plain": [
       "<AxesSubplot:xlabel='Happiness Score', ylabel='Density'>"
      ]
     },
     "execution_count": 168,
     "metadata": {},
     "output_type": "execute_result"
    },
    {
     "data": {
      "image/png": "[encoded data removed]",
      "text/plain": [
       "<Figure size 432x288 with 1 Axes>"
      ]
     },
     "metadata": {
      "needs_background": "light"
     },
     "output_type": "display_data"
    }
   ],
   "source": [
    "sns.distplot(df[\"Happiness Score\"])"
   ]
  },
  {
   "cell_type": "markdown",
   "id": "8459b9f5",
   "metadata": {},
   "source": [
    "The data of the Happiness Score column is not normaised. The building blocks is out of the normalised curve."
   ]
  },
  {
   "cell_type": "code",
   "execution_count": 169,
   "id": "005a429a",
   "metadata": {},
   "outputs": [
    {
     "data": {
      "text/plain": [
       "<AxesSubplot:xlabel='Standard Error', ylabel='Density'>"
      ]
     },
     "execution_count": 169,
     "metadata": {},
     "output_type": "execute_result"
    },
    {
     "data": {
      "image/png": "[encoded data removed]",
      "text/plain": [
       "<Figure size 432x288 with 1 Axes>"
      ]
     },
     "metadata": {
      "needs_background": "light"
     },
     "output_type": "display_data"
    }
   ],
   "source": [
    "sns.distplot(df[\"Standard Error\"])"
   ]
  },
  {
   "cell_type": "markdown",
   "id": "6b95f52a",
   "metadata": {},
   "source": [
    "The data of the Standard Error column is not normaised. The building blocks is out of the normalised curve."
   ]
  },
  {
   "cell_type": "code",
   "execution_count": 170,
   "id": "89fddcb5",
   "metadata": {},
   "outputs": [
    {
     "data": {
      "text/plain": [
       "<AxesSubplot:xlabel='Economy (GDP per Capita)', ylabel='Density'>"
      ]
     },
     "execution_count": 170,
     "metadata": {},
     "output_type": "execute_result"
    },
    {
     "data": {
      "image/png": "[encoded data removed]",
      "text/plain": [
       "<Figure size 432x288 with 1 Axes>"
      ]
     },
     "metadata": {
      "needs_background": "light"
     },
     "output_type": "display_data"
    }
   ],
   "source": [
    "sns.distplot(df[\"Economy (GDP per Capita)\"])"
   ]
  },
  {
   "cell_type": "markdown",
   "id": "69625529",
   "metadata": {},
   "source": [
    "The data of the Economy (GDP per Capita) column is not normaised. The building blocks is out of the normalised curve."
   ]
  },
  {
   "cell_type": "code",
   "execution_count": 171,
   "id": "b36555a2",
   "metadata": {},
   "outputs": [
    {
     "data": {
      "text/plain": [
       "<AxesSubplot:xlabel='Family', ylabel='Density'>"
      ]
     },
     "execution_count": 171,
     "metadata": {},
     "output_type": "execute_result"
    },
    {
     "data": {
      "image/png": "[encoded data removed]",
      "text/plain": [
       "<Figure size 432x288 with 1 Axes>"
      ]
     },
     "metadata": {
      "needs_background": "light"
     },
     "output_type": "display_data"
    }
   ],
   "source": [
    "sns.distplot(df[\"Family\"])"
   ]
  },
  {
   "cell_type": "markdown",
   "id": "843cead2",
   "metadata": {},
   "source": [
    "The data of the Family column is not normaised. The building blocks is out of the normalised curve."
   ]
  },
  {
   "cell_type": "code",
   "execution_count": 172,
   "id": "33bd155e",
   "metadata": {},
   "outputs": [
    {
     "data": {
      "text/plain": [
       "<AxesSubplot:xlabel='Health (Life Expectancy)', ylabel='Density'>"
      ]
     },
     "execution_count": 172,
     "metadata": {},
     "output_type": "execute_result"
    },
    {
     "data": {
      "image/png": "[encoded data removed]",
      "text/plain": [
       "<Figure size 432x288 with 1 Axes>"
      ]
     },
     "metadata": {
      "needs_background": "light"
     },
     "output_type": "display_data"
    }
   ],
   "source": [
    "sns.distplot(df[\"Health (Life Expectancy)\"])"
   ]
  },
  {
   "cell_type": "markdown",
   "id": "b4bfdcc6",
   "metadata": {},
   "source": [
    "The data of the Health(Life Expectancy) column is not normaised. The building blocks is out of the normalised curve."
   ]
  },
  {
   "cell_type": "code",
   "execution_count": 173,
   "id": "de3656f5",
   "metadata": {},
   "outputs": [
    {
     "data": {
      "text/plain": [
       "<AxesSubplot:xlabel='Freedom', ylabel='Density'>"
      ]
     },
     "execution_count": 173,
     "metadata": {},
     "output_type": "execute_result"
    },
    {
     "data": {
      "image/png": "[encoded data removed]",
      "text/plain": [
       "<Figure size 432x288 with 1 Axes>"
      ]
     },
     "metadata": {
      "needs_background": "light"
     },
     "output_type": "display_data"
    }
   ],
   "source": [
    "sns.distplot(df[\"Freedom\"])"
   ]
  },
  {
   "cell_type": "markdown",
   "id": "32f8f241",
   "metadata": {},
   "source": [
    "The data of the Freedom column is not normaised. The building blocks is out of the normalised curve."
   ]
  },
  {
   "cell_type": "code",
   "execution_count": 174,
   "id": "b275fe2e",
   "metadata": {},
   "outputs": [
    {
     "data": {
      "text/plain": [
       "<AxesSubplot:xlabel='Trust (Government Corruption)', ylabel='Density'>"
      ]
     },
     "execution_count": 174,
     "metadata": {},
     "output_type": "execute_result"
    },
    {
     "data": {
      "image/png": "[encoded data removed]",
      "text/plain": [
       "<Figure size 432x288 with 1 Axes>"
      ]
     },
     "metadata": {
      "needs_background": "light"
     },
     "output_type": "display_data"
    }
   ],
   "source": [
    "sns.distplot(df[\"Trust (Government Corruption)\"])"
   ]
  },
  {
   "cell_type": "markdown",
   "id": "0d1c1ae5",
   "metadata": {},
   "source": [
    "The data of the Trust(Government Corruption) column is not normaised. The building blocks is out of the normalised curve."
   ]
  },
  {
   "cell_type": "code",
   "execution_count": 175,
   "id": "ffc08c9c",
   "metadata": {},
   "outputs": [
    {
     "data": {
      "text/plain": [
       "<AxesSubplot:xlabel='Generosity', ylabel='Density'>"
      ]
     },
     "execution_count": 175,
     "metadata": {},
     "output_type": "execute_result"
    },
    {
     "data": {
      "image/png": "[encoded data removed]",
      "text/plain": [
       "<Figure size 432x288 with 1 Axes>"
      ]
     },
     "metadata": {
      "needs_background": "light"
     },
     "output_type": "display_data"
    }
   ],
   "source": [
    "sns.distplot(df[\"Generosity\"])"
   ]
  },
  {
   "cell_type": "markdown",
   "id": "8602b07d",
   "metadata": {},
   "source": [
    "The data of the Generosity column is not normaised. The building blocks is out of the normalised curve."
   ]
  },
  {
   "cell_type": "code",
   "execution_count": 176,
   "id": "b2d11a00",
   "metadata": {},
   "outputs": [
    {
     "data": {
      "text/plain": [
       "<AxesSubplot:xlabel='Dystopia Residual', ylabel='Density'>"
      ]
     },
     "execution_count": 176,
     "metadata": {},
     "output_type": "execute_result"
    },
    {
     "data": {
      "image/png": "[encoded data removed]",
      "text/plain": [
       "<Figure size 432x288 with 1 Axes>"
      ]
     },
     "metadata": {
      "needs_background": "light"
     },
     "output_type": "display_data"
    }
   ],
   "source": [
    "sns.distplot(df[\"Dystopia Residual\"])"
   ]
  },
  {
   "cell_type": "markdown",
   "id": "f46d82ea",
   "metadata": {},
   "source": [
    "The data of the Dystopia Residual column is not normaised. The building blocks is out of the normalised curve."
   ]
  },
  {
   "cell_type": "markdown",
   "id": "eabc52e8",
   "metadata": {},
   "source": [
    "# Data Cleaning:"
   ]
  },
  {
   "cell_type": "code",
   "execution_count": 177,
   "id": "282ee26c",
   "metadata": {},
   "outputs": [
    {
     "data": {
      "text/html": [
       "<div>\n",
       "<style scoped>\n",
       "    .dataframe tbody tr th:only-of-type {\n",
       "        vertical-align: middle;\n",
       "    }\n",
       "\n",
       "    .dataframe tbody tr th {\n",
       "        vertical-align: top;\n",
       "    }\n",
       "\n",
       "    .dataframe thead th {\n",
       "        text-align: right;\n",
       "    }\n",
       "</style>\n",
       "<table border=\"1\" class=\"dataframe\">\n",
       "  <thead>\n",
       "    <tr style=\"text-align: right;\">\n",
       "      <th></th>\n",
       "      <th>Happiness Rank</th>\n",
       "      <th>Happiness Score</th>\n",
       "      <th>Economy (GDP per Capita)</th>\n",
       "      <th>Family</th>\n",
       "      <th>Health (Life Expectancy)</th>\n",
       "      <th>Freedom</th>\n",
       "      <th>Trust (Government Corruption)</th>\n",
       "      <th>Dystopia Residual</th>\n",
       "    </tr>\n",
       "  </thead>\n",
       "  <tbody>\n",
       "    <tr>\n",
       "      <th>0</th>\n",
       "      <td>1</td>\n",
       "      <td>7.587</td>\n",
       "      <td>1.39651</td>\n",
       "      <td>1.34951</td>\n",
       "      <td>0.94143</td>\n",
       "      <td>0.66557</td>\n",
       "      <td>0.41978</td>\n",
       "      <td>2.51738</td>\n",
       "    </tr>\n",
       "    <tr>\n",
       "      <th>1</th>\n",
       "      <td>2</td>\n",
       "      <td>7.561</td>\n",
       "      <td>1.30232</td>\n",
       "      <td>1.40223</td>\n",
       "      <td>0.94784</td>\n",
       "      <td>0.62877</td>\n",
       "      <td>0.14145</td>\n",
       "      <td>2.70201</td>\n",
       "    </tr>\n",
       "    <tr>\n",
       "      <th>2</th>\n",
       "      <td>3</td>\n",
       "      <td>7.527</td>\n",
       "      <td>1.32548</td>\n",
       "      <td>1.36058</td>\n",
       "      <td>0.87464</td>\n",
       "      <td>0.64938</td>\n",
       "      <td>0.48357</td>\n",
       "      <td>2.49204</td>\n",
       "    </tr>\n",
       "    <tr>\n",
       "      <th>3</th>\n",
       "      <td>4</td>\n",
       "      <td>7.522</td>\n",
       "      <td>1.45900</td>\n",
       "      <td>1.33095</td>\n",
       "      <td>0.88521</td>\n",
       "      <td>0.66973</td>\n",
       "      <td>0.36503</td>\n",
       "      <td>2.46531</td>\n",
       "    </tr>\n",
       "    <tr>\n",
       "      <th>4</th>\n",
       "      <td>5</td>\n",
       "      <td>7.427</td>\n",
       "      <td>1.32629</td>\n",
       "      <td>1.32261</td>\n",
       "      <td>0.90563</td>\n",
       "      <td>0.63297</td>\n",
       "      <td>0.32957</td>\n",
       "      <td>2.45176</td>\n",
       "    </tr>\n",
       "    <tr>\n",
       "      <th>...</th>\n",
       "      <td>...</td>\n",
       "      <td>...</td>\n",
       "      <td>...</td>\n",
       "      <td>...</td>\n",
       "      <td>...</td>\n",
       "      <td>...</td>\n",
       "      <td>...</td>\n",
       "      <td>...</td>\n",
       "    </tr>\n",
       "    <tr>\n",
       "      <th>153</th>\n",
       "      <td>154</td>\n",
       "      <td>3.465</td>\n",
       "      <td>0.22208</td>\n",
       "      <td>0.77370</td>\n",
       "      <td>0.42864</td>\n",
       "      <td>0.59201</td>\n",
       "      <td>0.55191</td>\n",
       "      <td>0.67042</td>\n",
       "    </tr>\n",
       "    <tr>\n",
       "      <th>154</th>\n",
       "      <td>155</td>\n",
       "      <td>3.340</td>\n",
       "      <td>0.28665</td>\n",
       "      <td>0.35386</td>\n",
       "      <td>0.31910</td>\n",
       "      <td>0.48450</td>\n",
       "      <td>0.08010</td>\n",
       "      <td>1.63328</td>\n",
       "    </tr>\n",
       "    <tr>\n",
       "      <th>155</th>\n",
       "      <td>156</td>\n",
       "      <td>3.006</td>\n",
       "      <td>0.66320</td>\n",
       "      <td>0.47489</td>\n",
       "      <td>0.72193</td>\n",
       "      <td>0.15684</td>\n",
       "      <td>0.18906</td>\n",
       "      <td>0.32858</td>\n",
       "    </tr>\n",
       "    <tr>\n",
       "      <th>156</th>\n",
       "      <td>157</td>\n",
       "      <td>2.905</td>\n",
       "      <td>0.01530</td>\n",
       "      <td>0.41587</td>\n",
       "      <td>0.22396</td>\n",
       "      <td>0.11850</td>\n",
       "      <td>0.10062</td>\n",
       "      <td>1.83302</td>\n",
       "    </tr>\n",
       "    <tr>\n",
       "      <th>157</th>\n",
       "      <td>158</td>\n",
       "      <td>2.839</td>\n",
       "      <td>0.20868</td>\n",
       "      <td>0.13995</td>\n",
       "      <td>0.28443</td>\n",
       "      <td>0.36453</td>\n",
       "      <td>0.10731</td>\n",
       "      <td>1.56726</td>\n",
       "    </tr>\n",
       "  </tbody>\n",
       "</table>\n",
       "<p>158 rows × 8 columns</p>\n",
       "</div>"
      ],
      "text/plain": [
       "     Happiness Rank  Happiness Score  Economy (GDP per Capita)   Family  \\\n",
       "0                 1            7.587                   1.39651  1.34951   \n",
       "1                 2            7.561                   1.30232  1.40223   \n",
       "2                 3            7.527                   1.32548  1.36058   \n",
       "3                 4            7.522                   1.45900  1.33095   \n",
       "4                 5            7.427                   1.32629  1.32261   \n",
       "..              ...              ...                       ...      ...   \n",
       "153             154            3.465                   0.22208  0.77370   \n",
       "154             155            3.340                   0.28665  0.35386   \n",
       "155             156            3.006                   0.66320  0.47489   \n",
       "156             157            2.905                   0.01530  0.41587   \n",
       "157             158            2.839                   0.20868  0.13995   \n",
       "\n",
       "     Health (Life Expectancy)  Freedom  Trust (Government Corruption)  \\\n",
       "0                     0.94143  0.66557                        0.41978   \n",
       "1                     0.94784  0.62877                        0.14145   \n",
       "2                     0.87464  0.64938                        0.48357   \n",
       "3                     0.88521  0.66973                        0.36503   \n",
       "4                     0.90563  0.63297                        0.32957   \n",
       "..                        ...      ...                            ...   \n",
       "153                   0.42864  0.59201                        0.55191   \n",
       "154                   0.31910  0.48450                        0.08010   \n",
       "155                   0.72193  0.15684                        0.18906   \n",
       "156                   0.22396  0.11850                        0.10062   \n",
       "157                   0.28443  0.36453                        0.10731   \n",
       "\n",
       "     Dystopia Residual  \n",
       "0              2.51738  \n",
       "1              2.70201  \n",
       "2              2.49204  \n",
       "3              2.46531  \n",
       "4              2.45176  \n",
       "..                 ...  \n",
       "153            0.67042  \n",
       "154            1.63328  \n",
       "155            0.32858  \n",
       "156            1.83302  \n",
       "157            1.56726  \n",
       "\n",
       "[158 rows x 8 columns]"
      ]
     },
     "execution_count": 177,
     "metadata": {},
     "output_type": "execute_result"
    }
   ],
   "source": [
    "df=df.drop([\"Country\",\"Region\",\"Standard Error\",\"Generosity\"],axis=1)\n",
    "df"
   ]
  },
  {
   "cell_type": "markdown",
   "id": "3c2cdaf1",
   "metadata": {},
   "source": [
    "# Removing Outliers:"
   ]
  },
  {
   "cell_type": "markdown",
   "id": "50860667",
   "metadata": {},
   "source": [
    "Z-score Technique"
   ]
  },
  {
   "cell_type": "code",
   "execution_count": 178,
   "id": "a52538df",
   "metadata": {},
   "outputs": [
    {
     "data": {
      "text/plain": [
       "(158, 8)"
      ]
     },
     "execution_count": 178,
     "metadata": {},
     "output_type": "execute_result"
    }
   ],
   "source": [
    "from scipy.stats import zscore\n",
    "import numpy as np\n",
    "z=np.abs(zscore(df))\n",
    "z.shape"
   ]
  },
  {
   "cell_type": "code",
   "execution_count": 179,
   "id": "34b256bc",
   "metadata": {},
   "outputs": [
    {
     "name": "stdout",
     "output_type": "stream",
     "text": [
      "(array([ 27, 147, 153, 155, 157], dtype=int64), array([6, 3, 6, 7, 3], dtype=int64))\n"
     ]
    }
   ],
   "source": [
    "threshold=3\n",
    "print(np.where(z>3))"
   ]
  },
  {
   "cell_type": "code",
   "execution_count": 180,
   "id": "68cd385c",
   "metadata": {},
   "outputs": [
    {
     "name": "stdout",
     "output_type": "stream",
     "text": [
      "(158, 8)\n",
      "(153, 8)\n"
     ]
    }
   ],
   "source": [
    "df_new=df[(z<3).all(axis=1)]\n",
    "print(df.shape)\n",
    "print(df_new.shape)"
   ]
  },
  {
   "cell_type": "markdown",
   "id": "0a0e1242",
   "metadata": {},
   "source": [
    "Percentage Data Loss"
   ]
  },
  {
   "cell_type": "code",
   "execution_count": 181,
   "id": "8e138622",
   "metadata": {},
   "outputs": [
    {
     "name": "stdout",
     "output_type": "stream",
     "text": [
      "1.89873417721519\n"
     ]
    }
   ],
   "source": [
    "loss_percent=(158-155)/158*100\n",
    "print(loss_percent)"
   ]
  },
  {
   "cell_type": "markdown",
   "id": "dd47d75f",
   "metadata": {},
   "source": [
    "Dividing Data in features and vectors"
   ]
  },
  {
   "cell_type": "code",
   "execution_count": 182,
   "id": "c8c12503",
   "metadata": {},
   "outputs": [],
   "source": [
    "x=df_new.iloc[:,[0,2,3,4,5,6,7]]\n",
    "y=df_new.iloc[:,1]"
   ]
  },
  {
   "cell_type": "markdown",
   "id": "82875211",
   "metadata": {},
   "source": [
    "Transforming data to remove skewness:"
   ]
  },
  {
   "cell_type": "code",
   "execution_count": 183,
   "id": "832e3771",
   "metadata": {},
   "outputs": [
    {
     "data": {
      "text/plain": [
       "array([[-2.05803516,  1.49533495,  1.66651778, ...,  1.76895699,\n",
       "         1.82520967,  0.7519714 ],\n",
       "       [-2.00332905,  1.20058451,  2.01576571, ...,  1.45212783,\n",
       "         0.34778285,  1.10951985],\n",
       "       [-1.95348201,  1.27226398,  1.73823779, ...,  1.62818656,\n",
       "         1.95995472,  0.70301569],\n",
       "       ...,\n",
       "       [ 1.53595834, -1.33876199, -2.09326952, ..., -1.27552889,\n",
       "        -0.17123104, -0.33294601],\n",
       "       [ 1.57133533, -1.40645314, -2.01516256, ...,  0.31615974,\n",
       "        -0.41128614, -0.93762959],\n",
       "       [ 1.60658872, -1.91224915, -1.90969505, ..., -1.85956505,\n",
       "        -0.12596433, -0.55944902]])"
      ]
     },
     "execution_count": 183,
     "metadata": {},
     "output_type": "execute_result"
    }
   ],
   "source": [
    "from sklearn.preprocessing import power_transform\n",
    "x=power_transform(x,method='yeo-johnson')\n",
    "x"
   ]
  },
  {
   "cell_type": "code",
   "execution_count": 184,
   "id": "a5b46765",
   "metadata": {},
   "outputs": [
    {
     "data": {
      "text/plain": [
       "array([[-2.05803516,  1.49533495,  1.66651778, ...,  1.76895699,\n",
       "         1.82520967,  0.7519714 ],\n",
       "       [-2.00332905,  1.20058451,  2.01576571, ...,  1.45212783,\n",
       "         0.34778285,  1.10951985],\n",
       "       [-1.95348201,  1.27226398,  1.73823779, ...,  1.62818656,\n",
       "         1.95995472,  0.70301569],\n",
       "       ...,\n",
       "       [ 1.53595834, -1.33876199, -2.09326952, ..., -1.27552889,\n",
       "        -0.17123104, -0.33294601],\n",
       "       [ 1.57133533, -1.40645314, -2.01516256, ...,  0.31615974,\n",
       "        -0.41128614, -0.93762959],\n",
       "       [ 1.60658872, -1.91224915, -1.90969505, ..., -1.85956505,\n",
       "        -0.12596433, -0.55944902]])"
      ]
     },
     "execution_count": 184,
     "metadata": {},
     "output_type": "execute_result"
    }
   ],
   "source": [
    "from sklearn.preprocessing import StandardScaler\n",
    "sc=StandardScaler()\n",
    "x=sc.fit_transform(x)\n",
    "x"
   ]
  },
  {
   "cell_type": "code",
   "execution_count": 185,
   "id": "ba66a687",
   "metadata": {},
   "outputs": [],
   "source": [
    "from sklearn.model_selection import train_test_split\n",
    "from sklearn.linear_model import LinearRegression\n",
    "LR=LinearRegression()\n",
    "from sklearn.metrics import r2_score,mean_squared_error,mean_absolute_error"
   ]
  },
  {
   "cell_type": "markdown",
   "id": "2e282190",
   "metadata": {},
   "source": [
    "Splitting the dataframe:"
   ]
  },
  {
   "cell_type": "code",
   "execution_count": 186,
   "id": "b30f328f",
   "metadata": {},
   "outputs": [
    {
     "name": "stdout",
     "output_type": "stream",
     "text": [
      "At random state 22 The model performs very well\n",
      "At random_state: 22\n",
      "Training r2_score is: 99.35629746077905\n",
      "Testing r2_score is: 99.43228190249424\n",
      "At random state 25 The model performs very well\n",
      "At random_state: 25\n",
      "Training r2_score is: 99.35340134762508\n",
      "Testing r2_score is: 99.43744307892808\n",
      "At random state 36 The model performs very well\n",
      "At random_state: 36\n",
      "Training r2_score is: 99.3622321220355\n",
      "Testing r2_score is: 99.38827752493575\n",
      "At random state 38 The model performs very well\n",
      "At random_state: 38\n",
      "Training r2_score is: 99.35657372427818\n",
      "Testing r2_score is: 99.3951145430227\n",
      "At random state 51 The model performs very well\n",
      "At random_state: 51\n",
      "Training r2_score is: 99.3540850284629\n",
      "Testing r2_score is: 99.39050922595996\n",
      "At random state 68 The model performs very well\n",
      "At random_state: 68\n",
      "Training r2_score is: 99.35628385416145\n",
      "Testing r2_score is: 99.40028844120106\n",
      "At random state 75 The model performs very well\n",
      "At random_state: 75\n",
      "Training r2_score is: 99.37001927951479\n",
      "Testing r2_score is: 99.35124116751304\n",
      "At random state 76 The model performs very well\n",
      "At random_state: 76\n",
      "Training r2_score is: 99.35790950493151\n",
      "Testing r2_score is: 99.39646392265347\n",
      "At random state 90 The model performs very well\n",
      "At random_state: 90\n",
      "Training r2_score is: 99.37107506284633\n",
      "Testing r2_score is: 99.35317402024313\n",
      "At random state 94 The model performs very well\n",
      "At random_state: 94\n",
      "Training r2_score is: 99.35888489757312\n",
      "Testing r2_score is: 99.39986186626206\n",
      "At random state 98 The model performs very well\n",
      "At random_state: 98\n",
      "Training r2_score is: 99.3587491602355\n",
      "Testing r2_score is: 99.41698014187284\n",
      "At random state 105 The model performs very well\n",
      "At random_state: 105\n",
      "Training r2_score is: 99.35435293279987\n",
      "Testing r2_score is: 99.40217447562826\n",
      "At random state 106 The model performs very well\n",
      "At random_state: 106\n",
      "Training r2_score is: 99.3597971731883\n",
      "Testing r2_score is: 99.37935414852026\n",
      "At random state 145 The model performs very well\n",
      "At random_state: 145\n",
      "Training r2_score is: 99.36013351526937\n",
      "Testing r2_score is: 99.41251108415742\n",
      "At random state 157 The model performs very well\n",
      "At random_state: 157\n",
      "Training r2_score is: 99.36136423542109\n",
      "Testing r2_score is: 99.38139202176559\n",
      "At random state 172 The model performs very well\n",
      "At random_state: 172\n",
      "Training r2_score is: 99.37056418345608\n",
      "Testing r2_score is: 99.39254868529008\n",
      "At random state 178 The model performs very well\n",
      "At random_state: 178\n",
      "Training r2_score is: 99.36003562836292\n",
      "Testing r2_score is: 99.40867816103692\n",
      "At random state 181 The model performs very well\n",
      "At random_state: 181\n",
      "Training r2_score is: 99.36074837411707\n",
      "Testing r2_score is: 99.35624540125225\n",
      "At random state 187 The model performs very well\n",
      "At random_state: 187\n",
      "Training r2_score is: 99.36632597233844\n",
      "Testing r2_score is: 99.3673110336615\n",
      "At random state 203 The model performs very well\n",
      "At random_state: 203\n",
      "Training r2_score is: 99.34783744117824\n",
      "Testing r2_score is: 99.3454700152723\n",
      "At random state 207 The model performs very well\n",
      "At random_state: 207\n",
      "Training r2_score is: 99.361930879776\n",
      "Testing r2_score is: 99.37608579845633\n",
      "At random state 212 The model performs very well\n",
      "At random_state: 212\n",
      "Training r2_score is: 99.35263135239173\n",
      "Testing r2_score is: 99.43226883538536\n",
      "At random state 271 The model performs very well\n",
      "At random_state: 271\n",
      "Training r2_score is: 99.3571618203474\n",
      "Testing r2_score is: 99.37176140991711\n",
      "At random state 273 The model performs very well\n",
      "At random_state: 273\n",
      "Training r2_score is: 99.36096190069038\n",
      "Testing r2_score is: 99.35718791444201\n",
      "At random state 278 The model performs very well\n",
      "At random_state: 278\n",
      "Training r2_score is: 99.36290808273046\n",
      "Testing r2_score is: 99.40150628830696\n",
      "At random state 285 The model performs very well\n",
      "At random_state: 285\n",
      "Training r2_score is: 99.36029293838176\n",
      "Testing r2_score is: 99.35142438776518\n",
      "At random state 291 The model performs very well\n",
      "At random_state: 291\n",
      "Training r2_score is: 99.37569987873935\n",
      "Testing r2_score is: 99.35031688378669\n",
      "At random state 327 The model performs very well\n",
      "At random_state: 327\n",
      "Training r2_score is: 99.35876251932024\n",
      "Testing r2_score is: 99.3999514915233\n",
      "At random state 330 The model performs very well\n",
      "At random_state: 330\n",
      "Training r2_score is: 99.356985133392\n",
      "Testing r2_score is: 99.41142852201236\n",
      "At random state 334 The model performs very well\n",
      "At random_state: 334\n",
      "Training r2_score is: 99.36388585680191\n",
      "Testing r2_score is: 99.36400213714495\n",
      "At random state 390 The model performs very well\n",
      "At random_state: 390\n",
      "Training r2_score is: 99.35268251172079\n",
      "Testing r2_score is: 99.39617855767821\n",
      "At random state 399 The model performs very well\n",
      "At random_state: 399\n",
      "Training r2_score is: 99.35424627310286\n",
      "Testing r2_score is: 99.41442453596963\n",
      "At random state 434 The model performs very well\n",
      "At random_state: 434\n",
      "Training r2_score is: 99.36709170099944\n",
      "Testing r2_score is: 99.35647446072254\n",
      "At random state 446 The model performs very well\n",
      "At random_state: 446\n",
      "Training r2_score is: 99.36062874469107\n",
      "Testing r2_score is: 99.4096923706587\n",
      "At random state 451 The model performs very well\n",
      "At random_state: 451\n",
      "Training r2_score is: 99.35142218862016\n",
      "Testing r2_score is: 99.43433300946371\n",
      "At random state 453 The model performs very well\n",
      "At random_state: 453\n",
      "Training r2_score is: 99.35004541548528\n",
      "Testing r2_score is: 99.39357342269165\n",
      "At random state 459 The model performs very well\n",
      "At random_state: 459\n",
      "Training r2_score is: 99.36178613819767\n",
      "Testing r2_score is: 99.3970726785898\n",
      "At random state 479 The model performs very well\n",
      "At random_state: 479\n",
      "Training r2_score is: 99.34949892725304\n",
      "Testing r2_score is: 99.32729629378359\n",
      "At random state 482 The model performs very well\n",
      "At random_state: 482\n",
      "Training r2_score is: 99.35614803609334\n",
      "Testing r2_score is: 99.42684897064993\n",
      "At random state 485 The model performs very well\n",
      "At random_state: 485\n",
      "Training r2_score is: 99.36951682718478\n",
      "Testing r2_score is: 99.35725335084878\n",
      "At random state 493 The model performs very well\n",
      "At random_state: 493\n",
      "Training r2_score is: 99.35420711372296\n",
      "Testing r2_score is: 99.4224720696607\n",
      "At random state 501 The model performs very well\n",
      "At random_state: 501\n",
      "Training r2_score is: 99.35620446755347\n",
      "Testing r2_score is: 99.42320885802958\n",
      "At random state 504 The model performs very well\n",
      "At random_state: 504\n",
      "Training r2_score is: 99.35125502558829\n",
      "Testing r2_score is: 99.43521670366373\n",
      "At random state 523 The model performs very well\n",
      "At random_state: 523\n",
      "Training r2_score is: 99.3573563366524\n",
      "Testing r2_score is: 99.40583421879053\n",
      "At random state 527 The model performs very well\n",
      "At random_state: 527\n",
      "Training r2_score is: 99.36428784382811\n",
      "Testing r2_score is: 99.39925678529939\n",
      "At random state 535 The model performs very well\n",
      "At random_state: 535\n",
      "Training r2_score is: 99.36467345380113\n",
      "Testing r2_score is: 99.38349101282672\n",
      "At random state 572 The model performs very well\n",
      "At random_state: 572\n",
      "Training r2_score is: 99.35158429851704\n",
      "Testing r2_score is: 99.42550268370414\n",
      "At random state 595 The model performs very well\n",
      "At random_state: 595\n",
      "Training r2_score is: 99.35102872395358\n",
      "Testing r2_score is: 99.39283007341561\n",
      "At random state 604 The model performs very well\n",
      "At random_state: 604\n",
      "Training r2_score is: 99.36106094259549\n",
      "Testing r2_score is: 99.37186258804311\n",
      "At random state 611 The model performs very well\n",
      "At random_state: 611\n",
      "Training r2_score is: 99.35785345181097\n",
      "Testing r2_score is: 99.39881076514988\n",
      "At random state 614 The model performs very well\n",
      "At random_state: 614\n",
      "Training r2_score is: 99.36224332561241\n",
      "Testing r2_score is: 99.39062578717859\n",
      "At random state 622 The model performs very well\n",
      "At random_state: 622\n",
      "Training r2_score is: 99.35417895485989\n",
      "Testing r2_score is: 99.38153298436407\n",
      "At random state 629 The model performs very well\n",
      "At random_state: 629\n",
      "Training r2_score is: 99.35667751389555\n",
      "Testing r2_score is: 99.41876282277919\n",
      "At random state 637 The model performs very well\n",
      "At random_state: 637\n",
      "Training r2_score is: 99.35640122768802\n",
      "Testing r2_score is: 99.42484020430193\n",
      "At random state 658 The model performs very well\n",
      "At random_state: 658\n",
      "Training r2_score is: 99.3509487653349\n",
      "Testing r2_score is: 99.37102456978607\n",
      "At random state 660 The model performs very well\n",
      "At random_state: 660\n",
      "Training r2_score is: 99.3574290777541\n",
      "Testing r2_score is: 99.41360247539453\n",
      "At random state 663 The model performs very well\n",
      "At random_state: 663\n",
      "Training r2_score is: 99.35496170102026\n",
      "Testing r2_score is: 99.41288884382055\n",
      "At random state 697 The model performs very well\n",
      "At random_state: 697\n",
      "Training r2_score is: 99.35964353409388\n",
      "Testing r2_score is: 99.39076757737607\n",
      "At random state 699 The model performs very well\n",
      "At random_state: 699\n",
      "Training r2_score is: 99.35238892848183\n",
      "Testing r2_score is: 99.43316571206485\n",
      "At random state 700 The model performs very well\n",
      "At random_state: 700\n",
      "Training r2_score is: 99.35268273605726\n",
      "Testing r2_score is: 99.40400682723418\n",
      "At random state 709 The model performs very well\n",
      "At random_state: 709\n",
      "Training r2_score is: 99.35249893624177\n",
      "Testing r2_score is: 99.36533578043276\n",
      "At random state 722 The model performs very well\n",
      "At random_state: 722\n",
      "Training r2_score is: 99.35373244200035\n",
      "Testing r2_score is: 99.42414962580625\n",
      "At random state 727 The model performs very well\n",
      "At random_state: 727\n",
      "Training r2_score is: 99.3249704719514\n",
      "Testing r2_score is: 99.34613654797144\n",
      "At random state 735 The model performs very well\n",
      "At random_state: 735\n",
      "Training r2_score is: 99.35262537022327\n",
      "Testing r2_score is: 99.43923035385332\n",
      "At random state 741 The model performs very well\n",
      "At random_state: 741\n",
      "Training r2_score is: 99.35579165628118\n",
      "Testing r2_score is: 99.43512214651531\n",
      "At random state 774 The model performs very well\n",
      "At random_state: 774\n",
      "Training r2_score is: 99.3536709692874\n",
      "Testing r2_score is: 99.40993096496743\n",
      "At random state 782 The model performs very well\n",
      "At random_state: 782\n",
      "Training r2_score is: 99.35146007822843\n",
      "Testing r2_score is: 99.41001733444917\n",
      "At random state 789 The model performs very well\n",
      "At random_state: 789\n",
      "Training r2_score is: 99.35621363127986\n",
      "Testing r2_score is: 99.42621873965352\n",
      "At random state 812 The model performs very well\n",
      "At random_state: 812\n",
      "Training r2_score is: 99.35042432222457\n",
      "Testing r2_score is: 99.36779216374799\n",
      "At random state 814 The model performs very well\n",
      "At random_state: 814\n",
      "Training r2_score is: 99.36537970000892\n",
      "Testing r2_score is: 99.37615676961315\n",
      "At random state 817 The model performs very well\n",
      "At random_state: 817\n",
      "Training r2_score is: 99.3511242627179\n",
      "Testing r2_score is: 99.37355454862472\n",
      "At random state 852 The model performs very well\n",
      "At random_state: 852\n",
      "Training r2_score is: 99.36569746796962\n",
      "Testing r2_score is: 99.39333196742672\n",
      "At random state 857 The model performs very well\n",
      "At random_state: 857\n",
      "Training r2_score is: 99.35932482223805\n",
      "Testing r2_score is: 99.42288187019128\n",
      "At random state 868 The model performs very well\n",
      "At random_state: 868\n",
      "Training r2_score is: 99.35576563000595\n",
      "Testing r2_score is: 99.37721204572442\n",
      "At random state 889 The model performs very well\n",
      "At random_state: 889\n",
      "Training r2_score is: 99.36191176924997\n",
      "Testing r2_score is: 99.39239438562004\n",
      "At random state 895 The model performs very well\n",
      "At random_state: 895\n",
      "Training r2_score is: 99.37449550369239\n",
      "Testing r2_score is: 99.35050324755747\n",
      "At random state 905 The model performs very well\n",
      "At random_state: 905\n",
      "Training r2_score is: 99.3533002957047\n",
      "Testing r2_score is: 99.41137873598177\n",
      "At random state 913 The model performs very well\n",
      "At random_state: 913\n",
      "Training r2_score is: 99.35301478463214\n",
      "Testing r2_score is: 99.4163621629552\n",
      "At random state 923 The model performs very well\n",
      "At random_state: 923\n",
      "Training r2_score is: 99.37601600114071\n",
      "Testing r2_score is: 99.35101221609102\n",
      "At random state 929 The model performs very well\n",
      "At random_state: 929\n",
      "Training r2_score is: 99.35660816667293\n",
      "Testing r2_score is: 99.39481675138899\n",
      "At random state 931 The model performs very well\n",
      "At random_state: 931\n",
      "Training r2_score is: 99.36465853504222\n",
      "Testing r2_score is: 99.36501873314026\n",
      "At random state 932 The model performs very well\n",
      "At random_state: 932\n",
      "Training r2_score is: 99.35134577409596\n",
      "Testing r2_score is: 99.42501961548093\n",
      "At random state 954 The model performs very well\n",
      "At random_state: 954\n",
      "Training r2_score is: 99.35370475072364\n",
      "Testing r2_score is: 99.4062546100312\n",
      "At random state 977 The model performs very well\n",
      "At random_state: 977\n",
      "Training r2_score is: 99.36212503510839\n",
      "Testing r2_score is: 99.3558457431427\n",
      "At random state 984 The model performs very well\n",
      "At random_state: 984\n",
      "Training r2_score is: 99.35288094966043\n",
      "Testing r2_score is: 99.41472813235421\n",
      "At random state 996 The model performs very well\n",
      "At random_state: 996\n",
      "Training r2_score is: 99.37373637385251\n",
      "Testing r2_score is: 99.35643571517984\n"
     ]
    }
   ],
   "source": [
    "for i in range(0,1000):\n",
    "    x_train,x_test,y_train,y_test=train_test_split(x,y,random_state=i,test_size=.20)\n",
    "    LR.fit(x_train,y_train)\n",
    "    pred_train=LR.predict(x_train)\n",
    "    pred_test=LR.predict(x_test)\n",
    "    if round(r2_score(y_train,pred_train)*100,1)==round(r2_score(y_test,pred_test)*100,1):\n",
    "        print(\"At random state\",i,\"The model performs very well\")\n",
    "        print(\"At random_state:\",i)\n",
    "        print(\"Training r2_score is:\",r2_score(y_train,pred_train)*100)\n",
    "        print(\"Testing r2_score is:\",r2_score(y_test,pred_test)*100)"
   ]
  },
  {
   "cell_type": "code",
   "execution_count": 187,
   "id": "11fc5919",
   "metadata": {},
   "outputs": [],
   "source": [
    "x_train,x_test,y_train,y_test=train_test_split(x,y,test_size=0.20,random_state=187)"
   ]
  },
  {
   "cell_type": "code",
   "execution_count": 188,
   "id": "2eea9cd8",
   "metadata": {},
   "outputs": [
    {
     "data": {
      "text/plain": [
       "LinearRegression()"
      ]
     },
     "execution_count": 188,
     "metadata": {},
     "output_type": "execute_result"
    }
   ],
   "source": [
    "LR.fit(x_train,y_train)"
   ]
  },
  {
   "cell_type": "code",
   "execution_count": 189,
   "id": "d0901fff",
   "metadata": {},
   "outputs": [],
   "source": [
    "pred_test=LR.predict(x_test)"
   ]
  },
  {
   "cell_type": "code",
   "execution_count": 190,
   "id": "b52e3174",
   "metadata": {},
   "outputs": [
    {
     "name": "stdout",
     "output_type": "stream",
     "text": [
      "99.3673110336615\n"
     ]
    }
   ],
   "source": [
    "print(r2_score(y_test,pred_test)*100)"
   ]
  },
  {
   "cell_type": "markdown",
   "id": "22261b67",
   "metadata": {},
   "source": [
    "# Cross-Validation of the model:"
   ]
  },
  {
   "cell_type": "code",
   "execution_count": 191,
   "id": "887e79a1",
   "metadata": {},
   "outputs": [
    {
     "name": "stdout",
     "output_type": "stream",
     "text": [
      "At cv= 2\n",
      "Cross validation score: 92.42428023900405\n",
      "r2_score for training: -99.80073333814106\n",
      "r2_score for testing: 99.3673110336615\n",
      "\n",
      "\n",
      "At cv= 3\n",
      "Cross validation score: 93.33661961288674\n",
      "r2_score for training: -99.80073333814106\n",
      "r2_score for testing: 99.3673110336615\n",
      "\n",
      "\n",
      "At cv= 4\n",
      "Cross validation score: 88.74593998063283\n",
      "r2_score for training: -99.80073333814106\n",
      "r2_score for testing: 99.3673110336615\n",
      "\n",
      "\n",
      "At cv= 5\n",
      "Cross validation score: 78.05323238932466\n",
      "r2_score for training: -99.80073333814106\n",
      "r2_score for testing: 99.3673110336615\n",
      "\n",
      "\n",
      "At cv= 6\n",
      "Cross validation score: 67.5482918215097\n",
      "r2_score for training: -99.80073333814106\n",
      "r2_score for testing: 99.3673110336615\n",
      "\n",
      "\n",
      "At cv= 7\n",
      "Cross validation score: 55.52249221208092\n",
      "r2_score for training: -99.80073333814106\n",
      "r2_score for testing: 99.3673110336615\n",
      "\n",
      "\n",
      "At cv= 8\n",
      "Cross validation score: 48.05727525870454\n",
      "r2_score for training: -99.80073333814106\n",
      "r2_score for testing: 99.3673110336615\n",
      "\n",
      "\n",
      "At cv= 9\n",
      "Cross validation score: 48.60639999144325\n",
      "r2_score for training: -99.80073333814106\n",
      "r2_score for testing: 99.3673110336615\n",
      "\n",
      "\n"
     ]
    }
   ],
   "source": [
    "Train_accuracy=r2_score(y_train,pred_train)\n",
    "Test_accuracy=r2_score(y_test,pred_test)\n",
    "\n",
    "#import cross_val_score\n",
    "from sklearn.model_selection import cross_val_score\n",
    "for j in range(2,10):\n",
    "    cv_score=cross_val_score(LR,x,y,cv=j)\n",
    "    cv_mean=cv_score.mean()\n",
    "    print(\"At cv=\",j)\n",
    "    print(\"Cross validation score:\",cv_mean*100)\n",
    "    print(\"r2_score for training:\",Train_accuracy*100)\n",
    "    print(\"r2_score for testing:\",Test_accuracy*100)\n",
    "    print(\"\\n\")"
   ]
  },
  {
   "cell_type": "code",
   "execution_count": 192,
   "id": "2c1ab91b",
   "metadata": {},
   "outputs": [
    {
     "name": "stdout",
     "output_type": "stream",
     "text": [
      "The cv score is: 93.33661961288674 \n",
      " The accuracy for training is: -99.80073333814106 \n",
      " The accuracy for testing is: 99.3673110336615\n"
     ]
    }
   ],
   "source": [
    "cv_selected=cross_val_score(LR,x,y,cv=3).mean()\n",
    "print(\"The cv score is:\",cv_selected*100,\"\\n The accuracy for training is:\",Train_accuracy*100,\"\\n The accuracy for testing is:\",Test_accuracy*100)"
   ]
  },
  {
   "cell_type": "code",
   "execution_count": 193,
   "id": "93415dc7",
   "metadata": {},
   "outputs": [
    {
     "data": {
      "image/png": "[encoded data removed]",
      "text/plain": [
       "<Figure size 576x432 with 1 Axes>"
      ]
     },
     "metadata": {
      "needs_background": "light"
     },
     "output_type": "display_data"
    }
   ],
   "source": [
    "import matplotlib.pyplot as plt\n",
    "plt.figure(figsize=(8,6))\n",
    "plt.scatter(x=y_test, y=pred_test, color='r')\n",
    "plt.plot(y_test,y_test,color='b')\n",
    "plt.xlabel('Actual Happiness score',fontsize=14)\n",
    "plt.ylabel('Predicted Happiness Score',fontsize=14)\n",
    "plt.title(\"Linear Regression\",fontsize=20)\n",
    "plt.show()"
   ]
  },
  {
   "cell_type": "markdown",
   "id": "a84b3aab",
   "metadata": {},
   "source": [
    "This is the best fit line, most of the datapoints are lying on that line."
   ]
  },
  {
   "cell_type": "markdown",
   "id": "a39cd9a4",
   "metadata": {},
   "source": [
    "# Regularization:"
   ]
  },
  {
   "cell_type": "code",
   "execution_count": 194,
   "id": "a959b119",
   "metadata": {},
   "outputs": [
    {
     "name": "stdout",
     "output_type": "stream",
     "text": [
      "{'alpha': 0.0001, 'random_state': 0}\n"
     ]
    }
   ],
   "source": [
    "from sklearn.model_selection import GridSearchCV\n",
    "\n",
    "from sklearn.linear_model import Lasso,Ridge\n",
    "parameters={'alpha':[.0001,.001,.01,.1,1,10],'random_state':list(range(0,10))}\n",
    "ls=Lasso()\n",
    "clf=GridSearchCV(ls,parameters)\n",
    "clf.fit(x_train,y_train)\n",
    "print(clf.best_params_)"
   ]
  },
  {
   "cell_type": "code",
   "execution_count": 195,
   "id": "3855d4f0",
   "metadata": {},
   "outputs": [
    {
     "data": {
      "text/plain": [
       "99.26865596508692"
      ]
     },
     "execution_count": 195,
     "metadata": {},
     "output_type": "execute_result"
    }
   ],
   "source": [
    "ls=Lasso(alpha=0.01,random_state=0)\n",
    "ls.fit(x_train,y_train)\n",
    "ls.score(x_train,y_train)\n",
    "pred_ls=ls.predict(x_test)\n",
    "\n",
    "lss=r2_score(y_test,pred_ls)*100\n",
    "lss"
   ]
  },
  {
   "cell_type": "code",
   "execution_count": 196,
   "id": "589fbec2",
   "metadata": {},
   "outputs": [
    {
     "data": {
      "text/plain": [
       "94.21032180492246"
      ]
     },
     "execution_count": 196,
     "metadata": {},
     "output_type": "execute_result"
    }
   ],
   "source": [
    "cv_score=cross_val_score(ls,x,y,cv=3)*100\n",
    "cv_mean=cv_score.mean()\n",
    "cv_mean"
   ]
  },
  {
   "cell_type": "code",
   "execution_count": 197,
   "id": "19393a67",
   "metadata": {},
   "outputs": [
    {
     "data": {
      "text/plain": [
       "99.3674795569313"
      ]
     },
     "execution_count": 197,
     "metadata": {},
     "output_type": "execute_result"
    }
   ],
   "source": [
    "rd=Ridge(alpha=0.01,random_state=0)\n",
    "rd.fit(x_train,y_train)\n",
    "rd.score(x_train,y_train)\n",
    "pred_rd=rd.predict(x_test)\n",
    "\n",
    "rdg=r2_score(y_test,pred_rd)*100\n",
    "rdg"
   ]
  },
  {
   "cell_type": "code",
   "execution_count": 198,
   "id": "5ea89a36",
   "metadata": {},
   "outputs": [
    {
     "data": {
      "text/plain": [
       "93.35604136014082"
      ]
     },
     "execution_count": 198,
     "metadata": {},
     "output_type": "execute_result"
    }
   ],
   "source": [
    "cv_score1=cross_val_score(rd,x,y,cv=3)*100\n",
    "cv_mean1=cv_score1.mean()\n",
    "cv_mean1"
   ]
  },
  {
   "cell_type": "markdown",
   "id": "dc103614",
   "metadata": {},
   "source": [
    "# Ensemble Technique:"
   ]
  },
  {
   "cell_type": "code",
   "execution_count": 199,
   "id": "22e260b6",
   "metadata": {},
   "outputs": [
    {
     "name": "stdout",
     "output_type": "stream",
     "text": [
      "{'criterion': 'mae', 'max_features': 'auto'}\n"
     ]
    }
   ],
   "source": [
    "from sklearn.model_selection import GridSearchCV\n",
    "from sklearn.ensemble import RandomForestRegressor\n",
    "\n",
    "parameters={'criterion':['mse','mae'],'max_features':[\"auto\",\"sqrt\",\"log2\"]}\n",
    "\n",
    "rf=RandomForestRegressor()\n",
    "clf=GridSearchCV(rf,parameters)\n",
    "clf.fit(x_train,y_train)\n",
    "print(clf.best_params_)"
   ]
  },
  {
   "cell_type": "code",
   "execution_count": 200,
   "id": "4a8ddc51",
   "metadata": {},
   "outputs": [
    {
     "name": "stdout",
     "output_type": "stream",
     "text": [
      "R2 Score: 99.941487030039\n",
      "cross val score: -157.24741129084538\n"
     ]
    }
   ],
   "source": [
    "rf=RandomForestRegressor(criterion=\"mse\",max_features=\"auto\",n_estimators=100,random_state=45)\n",
    "rf.fit(x_train,y_train)\n",
    "rf.score(x_train,y_train)\n",
    "pred_rf=rf.predict(x_test)\n",
    "\n",
    "rfs=r2_score(y_test,pred_rf)\n",
    "print('R2 Score:',rfs*100)\n",
    "\n",
    "cv_score2=cross_val_score(rf,x,y,cv=3)\n",
    "cv_mean=cv_score2.mean()\n",
    "print('cross val score:',cv_mean*100)"
   ]
  },
  {
   "cell_type": "code",
   "execution_count": 201,
   "id": "3858715d",
   "metadata": {},
   "outputs": [
    {
     "name": "stdout",
     "output_type": "stream",
     "text": [
      "R2 Score: 99.58797635473844\n",
      "cross val score: -199.57073022175058\n"
     ]
    }
   ],
   "source": [
    "from sklearn.ensemble import AdaBoostRegressor\n",
    "\n",
    "ada=AdaBoostRegressor(n_estimators=50,random_state=34)\n",
    "\n",
    "ada.fit(x_train,y_train)\n",
    "predada=ada.predict(x_test)\n",
    "\n",
    "ada_rs=r2_score(y_test,predada)\n",
    "print('R2 Score:',ada_rs*100)\n",
    "\n",
    "cv_score3=cross_val_score(ada,x,y,cv=3)\n",
    "cv_mean=cv_score3.mean()\n",
    "print('cross val score:',cv_mean*100)\n"
   ]
  },
  {
   "cell_type": "code",
   "execution_count": 202,
   "id": "ac02d9b4",
   "metadata": {},
   "outputs": [],
   "source": [
    "# Model Saving:"
   ]
  },
  {
   "cell_type": "code",
   "execution_count": 203,
   "id": "0be7e886",
   "metadata": {},
   "outputs": [],
   "source": [
    "import pickle\n",
    "filename='world_Happiness_Report.pkl'\n",
    "pickle.dump(rf,open(filename,'wb'))"
   ]
  },
  {
   "cell_type": "markdown",
   "id": "1add98d8",
   "metadata": {},
   "source": [
    "# Conclusion:"
   ]
  },
  {
   "cell_type": "code",
   "execution_count": 204,
   "id": "5b15b783",
   "metadata": {},
   "outputs": [
    {
     "name": "stdout",
     "output_type": "stream",
     "text": [
      "99.941487030039\n"
     ]
    }
   ],
   "source": [
    "loaded_model=pickle.load(open('world_Happiness_Report.pkl','rb'))\n",
    "result=loaded_model.score(x_test,y_test)*100\n",
    "print(result)"
   ]
  },
  {
   "cell_type": "code",
   "execution_count": 205,
   "id": "5d7a778d",
   "metadata": {},
   "outputs": [],
   "source": [
    "conclusion=pd.DataFrame([loaded_model.predict(x_test)[:],pred_rf[:]],index=[\"Predicted\",\"Original\"])"
   ]
  },
  {
   "cell_type": "code",
   "execution_count": 206,
   "id": "72086a4b",
   "metadata": {},
   "outputs": [
    {
     "data": {
      "text/html": [
       "<div>\n",
       "<style scoped>\n",
       "    .dataframe tbody tr th:only-of-type {\n",
       "        vertical-align: middle;\n",
       "    }\n",
       "\n",
       "    .dataframe tbody tr th {\n",
       "        vertical-align: top;\n",
       "    }\n",
       "\n",
       "    .dataframe thead th {\n",
       "        text-align: right;\n",
       "    }\n",
       "</style>\n",
       "<table border=\"1\" class=\"dataframe\">\n",
       "  <thead>\n",
       "    <tr style=\"text-align: right;\">\n",
       "      <th></th>\n",
       "      <th>0</th>\n",
       "      <th>1</th>\n",
       "      <th>2</th>\n",
       "      <th>3</th>\n",
       "      <th>4</th>\n",
       "      <th>5</th>\n",
       "      <th>6</th>\n",
       "      <th>7</th>\n",
       "      <th>8</th>\n",
       "      <th>9</th>\n",
       "      <th>...</th>\n",
       "      <th>21</th>\n",
       "      <th>22</th>\n",
       "      <th>23</th>\n",
       "      <th>24</th>\n",
       "      <th>25</th>\n",
       "      <th>26</th>\n",
       "      <th>27</th>\n",
       "      <th>28</th>\n",
       "      <th>29</th>\n",
       "      <th>30</th>\n",
       "    </tr>\n",
       "  </thead>\n",
       "  <tbody>\n",
       "    <tr>\n",
       "      <th>Predicted</th>\n",
       "      <td>5.19939</td>\n",
       "      <td>4.86282</td>\n",
       "      <td>4.2995</td>\n",
       "      <td>5.36997</td>\n",
       "      <td>6.92985</td>\n",
       "      <td>3.9785</td>\n",
       "      <td>6.85503</td>\n",
       "      <td>4.17653</td>\n",
       "      <td>5.20378</td>\n",
       "      <td>4.79177</td>\n",
       "      <td>...</td>\n",
       "      <td>7.49931</td>\n",
       "      <td>6.42802</td>\n",
       "      <td>4.4339</td>\n",
       "      <td>4.53622</td>\n",
       "      <td>5.81145</td>\n",
       "      <td>3.33411</td>\n",
       "      <td>7.41433</td>\n",
       "      <td>3.63868</td>\n",
       "      <td>5.44551</td>\n",
       "      <td>5.57372</td>\n",
       "    </tr>\n",
       "    <tr>\n",
       "      <th>Original</th>\n",
       "      <td>5.19939</td>\n",
       "      <td>4.86282</td>\n",
       "      <td>4.2995</td>\n",
       "      <td>5.36997</td>\n",
       "      <td>6.92985</td>\n",
       "      <td>3.9785</td>\n",
       "      <td>6.85503</td>\n",
       "      <td>4.17653</td>\n",
       "      <td>5.20378</td>\n",
       "      <td>4.79177</td>\n",
       "      <td>...</td>\n",
       "      <td>7.49931</td>\n",
       "      <td>6.42802</td>\n",
       "      <td>4.4339</td>\n",
       "      <td>4.53622</td>\n",
       "      <td>5.81145</td>\n",
       "      <td>3.33411</td>\n",
       "      <td>7.41433</td>\n",
       "      <td>3.63868</td>\n",
       "      <td>5.44551</td>\n",
       "      <td>5.57372</td>\n",
       "    </tr>\n",
       "  </tbody>\n",
       "</table>\n",
       "<p>2 rows × 31 columns</p>\n",
       "</div>"
      ],
      "text/plain": [
       "                0        1       2        3        4       5        6   \\\n",
       "Predicted  5.19939  4.86282  4.2995  5.36997  6.92985  3.9785  6.85503   \n",
       "Original   5.19939  4.86282  4.2995  5.36997  6.92985  3.9785  6.85503   \n",
       "\n",
       "                7        8        9   ...       21       22      23       24  \\\n",
       "Predicted  4.17653  5.20378  4.79177  ...  7.49931  6.42802  4.4339  4.53622   \n",
       "Original   4.17653  5.20378  4.79177  ...  7.49931  6.42802  4.4339  4.53622   \n",
       "\n",
       "                25       26       27       28       29       30  \n",
       "Predicted  5.81145  3.33411  7.41433  3.63868  5.44551  5.57372  \n",
       "Original   5.81145  3.33411  7.41433  3.63868  5.44551  5.57372  \n",
       "\n",
       "[2 rows x 31 columns]"
      ]
     },
     "execution_count": 206,
     "metadata": {},
     "output_type": "execute_result"
    }
   ],
   "source": [
    "conclusion"
   ]
  }
 ],
 "metadata": {
  "kernelspec": {
   "display_name": "Python 3",
   "language": "python",
   "name": "python3"
  },
  "language_info": {
   "codemirror_mode": {
    "name": "ipython",
    "version": 3
   },
   "file_extension": ".py",
   "mimetype": "text/x-python",
   "name": "python",
   "nbconvert_exporter": "python",
   "pygments_lexer": "ipython3",
   "version": "3.8.8"
  }
 },
 "nbformat": 4,
 "nbformat_minor": 5
}
