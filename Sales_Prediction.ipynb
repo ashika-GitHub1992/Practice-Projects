{
 "cells": [
  {
   "cell_type": "markdown",
   "id": "64c4f58e",
   "metadata": {},
   "source": [
    "# Advertising Sales Channel Prediction"
   ]
  },
  {
   "cell_type": "code",
   "execution_count": 1,
   "id": "110c3912",
   "metadata": {},
   "outputs": [],
   "source": [
    "#import libraries\n",
    "import pandas as pd\n",
    "import numpy as np\n",
    "import seaborn as sns\n",
    "import matplotlib.pyplot as plt\n",
    "import warnings\n",
    "warnings.filterwarnings('ignore')"
   ]
  },
  {
   "cell_type": "code",
   "execution_count": 2,
   "id": "f3fd355c",
   "metadata": {},
   "outputs": [
    {
     "data": {
      "text/html": [
       "<div>\n",
       "<style scoped>\n",
       "    .dataframe tbody tr th:only-of-type {\n",
       "        vertical-align: middle;\n",
       "    }\n",
       "\n",
       "    .dataframe tbody tr th {\n",
       "        vertical-align: top;\n",
       "    }\n",
       "\n",
       "    .dataframe thead th {\n",
       "        text-align: right;\n",
       "    }\n",
       "</style>\n",
       "<table border=\"1\" class=\"dataframe\">\n",
       "  <thead>\n",
       "    <tr style=\"text-align: right;\">\n",
       "      <th></th>\n",
       "      <th>Unnamed: 0</th>\n",
       "      <th>TV</th>\n",
       "      <th>radio</th>\n",
       "      <th>newspaper</th>\n",
       "      <th>sales</th>\n",
       "    </tr>\n",
       "  </thead>\n",
       "  <tbody>\n",
       "    <tr>\n",
       "      <th>0</th>\n",
       "      <td>1</td>\n",
       "      <td>230.1</td>\n",
       "      <td>37.8</td>\n",
       "      <td>69.2</td>\n",
       "      <td>22.1</td>\n",
       "    </tr>\n",
       "    <tr>\n",
       "      <th>1</th>\n",
       "      <td>2</td>\n",
       "      <td>44.5</td>\n",
       "      <td>39.3</td>\n",
       "      <td>45.1</td>\n",
       "      <td>10.4</td>\n",
       "    </tr>\n",
       "    <tr>\n",
       "      <th>2</th>\n",
       "      <td>3</td>\n",
       "      <td>17.2</td>\n",
       "      <td>45.9</td>\n",
       "      <td>69.3</td>\n",
       "      <td>9.3</td>\n",
       "    </tr>\n",
       "    <tr>\n",
       "      <th>3</th>\n",
       "      <td>4</td>\n",
       "      <td>151.5</td>\n",
       "      <td>41.3</td>\n",
       "      <td>58.5</td>\n",
       "      <td>18.5</td>\n",
       "    </tr>\n",
       "    <tr>\n",
       "      <th>4</th>\n",
       "      <td>5</td>\n",
       "      <td>180.8</td>\n",
       "      <td>10.8</td>\n",
       "      <td>58.4</td>\n",
       "      <td>12.9</td>\n",
       "    </tr>\n",
       "    <tr>\n",
       "      <th>...</th>\n",
       "      <td>...</td>\n",
       "      <td>...</td>\n",
       "      <td>...</td>\n",
       "      <td>...</td>\n",
       "      <td>...</td>\n",
       "    </tr>\n",
       "    <tr>\n",
       "      <th>195</th>\n",
       "      <td>196</td>\n",
       "      <td>38.2</td>\n",
       "      <td>3.7</td>\n",
       "      <td>13.8</td>\n",
       "      <td>7.6</td>\n",
       "    </tr>\n",
       "    <tr>\n",
       "      <th>196</th>\n",
       "      <td>197</td>\n",
       "      <td>94.2</td>\n",
       "      <td>4.9</td>\n",
       "      <td>8.1</td>\n",
       "      <td>9.7</td>\n",
       "    </tr>\n",
       "    <tr>\n",
       "      <th>197</th>\n",
       "      <td>198</td>\n",
       "      <td>177.0</td>\n",
       "      <td>9.3</td>\n",
       "      <td>6.4</td>\n",
       "      <td>12.8</td>\n",
       "    </tr>\n",
       "    <tr>\n",
       "      <th>198</th>\n",
       "      <td>199</td>\n",
       "      <td>283.6</td>\n",
       "      <td>42.0</td>\n",
       "      <td>66.2</td>\n",
       "      <td>25.5</td>\n",
       "    </tr>\n",
       "    <tr>\n",
       "      <th>199</th>\n",
       "      <td>200</td>\n",
       "      <td>232.1</td>\n",
       "      <td>8.6</td>\n",
       "      <td>8.7</td>\n",
       "      <td>13.4</td>\n",
       "    </tr>\n",
       "  </tbody>\n",
       "</table>\n",
       "<p>200 rows × 5 columns</p>\n",
       "</div>"
      ],
      "text/plain": [
       "     Unnamed: 0     TV  radio  newspaper  sales\n",
       "0             1  230.1   37.8       69.2   22.1\n",
       "1             2   44.5   39.3       45.1   10.4\n",
       "2             3   17.2   45.9       69.3    9.3\n",
       "3             4  151.5   41.3       58.5   18.5\n",
       "4             5  180.8   10.8       58.4   12.9\n",
       "..          ...    ...    ...        ...    ...\n",
       "195         196   38.2    3.7       13.8    7.6\n",
       "196         197   94.2    4.9        8.1    9.7\n",
       "197         198  177.0    9.3        6.4   12.8\n",
       "198         199  283.6   42.0       66.2   25.5\n",
       "199         200  232.1    8.6        8.7   13.4\n",
       "\n",
       "[200 rows x 5 columns]"
      ]
     },
     "execution_count": 2,
     "metadata": {},
     "output_type": "execute_result"
    }
   ],
   "source": [
    "#loading data\n",
    "ad=pd.read_csv(\"Advertising.csv\")\n",
    "ad"
   ]
  },
  {
   "cell_type": "code",
   "execution_count": 3,
   "id": "cc62ead0",
   "metadata": {},
   "outputs": [
    {
     "data": {
      "text/plain": [
       "(200, 5)"
      ]
     },
     "execution_count": 3,
     "metadata": {},
     "output_type": "execute_result"
    }
   ],
   "source": [
    "ad.shape"
   ]
  },
  {
   "cell_type": "code",
   "execution_count": 4,
   "id": "0aeb3c80",
   "metadata": {},
   "outputs": [
    {
     "data": {
      "text/plain": [
       "Index(['Unnamed: 0', 'TV', 'radio', 'newspaper', 'sales'], dtype='object')"
      ]
     },
     "execution_count": 4,
     "metadata": {},
     "output_type": "execute_result"
    }
   ],
   "source": [
    "ad.columns"
   ]
  },
  {
   "cell_type": "code",
   "execution_count": 5,
   "id": "5f76ad7a",
   "metadata": {},
   "outputs": [
    {
     "data": {
      "text/plain": [
       "Unnamed: 0      int64\n",
       "TV            float64\n",
       "radio         float64\n",
       "newspaper     float64\n",
       "sales         float64\n",
       "dtype: object"
      ]
     },
     "execution_count": 5,
     "metadata": {},
     "output_type": "execute_result"
    }
   ],
   "source": [
    "ad.dtypes"
   ]
  },
  {
   "cell_type": "code",
   "execution_count": 6,
   "id": "85b0a295",
   "metadata": {},
   "outputs": [
    {
     "data": {
      "text/plain": [
       "Unnamed: 0    0\n",
       "TV            0\n",
       "radio         0\n",
       "newspaper     0\n",
       "sales         0\n",
       "dtype: int64"
      ]
     },
     "execution_count": 6,
     "metadata": {},
     "output_type": "execute_result"
    }
   ],
   "source": [
    "ad.isnull().sum()"
   ]
  },
  {
   "cell_type": "code",
   "execution_count": 7,
   "id": "d413a363",
   "metadata": {},
   "outputs": [
    {
     "name": "stdout",
     "output_type": "stream",
     "text": [
      "<class 'pandas.core.frame.DataFrame'>\n",
      "RangeIndex: 200 entries, 0 to 199\n",
      "Data columns (total 5 columns):\n",
      " #   Column      Non-Null Count  Dtype  \n",
      "---  ------      --------------  -----  \n",
      " 0   Unnamed: 0  200 non-null    int64  \n",
      " 1   TV          200 non-null    float64\n",
      " 2   radio       200 non-null    float64\n",
      " 3   newspaper   200 non-null    float64\n",
      " 4   sales       200 non-null    float64\n",
      "dtypes: float64(4), int64(1)\n",
      "memory usage: 7.9 KB\n"
     ]
    }
   ],
   "source": [
    "ad.info()"
   ]
  },
  {
   "cell_type": "markdown",
   "id": "ca7967ba",
   "metadata": {},
   "source": [
    "# EDA:"
   ]
  },
  {
   "cell_type": "markdown",
   "id": "2f1bee33",
   "metadata": {},
   "source": [
    "# Visualization:"
   ]
  },
  {
   "cell_type": "code",
   "execution_count": 8,
   "id": "2a80b162",
   "metadata": {},
   "outputs": [
    {
     "data": {
      "text/plain": [
       "<AxesSubplot:xlabel='TV', ylabel='sales'>"
      ]
     },
     "execution_count": 8,
     "metadata": {},
     "output_type": "execute_result"
    },
    {
     "data": {
      "image/png": "[encoded data removed]",
      "text/plain": [
       "<Figure size 432x288 with 1 Axes>"
      ]
     },
     "metadata": {
      "needs_background": "light"
     },
     "output_type": "display_data"
    }
   ],
   "source": [
    "sns.scatterplot(x='TV',y='sales',data=ad)"
   ]
  },
  {
   "cell_type": "code",
   "execution_count": 9,
   "id": "731e0678",
   "metadata": {},
   "outputs": [
    {
     "data": {
      "text/plain": [
       "<AxesSubplot:xlabel='radio', ylabel='sales'>"
      ]
     },
     "execution_count": 9,
     "metadata": {},
     "output_type": "execute_result"
    },
    {
     "data": {
      "image/png": "[encoded data removed]",
      "text/plain": [
       "<Figure size 432x288 with 1 Axes>"
      ]
     },
     "metadata": {
      "needs_background": "light"
     },
     "output_type": "display_data"
    }
   ],
   "source": [
    "sns.scatterplot(x='radio',y='sales',data=ad)"
   ]
  },
  {
   "cell_type": "code",
   "execution_count": 10,
   "id": "f0cfd326",
   "metadata": {},
   "outputs": [
    {
     "data": {
      "text/plain": [
       "<AxesSubplot:xlabel='newspaper', ylabel='sales'>"
      ]
     },
     "execution_count": 10,
     "metadata": {},
     "output_type": "execute_result"
    },
    {
     "data": {
      "image/png": "[encoded data removed]",
      "text/plain": [
       "<Figure size 432x288 with 1 Axes>"
      ]
     },
     "metadata": {
      "needs_background": "light"
     },
     "output_type": "display_data"
    }
   ],
   "source": [
    "sns.scatterplot(x='newspaper',y='sales',data=ad)"
   ]
  },
  {
   "cell_type": "markdown",
   "id": "08c8acac",
   "metadata": {},
   "source": [
    "# Correlation:"
   ]
  },
  {
   "cell_type": "code",
   "execution_count": 11,
   "id": "31aab58a",
   "metadata": {},
   "outputs": [
    {
     "data": {
      "text/html": [
       "<div>\n",
       "<style scoped>\n",
       "    .dataframe tbody tr th:only-of-type {\n",
       "        vertical-align: middle;\n",
       "    }\n",
       "\n",
       "    .dataframe tbody tr th {\n",
       "        vertical-align: top;\n",
       "    }\n",
       "\n",
       "    .dataframe thead th {\n",
       "        text-align: right;\n",
       "    }\n",
       "</style>\n",
       "<table border=\"1\" class=\"dataframe\">\n",
       "  <thead>\n",
       "    <tr style=\"text-align: right;\">\n",
       "      <th></th>\n",
       "      <th>Unnamed: 0</th>\n",
       "      <th>TV</th>\n",
       "      <th>radio</th>\n",
       "      <th>newspaper</th>\n",
       "      <th>sales</th>\n",
       "    </tr>\n",
       "  </thead>\n",
       "  <tbody>\n",
       "    <tr>\n",
       "      <th>Unnamed: 0</th>\n",
       "      <td>1.000000</td>\n",
       "      <td>0.017715</td>\n",
       "      <td>-0.110680</td>\n",
       "      <td>-0.154944</td>\n",
       "      <td>-0.051616</td>\n",
       "    </tr>\n",
       "    <tr>\n",
       "      <th>TV</th>\n",
       "      <td>0.017715</td>\n",
       "      <td>1.000000</td>\n",
       "      <td>0.054809</td>\n",
       "      <td>0.056648</td>\n",
       "      <td>0.782224</td>\n",
       "    </tr>\n",
       "    <tr>\n",
       "      <th>radio</th>\n",
       "      <td>-0.110680</td>\n",
       "      <td>0.054809</td>\n",
       "      <td>1.000000</td>\n",
       "      <td>0.354104</td>\n",
       "      <td>0.576223</td>\n",
       "    </tr>\n",
       "    <tr>\n",
       "      <th>newspaper</th>\n",
       "      <td>-0.154944</td>\n",
       "      <td>0.056648</td>\n",
       "      <td>0.354104</td>\n",
       "      <td>1.000000</td>\n",
       "      <td>0.228299</td>\n",
       "    </tr>\n",
       "    <tr>\n",
       "      <th>sales</th>\n",
       "      <td>-0.051616</td>\n",
       "      <td>0.782224</td>\n",
       "      <td>0.576223</td>\n",
       "      <td>0.228299</td>\n",
       "      <td>1.000000</td>\n",
       "    </tr>\n",
       "  </tbody>\n",
       "</table>\n",
       "</div>"
      ],
      "text/plain": [
       "            Unnamed: 0        TV     radio  newspaper     sales\n",
       "Unnamed: 0    1.000000  0.017715 -0.110680  -0.154944 -0.051616\n",
       "TV            0.017715  1.000000  0.054809   0.056648  0.782224\n",
       "radio        -0.110680  0.054809  1.000000   0.354104  0.576223\n",
       "newspaper    -0.154944  0.056648  0.354104   1.000000  0.228299\n",
       "sales        -0.051616  0.782224  0.576223   0.228299  1.000000"
      ]
     },
     "execution_count": 11,
     "metadata": {},
     "output_type": "execute_result"
    }
   ],
   "source": [
    "ad.corr()"
   ]
  },
  {
   "cell_type": "markdown",
   "id": "d22147f4",
   "metadata": {},
   "source": [
    "Correlation using heatmap:"
   ]
  },
  {
   "cell_type": "code",
   "execution_count": 12,
   "id": "faca795c",
   "metadata": {},
   "outputs": [
    {
     "data": {
      "text/plain": [
       "<AxesSubplot:>"
      ]
     },
     "execution_count": 12,
     "metadata": {},
     "output_type": "execute_result"
    },
    {
     "data": {
      "image/png": "[encoded data removed]",
      "text/plain": [
       "<Figure size 1080x504 with 2 Axes>"
      ]
     },
     "metadata": {
      "needs_background": "light"
     },
     "output_type": "display_data"
    }
   ],
   "source": [
    "plt.figure(figsize=(15,7))\n",
    "sns.heatmap(ad.corr(),annot=True,linewidth=0.5,linecolor=\"black\",fmt='.2f')"
   ]
  },
  {
   "cell_type": "markdown",
   "id": "6ddb0f30",
   "metadata": {},
   "source": [
    "Outcome of correlation:"
   ]
  },
  {
   "cell_type": "raw",
   "id": "10d56abd",
   "metadata": {},
   "source": [
    "All the columns in the dataset are positively correlated with the target column except unnamed. Unnamed is -5% correlate dwith the target column, which is the poor bond.\n",
    "TV is 78% correlated with the sales column, which is the strongest bond.\n",
    "radio is 57% correlated with the target column, which is the stromg bond.\n",
    "newspaper is 22% correlated with the target column which is the good bond.\n",
    "\n",
    "Maximum correlation: TV\n",
    "Minimum correlation: Unnamed"
   ]
  },
  {
   "cell_type": "markdown",
   "id": "74d7a418",
   "metadata": {},
   "source": [
    "# Describing Dataset:"
   ]
  },
  {
   "cell_type": "code",
   "execution_count": 13,
   "id": "47a48fc1",
   "metadata": {},
   "outputs": [
    {
     "data": {
      "text/html": [
       "<div>\n",
       "<style scoped>\n",
       "    .dataframe tbody tr th:only-of-type {\n",
       "        vertical-align: middle;\n",
       "    }\n",
       "\n",
       "    .dataframe tbody tr th {\n",
       "        vertical-align: top;\n",
       "    }\n",
       "\n",
       "    .dataframe thead th {\n",
       "        text-align: right;\n",
       "    }\n",
       "</style>\n",
       "<table border=\"1\" class=\"dataframe\">\n",
       "  <thead>\n",
       "    <tr style=\"text-align: right;\">\n",
       "      <th></th>\n",
       "      <th>Unnamed: 0</th>\n",
       "      <th>TV</th>\n",
       "      <th>radio</th>\n",
       "      <th>newspaper</th>\n",
       "      <th>sales</th>\n",
       "    </tr>\n",
       "  </thead>\n",
       "  <tbody>\n",
       "    <tr>\n",
       "      <th>count</th>\n",
       "      <td>200.000000</td>\n",
       "      <td>200.000000</td>\n",
       "      <td>200.000000</td>\n",
       "      <td>200.000000</td>\n",
       "      <td>200.000000</td>\n",
       "    </tr>\n",
       "    <tr>\n",
       "      <th>mean</th>\n",
       "      <td>100.500000</td>\n",
       "      <td>147.042500</td>\n",
       "      <td>23.264000</td>\n",
       "      <td>30.554000</td>\n",
       "      <td>14.022500</td>\n",
       "    </tr>\n",
       "    <tr>\n",
       "      <th>std</th>\n",
       "      <td>57.879185</td>\n",
       "      <td>85.854236</td>\n",
       "      <td>14.846809</td>\n",
       "      <td>21.778621</td>\n",
       "      <td>5.217457</td>\n",
       "    </tr>\n",
       "    <tr>\n",
       "      <th>min</th>\n",
       "      <td>1.000000</td>\n",
       "      <td>0.700000</td>\n",
       "      <td>0.000000</td>\n",
       "      <td>0.300000</td>\n",
       "      <td>1.600000</td>\n",
       "    </tr>\n",
       "    <tr>\n",
       "      <th>25%</th>\n",
       "      <td>50.750000</td>\n",
       "      <td>74.375000</td>\n",
       "      <td>9.975000</td>\n",
       "      <td>12.750000</td>\n",
       "      <td>10.375000</td>\n",
       "    </tr>\n",
       "    <tr>\n",
       "      <th>50%</th>\n",
       "      <td>100.500000</td>\n",
       "      <td>149.750000</td>\n",
       "      <td>22.900000</td>\n",
       "      <td>25.750000</td>\n",
       "      <td>12.900000</td>\n",
       "    </tr>\n",
       "    <tr>\n",
       "      <th>75%</th>\n",
       "      <td>150.250000</td>\n",
       "      <td>218.825000</td>\n",
       "      <td>36.525000</td>\n",
       "      <td>45.100000</td>\n",
       "      <td>17.400000</td>\n",
       "    </tr>\n",
       "    <tr>\n",
       "      <th>max</th>\n",
       "      <td>200.000000</td>\n",
       "      <td>296.400000</td>\n",
       "      <td>49.600000</td>\n",
       "      <td>114.000000</td>\n",
       "      <td>27.000000</td>\n",
       "    </tr>\n",
       "  </tbody>\n",
       "</table>\n",
       "</div>"
      ],
      "text/plain": [
       "       Unnamed: 0          TV       radio   newspaper       sales\n",
       "count  200.000000  200.000000  200.000000  200.000000  200.000000\n",
       "mean   100.500000  147.042500   23.264000   30.554000   14.022500\n",
       "std     57.879185   85.854236   14.846809   21.778621    5.217457\n",
       "min      1.000000    0.700000    0.000000    0.300000    1.600000\n",
       "25%     50.750000   74.375000    9.975000   12.750000   10.375000\n",
       "50%    100.500000  149.750000   22.900000   25.750000   12.900000\n",
       "75%    150.250000  218.825000   36.525000   45.100000   17.400000\n",
       "max    200.000000  296.400000   49.600000  114.000000   27.000000"
      ]
     },
     "execution_count": 13,
     "metadata": {},
     "output_type": "execute_result"
    }
   ],
   "source": [
    "ad.describe()"
   ]
  },
  {
   "cell_type": "code",
   "execution_count": 14,
   "id": "f087bcd5",
   "metadata": {},
   "outputs": [
    {
     "data": {
      "image/png": "[encoded data removed]",
      "text/plain": [
       "<Figure size 1080x864 with 2 Axes>"
      ]
     },
     "metadata": {
      "needs_background": "light"
     },
     "output_type": "display_data"
    }
   ],
   "source": [
    "plt.figure(figsize=(15,12))\n",
    "sns.heatmap(round(ad.describe()[1:].transpose(),2),linewidth=2,annot=True,fmt='f')\n",
    "plt.xticks(fontsize=18)\n",
    "plt.yticks(fontsize=12)\n",
    "plt.title(\"summary\")\n",
    "plt.show()"
   ]
  },
  {
   "cell_type": "markdown",
   "id": "65a24b88",
   "metadata": {},
   "source": [
    "Outcome of describe of dataset:"
   ]
  },
  {
   "cell_type": "raw",
   "id": "ad3139f7",
   "metadata": {},
   "source": [
    "From the above observation we are determining mean,standard deviation,minimum and maximum value of each column.\n",
    "\n",
    "1.200 rows\n",
    "2.5 columns\n",
    "\n",
    "Unnamed:0:\n",
    "        1.mean=100.500000\n",
    "        2.std=57.878195\n",
    "        3.max_value=200.000000\n",
    "        4.min_value=1.000000\n",
    "        \n",
    "TV:\n",
    "        1.mean=147.042500\n",
    "        2.std=85.854236\n",
    "        3.max_value=296.400000\n",
    "        4.min_value=0.700000\n",
    "        \n",
    "radio:\n",
    "        1.mean=23.264000\n",
    "        2.std=14.846809\n",
    "        3.max_value=49.600000\n",
    "        4.min_value=0.000000\n",
    "        \n",
    "newspaper:\n",
    "        1.mean=30.554000\n",
    "        2.std=21.778621\n",
    "        3.max_value=114.000000\n",
    "        4.min_value=0.300000\n",
    "        \n",
    "sales:\n",
    "        1.mean=14.022500\n",
    "        2.std=5.217457\n",
    "        3.max_value=27.000000\n",
    "        4.min_value=1.600000"
   ]
  },
  {
   "cell_type": "markdown",
   "id": "d6393ffc",
   "metadata": {},
   "source": [
    "# Outliers Checking:"
   ]
  },
  {
   "cell_type": "code",
   "execution_count": 15,
   "id": "5270ef50",
   "metadata": {},
   "outputs": [
    {
     "data": {
      "text/plain": [
       "<AxesSubplot:>"
      ]
     },
     "execution_count": 15,
     "metadata": {},
     "output_type": "execute_result"
    },
    {
     "data": {
      "image/png": "[encoded data removed]",
      "text/plain": [
       "<Figure size 432x288 with 1 Axes>"
      ]
     },
     "metadata": {
      "needs_background": "light"
     },
     "output_type": "display_data"
    }
   ],
   "source": [
    "ad[\"Unnamed: 0\"].plot.box()"
   ]
  },
  {
   "cell_type": "code",
   "execution_count": 16,
   "id": "b3cc2f64",
   "metadata": {},
   "outputs": [
    {
     "data": {
      "text/plain": [
       "<AxesSubplot:>"
      ]
     },
     "execution_count": 16,
     "metadata": {},
     "output_type": "execute_result"
    },
    {
     "data": {
      "image/png": "[encoded data removed]",
      "text/plain": [
       "<Figure size 432x288 with 1 Axes>"
      ]
     },
     "metadata": {
      "needs_background": "light"
     },
     "output_type": "display_data"
    }
   ],
   "source": [
    "ad[\"TV\"].plot.box()"
   ]
  },
  {
   "cell_type": "code",
   "execution_count": 17,
   "id": "78ec28cf",
   "metadata": {},
   "outputs": [
    {
     "data": {
      "text/plain": [
       "<AxesSubplot:>"
      ]
     },
     "execution_count": 17,
     "metadata": {},
     "output_type": "execute_result"
    },
    {
     "data": {
      "image/png": "[encoded data removed]",
      "text/plain": [
       "<Figure size 432x288 with 1 Axes>"
      ]
     },
     "metadata": {
      "needs_background": "light"
     },
     "output_type": "display_data"
    }
   ],
   "source": [
    "ad[\"radio\"].plot.box()"
   ]
  },
  {
   "cell_type": "code",
   "execution_count": 18,
   "id": "d0b8ff6e",
   "metadata": {},
   "outputs": [
    {
     "data": {
      "text/plain": [
       "<AxesSubplot:>"
      ]
     },
     "execution_count": 18,
     "metadata": {},
     "output_type": "execute_result"
    },
    {
     "data": {
      "image/png": "[encoded data removed]",
      "text/plain": [
       "<Figure size 432x288 with 1 Axes>"
      ]
     },
     "metadata": {
      "needs_background": "light"
     },
     "output_type": "display_data"
    }
   ],
   "source": [
    "ad[\"newspaper\"].plot.box()"
   ]
  },
  {
   "cell_type": "code",
   "execution_count": 19,
   "id": "bf8d858e",
   "metadata": {},
   "outputs": [
    {
     "data": {
      "text/plain": [
       "<AxesSubplot:>"
      ]
     },
     "execution_count": 19,
     "metadata": {},
     "output_type": "execute_result"
    },
    {
     "data": {
      "image/png": "[encoded data removed]",
      "text/plain": [
       "<Figure size 432x288 with 1 Axes>"
      ]
     },
     "metadata": {
      "needs_background": "light"
     },
     "output_type": "display_data"
    }
   ],
   "source": [
    "ad[\"sales\"].plot.box()"
   ]
  },
  {
   "cell_type": "markdown",
   "id": "18261c0b",
   "metadata": {},
   "source": [
    "We can see from the above observation that only newspaper column has few outliers and no other columns has outliers."
   ]
  },
  {
   "cell_type": "markdown",
   "id": "dde04e47",
   "metadata": {},
   "source": [
    "# Skewness:"
   ]
  },
  {
   "cell_type": "code",
   "execution_count": 20,
   "id": "5cf2ac66",
   "metadata": {},
   "outputs": [
    {
     "data": {
      "text/plain": [
       "Unnamed: 0    0.000000\n",
       "TV           -0.069853\n",
       "radio         0.094175\n",
       "newspaper     0.894720\n",
       "sales         0.407571\n",
       "dtype: float64"
      ]
     },
     "execution_count": 20,
     "metadata": {},
     "output_type": "execute_result"
    }
   ],
   "source": [
    "ad.skew()"
   ]
  },
  {
   "cell_type": "markdown",
   "id": "dc84c8a8",
   "metadata": {},
   "source": [
    " Outcome of skewness: \n",
    "    "
   ]
  },
  {
   "cell_type": "raw",
   "id": "6d3a9be5",
   "metadata": {},
   "source": [
    "Skewness threshold taken is +/-0.5.\n",
    "Columns which are having skewness:\n",
    "    newspaper\n",
    "    "
   ]
  },
  {
   "cell_type": "markdown",
   "id": "74ba7398",
   "metadata": {},
   "source": [
    "# Normal Distribution Curve:"
   ]
  },
  {
   "cell_type": "code",
   "execution_count": 21,
   "id": "d6f5ff64",
   "metadata": {},
   "outputs": [
    {
     "data": {
      "text/plain": [
       "<AxesSubplot:xlabel='TV', ylabel='Density'>"
      ]
     },
     "execution_count": 21,
     "metadata": {},
     "output_type": "execute_result"
    },
    {
     "data": {
      "image/png": "[encoded data removed]",
      "text/plain": [
       "<Figure size 432x288 with 1 Axes>"
      ]
     },
     "metadata": {
      "needs_background": "light"
     },
     "output_type": "display_data"
    }
   ],
   "source": [
    "sns.distplot(ad[\"TV\"])"
   ]
  },
  {
   "cell_type": "markdown",
   "id": "03e14ceb",
   "metadata": {},
   "source": [
    "The data of the column is not normalised. The building block is out of the normalized curve."
   ]
  },
  {
   "cell_type": "code",
   "execution_count": 22,
   "id": "ec54b2e3",
   "metadata": {},
   "outputs": [
    {
     "data": {
      "text/plain": [
       "<AxesSubplot:xlabel='radio', ylabel='Density'>"
      ]
     },
     "execution_count": 22,
     "metadata": {},
     "output_type": "execute_result"
    },
    {
     "data": {
      "image/png": "[encoded data removed]",
      "text/plain": [
       "<Figure size 432x288 with 1 Axes>"
      ]
     },
     "metadata": {
      "needs_background": "light"
     },
     "output_type": "display_data"
    }
   ],
   "source": [
    "sns.distplot(ad[\"radio\"])"
   ]
  },
  {
   "cell_type": "markdown",
   "id": "d4323602",
   "metadata": {},
   "source": [
    "The data of the column is not normalised. The building block is out of the normalized curve."
   ]
  },
  {
   "cell_type": "code",
   "execution_count": 23,
   "id": "b0dd2752",
   "metadata": {},
   "outputs": [
    {
     "data": {
      "text/plain": [
       "<AxesSubplot:xlabel='newspaper', ylabel='Density'>"
      ]
     },
     "execution_count": 23,
     "metadata": {},
     "output_type": "execute_result"
    },
    {
     "data": {
      "image/png": "[encoded data removed]",
      "text/plain": [
       "<Figure size 432x288 with 1 Axes>"
      ]
     },
     "metadata": {
      "needs_background": "light"
     },
     "output_type": "display_data"
    }
   ],
   "source": [
    "sns.distplot(ad[\"newspaper\"])"
   ]
  },
  {
   "cell_type": "markdown",
   "id": "774c8aa4",
   "metadata": {},
   "source": [
    "The data of the column is not normalised. The building block is out of the normalized curve."
   ]
  },
  {
   "cell_type": "code",
   "execution_count": 24,
   "id": "e3c5b6cb",
   "metadata": {},
   "outputs": [
    {
     "data": {
      "text/plain": [
       "<AxesSubplot:xlabel='sales', ylabel='Density'>"
      ]
     },
     "execution_count": 24,
     "metadata": {},
     "output_type": "execute_result"
    },
    {
     "data": {
      "image/png": "[encoded data removed]",
      "text/plain": [
       "<Figure size 432x288 with 1 Axes>"
      ]
     },
     "metadata": {
      "needs_background": "light"
     },
     "output_type": "display_data"
    }
   ],
   "source": [
    "sns.distplot(ad[\"sales\"])"
   ]
  },
  {
   "cell_type": "markdown",
   "id": "dae94e1e",
   "metadata": {},
   "source": [
    "The data of the column is not normalised. The building block is out of the normalized curve."
   ]
  },
  {
   "cell_type": "markdown",
   "id": "4c8f9f79",
   "metadata": {},
   "source": [
    "# Data Cleaning:"
   ]
  },
  {
   "cell_type": "code",
   "execution_count": 25,
   "id": "1afbe8e9",
   "metadata": {},
   "outputs": [],
   "source": [
    "ad=ad.drop([\"Unnamed: 0\"],axis=1)"
   ]
  },
  {
   "cell_type": "code",
   "execution_count": 26,
   "id": "0f69cc2a",
   "metadata": {},
   "outputs": [
    {
     "data": {
      "text/html": [
       "<div>\n",
       "<style scoped>\n",
       "    .dataframe tbody tr th:only-of-type {\n",
       "        vertical-align: middle;\n",
       "    }\n",
       "\n",
       "    .dataframe tbody tr th {\n",
       "        vertical-align: top;\n",
       "    }\n",
       "\n",
       "    .dataframe thead th {\n",
       "        text-align: right;\n",
       "    }\n",
       "</style>\n",
       "<table border=\"1\" class=\"dataframe\">\n",
       "  <thead>\n",
       "    <tr style=\"text-align: right;\">\n",
       "      <th></th>\n",
       "      <th>TV</th>\n",
       "      <th>radio</th>\n",
       "      <th>newspaper</th>\n",
       "      <th>sales</th>\n",
       "    </tr>\n",
       "  </thead>\n",
       "  <tbody>\n",
       "    <tr>\n",
       "      <th>0</th>\n",
       "      <td>230.1</td>\n",
       "      <td>37.8</td>\n",
       "      <td>69.2</td>\n",
       "      <td>22.1</td>\n",
       "    </tr>\n",
       "    <tr>\n",
       "      <th>1</th>\n",
       "      <td>44.5</td>\n",
       "      <td>39.3</td>\n",
       "      <td>45.1</td>\n",
       "      <td>10.4</td>\n",
       "    </tr>\n",
       "    <tr>\n",
       "      <th>2</th>\n",
       "      <td>17.2</td>\n",
       "      <td>45.9</td>\n",
       "      <td>69.3</td>\n",
       "      <td>9.3</td>\n",
       "    </tr>\n",
       "    <tr>\n",
       "      <th>3</th>\n",
       "      <td>151.5</td>\n",
       "      <td>41.3</td>\n",
       "      <td>58.5</td>\n",
       "      <td>18.5</td>\n",
       "    </tr>\n",
       "    <tr>\n",
       "      <th>4</th>\n",
       "      <td>180.8</td>\n",
       "      <td>10.8</td>\n",
       "      <td>58.4</td>\n",
       "      <td>12.9</td>\n",
       "    </tr>\n",
       "    <tr>\n",
       "      <th>...</th>\n",
       "      <td>...</td>\n",
       "      <td>...</td>\n",
       "      <td>...</td>\n",
       "      <td>...</td>\n",
       "    </tr>\n",
       "    <tr>\n",
       "      <th>195</th>\n",
       "      <td>38.2</td>\n",
       "      <td>3.7</td>\n",
       "      <td>13.8</td>\n",
       "      <td>7.6</td>\n",
       "    </tr>\n",
       "    <tr>\n",
       "      <th>196</th>\n",
       "      <td>94.2</td>\n",
       "      <td>4.9</td>\n",
       "      <td>8.1</td>\n",
       "      <td>9.7</td>\n",
       "    </tr>\n",
       "    <tr>\n",
       "      <th>197</th>\n",
       "      <td>177.0</td>\n",
       "      <td>9.3</td>\n",
       "      <td>6.4</td>\n",
       "      <td>12.8</td>\n",
       "    </tr>\n",
       "    <tr>\n",
       "      <th>198</th>\n",
       "      <td>283.6</td>\n",
       "      <td>42.0</td>\n",
       "      <td>66.2</td>\n",
       "      <td>25.5</td>\n",
       "    </tr>\n",
       "    <tr>\n",
       "      <th>199</th>\n",
       "      <td>232.1</td>\n",
       "      <td>8.6</td>\n",
       "      <td>8.7</td>\n",
       "      <td>13.4</td>\n",
       "    </tr>\n",
       "  </tbody>\n",
       "</table>\n",
       "<p>200 rows × 4 columns</p>\n",
       "</div>"
      ],
      "text/plain": [
       "        TV  radio  newspaper  sales\n",
       "0    230.1   37.8       69.2   22.1\n",
       "1     44.5   39.3       45.1   10.4\n",
       "2     17.2   45.9       69.3    9.3\n",
       "3    151.5   41.3       58.5   18.5\n",
       "4    180.8   10.8       58.4   12.9\n",
       "..     ...    ...        ...    ...\n",
       "195   38.2    3.7       13.8    7.6\n",
       "196   94.2    4.9        8.1    9.7\n",
       "197  177.0    9.3        6.4   12.8\n",
       "198  283.6   42.0       66.2   25.5\n",
       "199  232.1    8.6        8.7   13.4\n",
       "\n",
       "[200 rows x 4 columns]"
      ]
     },
     "execution_count": 26,
     "metadata": {},
     "output_type": "execute_result"
    }
   ],
   "source": [
    "ad"
   ]
  },
  {
   "cell_type": "markdown",
   "id": "75bb985a",
   "metadata": {},
   "source": [
    "# Removing Outliers:"
   ]
  },
  {
   "cell_type": "markdown",
   "id": "8eb2a7f6",
   "metadata": {},
   "source": [
    "Z-Score Technique:"
   ]
  },
  {
   "cell_type": "code",
   "execution_count": 27,
   "id": "dbaa4cc0",
   "metadata": {},
   "outputs": [
    {
     "data": {
      "text/plain": [
       "(200, 4)"
      ]
     },
     "execution_count": 27,
     "metadata": {},
     "output_type": "execute_result"
    }
   ],
   "source": [
    "from scipy.stats import zscore\n",
    "import numpy as np\n",
    "z=np.abs(zscore(ad))\n",
    "z.shape"
   ]
  },
  {
   "cell_type": "code",
   "execution_count": 28,
   "id": "948c80a8",
   "metadata": {},
   "outputs": [
    {
     "name": "stdout",
     "output_type": "stream",
     "text": [
      "(array([ 16, 101], dtype=int64), array([2, 2], dtype=int64))\n"
     ]
    }
   ],
   "source": [
    "threshold=3\n",
    "print(np.where(z>3))"
   ]
  },
  {
   "cell_type": "code",
   "execution_count": 29,
   "id": "85492d7c",
   "metadata": {},
   "outputs": [
    {
     "name": "stdout",
     "output_type": "stream",
     "text": [
      "(200, 4)\n",
      "(198, 4)\n"
     ]
    }
   ],
   "source": [
    "ad_new=ad[(z<3).all(axis=1)]\n",
    "print(ad.shape)\n",
    "print(ad_new.shape)"
   ]
  },
  {
   "cell_type": "markdown",
   "id": "a44f2fc6",
   "metadata": {},
   "source": [
    "Percentage Data Loss:"
   ]
  },
  {
   "cell_type": "code",
   "execution_count": 30,
   "id": "90fe6beb",
   "metadata": {},
   "outputs": [
    {
     "name": "stdout",
     "output_type": "stream",
     "text": [
      "1.0\n"
     ]
    }
   ],
   "source": [
    "loss_percent=(200-198)/200*100\n",
    "print(loss_percent)"
   ]
  },
  {
   "cell_type": "markdown",
   "id": "74c1194e",
   "metadata": {},
   "source": [
    "IQR Technique:"
   ]
  },
  {
   "cell_type": "code",
   "execution_count": 31,
   "id": "2f7d91f0",
   "metadata": {},
   "outputs": [
    {
     "name": "stdout",
     "output_type": "stream",
     "text": [
      "TV           144.450\n",
      "radio         26.550\n",
      "newspaper     32.350\n",
      "sales          7.025\n",
      "dtype: float64\n"
     ]
    }
   ],
   "source": [
    "q1=ad.quantile(0.25)\n",
    "q3=ad.quantile(0.75)\n",
    "\n",
    "IQR=q3-q1\n",
    "print(IQR)"
   ]
  },
  {
   "cell_type": "code",
   "execution_count": 32,
   "id": "07f2dcf2",
   "metadata": {},
   "outputs": [
    {
     "name": "stdout",
     "output_type": "stream",
     "text": [
      "(198, 4)\n"
     ]
    }
   ],
   "source": [
    "ad_new1=ad[~((ad<(q1-1.5*IQR)) | (ad>(q3+1.5*IQR))).any(axis=1)]\n",
    "print(ad_new1.shape)"
   ]
  },
  {
   "cell_type": "code",
   "execution_count": 33,
   "id": "c2b53787",
   "metadata": {},
   "outputs": [
    {
     "name": "stdout",
     "output_type": "stream",
     "text": [
      "1.0\n"
     ]
    }
   ],
   "source": [
    "loss_percent=(200-198)/200*100\n",
    "print(loss_percent)"
   ]
  },
  {
   "cell_type": "markdown",
   "id": "e7b12bcd",
   "metadata": {},
   "source": [
    "Both Z-Score and IQR has same percentage of data loss, we can choose any of them."
   ]
  },
  {
   "cell_type": "markdown",
   "id": "e641b7f1",
   "metadata": {},
   "source": [
    "# Dividing data in features and vector"
   ]
  },
  {
   "cell_type": "code",
   "execution_count": 34,
   "id": "564320c1",
   "metadata": {},
   "outputs": [],
   "source": [
    "x=ad_new.iloc[:,:-1]\n",
    "y=ad_new.iloc[:,-1]"
   ]
  },
  {
   "cell_type": "code",
   "execution_count": 35,
   "id": "1bb3c04c",
   "metadata": {},
   "outputs": [
    {
     "data": {
      "text/html": [
       "<div>\n",
       "<style scoped>\n",
       "    .dataframe tbody tr th:only-of-type {\n",
       "        vertical-align: middle;\n",
       "    }\n",
       "\n",
       "    .dataframe tbody tr th {\n",
       "        vertical-align: top;\n",
       "    }\n",
       "\n",
       "    .dataframe thead th {\n",
       "        text-align: right;\n",
       "    }\n",
       "</style>\n",
       "<table border=\"1\" class=\"dataframe\">\n",
       "  <thead>\n",
       "    <tr style=\"text-align: right;\">\n",
       "      <th></th>\n",
       "      <th>TV</th>\n",
       "      <th>radio</th>\n",
       "      <th>newspaper</th>\n",
       "    </tr>\n",
       "  </thead>\n",
       "  <tbody>\n",
       "    <tr>\n",
       "      <th>0</th>\n",
       "      <td>230.1</td>\n",
       "      <td>37.8</td>\n",
       "      <td>69.2</td>\n",
       "    </tr>\n",
       "    <tr>\n",
       "      <th>1</th>\n",
       "      <td>44.5</td>\n",
       "      <td>39.3</td>\n",
       "      <td>45.1</td>\n",
       "    </tr>\n",
       "    <tr>\n",
       "      <th>2</th>\n",
       "      <td>17.2</td>\n",
       "      <td>45.9</td>\n",
       "      <td>69.3</td>\n",
       "    </tr>\n",
       "    <tr>\n",
       "      <th>3</th>\n",
       "      <td>151.5</td>\n",
       "      <td>41.3</td>\n",
       "      <td>58.5</td>\n",
       "    </tr>\n",
       "    <tr>\n",
       "      <th>4</th>\n",
       "      <td>180.8</td>\n",
       "      <td>10.8</td>\n",
       "      <td>58.4</td>\n",
       "    </tr>\n",
       "    <tr>\n",
       "      <th>...</th>\n",
       "      <td>...</td>\n",
       "      <td>...</td>\n",
       "      <td>...</td>\n",
       "    </tr>\n",
       "    <tr>\n",
       "      <th>195</th>\n",
       "      <td>38.2</td>\n",
       "      <td>3.7</td>\n",
       "      <td>13.8</td>\n",
       "    </tr>\n",
       "    <tr>\n",
       "      <th>196</th>\n",
       "      <td>94.2</td>\n",
       "      <td>4.9</td>\n",
       "      <td>8.1</td>\n",
       "    </tr>\n",
       "    <tr>\n",
       "      <th>197</th>\n",
       "      <td>177.0</td>\n",
       "      <td>9.3</td>\n",
       "      <td>6.4</td>\n",
       "    </tr>\n",
       "    <tr>\n",
       "      <th>198</th>\n",
       "      <td>283.6</td>\n",
       "      <td>42.0</td>\n",
       "      <td>66.2</td>\n",
       "    </tr>\n",
       "    <tr>\n",
       "      <th>199</th>\n",
       "      <td>232.1</td>\n",
       "      <td>8.6</td>\n",
       "      <td>8.7</td>\n",
       "    </tr>\n",
       "  </tbody>\n",
       "</table>\n",
       "<p>198 rows × 3 columns</p>\n",
       "</div>"
      ],
      "text/plain": [
       "        TV  radio  newspaper\n",
       "0    230.1   37.8       69.2\n",
       "1     44.5   39.3       45.1\n",
       "2     17.2   45.9       69.3\n",
       "3    151.5   41.3       58.5\n",
       "4    180.8   10.8       58.4\n",
       "..     ...    ...        ...\n",
       "195   38.2    3.7       13.8\n",
       "196   94.2    4.9        8.1\n",
       "197  177.0    9.3        6.4\n",
       "198  283.6   42.0       66.2\n",
       "199  232.1    8.6        8.7\n",
       "\n",
       "[198 rows x 3 columns]"
      ]
     },
     "execution_count": 35,
     "metadata": {},
     "output_type": "execute_result"
    }
   ],
   "source": [
    "x"
   ]
  },
  {
   "cell_type": "code",
   "execution_count": 36,
   "id": "80c8f55e",
   "metadata": {},
   "outputs": [
    {
     "data": {
      "text/plain": [
       "0      22.1\n",
       "1      10.4\n",
       "2       9.3\n",
       "3      18.5\n",
       "4      12.9\n",
       "       ... \n",
       "195     7.6\n",
       "196     9.7\n",
       "197    12.8\n",
       "198    25.5\n",
       "199    13.4\n",
       "Name: sales, Length: 198, dtype: float64"
      ]
     },
     "execution_count": 36,
     "metadata": {},
     "output_type": "execute_result"
    }
   ],
   "source": [
    "y"
   ]
  },
  {
   "cell_type": "markdown",
   "id": "f8facf78",
   "metadata": {},
   "source": [
    "# Transforming data to remove skewness:"
   ]
  },
  {
   "cell_type": "code",
   "execution_count": 37,
   "id": "35cf48b5",
   "metadata": {},
   "outputs": [],
   "source": [
    "from sklearn.preprocessing import power_transform\n",
    "x=power_transform(x,method='yeo-johnson')"
   ]
  },
  {
   "cell_type": "code",
   "execution_count": 38,
   "id": "5b54629e",
   "metadata": {},
   "outputs": [
    {
     "data": {
      "text/plain": [
       "array([[ 0.95598306,  0.9691098 ,  1.6041965 ],\n",
       "       [-1.19200349,  1.04623436,  0.83104401],\n",
       "       [-1.6461253 ,  1.37296802,  1.60705249],\n",
       "       [ 0.14293428,  1.1473316 ,  1.28376774],\n",
       "       [ 0.45645241, -0.73502642,  1.28062154],\n",
       "       [-1.8204008 ,  1.51543955,  1.76610727],\n",
       "       [-1.00349358,  0.70309642, -0.10205346],\n",
       "       [-0.20996049, -0.0876566 , -0.84968895],\n",
       "       [-1.82264543, -1.62948287, -2.09866461],\n",
       "       [ 0.652694  , -1.56152179, -0.22649933],\n",
       "       [-0.88482761, -1.19258569, -0.06553382],\n",
       "       [ 0.80322028,  0.19357553, -1.59608414],\n",
       "       [-1.52567125,  0.82725998,  1.50859232],\n",
       "       [-0.48090308, -1.01613619, -1.23269654],\n",
       "       [ 0.69642374,  0.70856268,  0.86367455],\n",
       "       [ 0.60769456,  1.45886692,  1.1026083 ],\n",
       "       [ 1.44702338,  1.06152278,  1.19771741],\n",
       "       [-0.84304109, -0.02834315, -0.39458775],\n",
       "       [ 0.09676151,  0.18741189, -0.346834  ],\n",
       "       [ 0.84017479,  0.41523303,  1.11921444],\n",
       "       [ 1.02746612, -1.2660875 , -0.10205346],\n",
       "       [-1.72466475, -0.3430802 ,  0.99069777],\n",
       "       [ 0.93826742, -0.27204438,  0.0356758 ],\n",
       "       [-0.93674187, -0.59023588, -0.39458775],\n",
       "       [ 1.27285397, -1.44792482, -0.32336998],\n",
       "       [ 0.04802388,  0.50756488, -0.7740548 ],\n",
       "       [ 1.05376032, -0.28612399, -0.13384051],\n",
       "       [ 1.13797152,  0.38008881, -0.13384051],\n",
       "       [-0.82432769, -0.33590351,  0.66980347],\n",
       "       [ 1.55379249,  0.45008922,  0.76092313],\n",
       "       [-0.29552539, -0.23711359,  0.58357284],\n",
       "       [-0.48458608, -1.71704857,  0.21669702],\n",
       "       [ 1.29846636, -0.06117169, -2.2758464 ],\n",
       "       [-0.50304519, -1.7324148 , -1.21299201],\n",
       "       [ 1.53345233, -1.3771472 , -1.10919482],\n",
       "       [ 1.31077419,  1.27109462, -1.4708598 ],\n",
       "       [-0.77006157,  1.53885314,  0.85283827],\n",
       "       [-1.21308859,  0.35649509,  0.44045973],\n",
       "       [ 0.93531131,  0.96392681,  0.30682057],\n",
       "       [ 0.68018031,  0.08742886,  0.28905461],\n",
       "       [ 0.4165774 ,  0.73579933,  0.58755182],\n",
       "       [ 1.56025605,  0.41523303, -1.93614969],\n",
       "       [ 0.72477076, -0.94246393,  0.04555612],\n",
       "       [-1.50299171,  0.29691633,  0.76465678],\n",
       "       [ 0.39655706,  0.10007132,  0.2845934 ],\n",
       "       [-0.5776425 , -0.81067203,  0.46554742],\n",
       "       [ 1.05181524,  1.15733673, -0.38254334],\n",
       "       [ 0.92742341, -0.35027362,  1.00104316],\n",
       "       [-0.87399682, -0.66162053,  0.51093113],\n",
       "       [ 0.652694  , -1.49718987,  0.41936802],\n",
       "       [-0.44544938, -0.83642883, -1.65023317],\n",
       "       [ 0.82021967,  1.16732335,  0.62310406],\n",
       "       [ 0.47526481,  1.38737344,  1.29005095],\n",
       "       [ 1.27095405,  0.47892195, -0.54515187],\n",
       "       [ 0.6435106 ,  1.53885314,  1.33059751],\n",
       "       [-1.85241088,  0.43850198,  0.6928619 ],\n",
       "       [-0.02694246, -0.11434473, -0.50002298],\n",
       "       [ 0.7640894 ,  1.54819296,  0.54749686],\n",
       "       [ 0.76308359,  0.51896989, -1.03801781],\n",
       "       [-1.06021399, -1.64357954, -0.21538949],\n",
       "       [ 1.25764412,  1.21698291,  1.16198054],\n",
       "       [ 1.04597746, -0.37195568,  0.08950799],\n",
       "       [-0.41751811,  0.52466135, -1.11833294],\n",
       "       [-0.08464536,  1.22192414,  0.16568658],\n",
       "       [-0.84572231, -0.8624742 , -2.12148202],\n",
       "       [-1.39528628,  0.23035564, -1.86501   ],\n",
       "       [ 0.00785902, -0.44537697, -0.96167639],\n",
       "       [ 1.02746612,  0.40355071, -0.89675177],\n",
       "       [ 0.8242145 ,  1.27598779,  0.08466485],\n",
       "       [ 0.64555228,  0.58117899,  0.58755182],\n",
       "       [-0.33228945, -0.46028254,  0.29350789],\n",
       "       [-1.47377148,  0.71402259, -0.33506848],\n",
       "       [-0.10400761, -1.202897  ,  0.27564704],\n",
       "       [ 0.79019725,  0.23035564, -0.73744518],\n",
       "       [-1.65184774,  1.26619715,  2.13937255],\n",
       "       [-1.46187563, -1.70192244, -0.25453031],\n",
       "       [-0.20647326,  0.46164538, -0.65947105],\n",
       "       [-1.89822804,  0.54169198, -1.02934918],\n",
       "       [-0.25902053, -1.00678392, -0.12319395],\n",
       "       [-0.74778651,  0.35649509, -0.16609367],\n",
       "       [ 1.05084254, -1.3771472 ,  0.51501874],\n",
       "       [-0.76218508, -0.04143812,  0.32885333],\n",
       "       [-0.85377796,  1.30525722,  0.46138274],\n",
       "       [ 0.79119975,  1.23179329,  0.38526098],\n",
       "       [ 0.58509675, -0.16835339,  1.50271112],\n",
       "       [-0.74909326,  0.40355071, -0.53863938],\n",
       "       [-0.32158879,  1.11216604,  1.42831665],\n",
       "       [-0.59523084,  0.28489586,  1.72217946],\n",
       "       [-0.33228945,  1.4636021 ,  1.05224719],\n",
       "       [-0.04837336, -1.28768913, -1.03801781],\n",
       "       [-1.44333425, -1.71704857,  0.35069626],\n",
       "       [ 0.8331959 ,  0.74122791,  1.29945293],\n",
       "       [ 1.15818339,  0.90131402,  1.69166052],\n",
       "       [-0.36093577, -0.4827855 , -0.90472726],\n",
       "       [ 0.2709304 ,  0.63699688,  1.1026083 ],\n",
       "       [ 0.63022667, -1.44792482, -1.36815587],\n",
       "       [ 0.49923329,  0.00418624, -0.18240095],\n",
       "       [ 1.52419364,  1.19717332,  1.04546953],\n",
       "       [-0.0382122 ,  1.16732335,  0.86006693],\n",
       "       [ 0.87994389, -1.35429375,  0.99759864],\n",
       "       [ 1.43581778, -0.79365568, -0.21538949],\n",
       "       [ 0.53038105, -0.25104051, -0.41889554],\n",
       "       [ 1.03526502,  0.78443582, -1.43568966],\n",
       "       [-0.00783277,  1.39695704,  1.29945293],\n",
       "       [-1.50472569, -0.71852874,  0.20289058],\n",
       "       [-0.56887482, -1.92277996, -0.11788987],\n",
       "       [-1.72669682, -1.90334954,  0.00577961],\n",
       "       [ 1.20134779,  0.36830859, -1.41277956],\n",
       "       [ 0.91360226, -0.96064272,  1.22025052],\n",
       "       [ 1.06930594,  0.97946003, -0.11788987],\n",
       "       [ 0.40288531, -0.37921745, -1.83137048],\n",
       "       [ 0.75201155, -0.02181365, -0.9207956 ],\n",
       "       [-0.72433929,  1.41607663,  0.41512911],\n",
       "       [-0.76480878,  0.82192754,  1.09594084],\n",
       "       [ 0.00673953, -0.46028254,  0.00577961],\n",
       "       [-0.74778651, -1.83055994, -0.61831443],\n",
       "       [-0.14637764,  0.92227141,  1.87892616],\n",
       "       [-1.60487761, -0.33590351, -0.16609367],\n",
       "       [ 0.03020546,  0.36240602,  0.87087647],\n",
       "       [-1.61600701,  0.04924266,  1.01820721],\n",
       "       [ 0.89579959, -1.58822992, -0.56482448],\n",
       "       [-0.17634363,  0.8005392 , -0.78891695],\n",
       "       [ 0.95008184,  0.67566908,  1.7442111 ],\n",
       "       [-0.60910057, -0.65359273,  0.02077604],\n",
       "       [-1.84082856,  1.02577993,  1.02504572],\n",
       "       [-0.69844865, -1.98495808, -1.04673537],\n",
       "       [ 0.8590884 ,  1.52012963, -1.70718676],\n",
       "       [-0.97412104, -0.63761079,  0.75718457],\n",
       "       [-2.03323356,  1.06152278, -1.09108448],\n",
       "       [ 1.2946762 , -1.52253007,  0.7534411 ],\n",
       "       [-1.82715302,  0.38596655, -1.88228781],\n",
       "       [ 0.85411524,  0.74122791,  0.83104401],\n",
       "       [-1.30867028,  1.0103861 ,  1.49976669],\n",
       "       [-1.13560137,  1.42561279, -1.10919482],\n",
       "       [-1.49434751,  1.03090107, -1.03801781],\n",
       "       [ 1.37490294,  0.48466558,  1.32128542],\n",
       "       [-1.21460127,  0.30890141, -0.2658475 ],\n",
       "       [ 0.49923329,  1.27598779, -1.95484304],\n",
       "       [-0.78718324, -0.2650278 , -0.75199725],\n",
       "       [ 0.59023843,  0.84322253,  1.78244184],\n",
       "       [ 0.86107685,  0.72492349,  0.55555544],\n",
       "       [-0.39456576, -1.202897  ,  0.41088327],\n",
       "       [-0.49688394, -0.42315979,  0.59549238],\n",
       "       [ 0.01904252, -1.65786243, -1.06432036],\n",
       "       [ 1.05376032, -1.04445327, -1.09108448],\n",
       "       [ 1.08385578,  1.52012963,  0.80172759],\n",
       "       [-1.29143203,  1.09702388, -0.82664429],\n",
       "       [-1.1890052 ,  0.30291327, -0.26018131],\n",
       "       [ 1.44048829, -0.49032576,  0.51910011],\n",
       "       [-0.20066619, -0.94246393,  0.95944652],\n",
       "       [ 0.63022667,  0.15022331, -0.65947105],\n",
       "       [ 0.35634693,  1.06660903,  0.54749686],\n",
       "       [ 0.52934487,  0.01065705, -1.02072873],\n",
       "       [-1.93163495, -0.66967326, -1.39027462],\n",
       "       [-0.52529469,  1.25638925,  1.02162839],\n",
       "       [ 0.12428563, -1.74803521, -0.06036496],\n",
       "       [-1.75555556,  0.92227141,  0.83468776],\n",
       "       [-0.07782712, -0.16835339,  0.41936802],\n",
       "       [ 0.36906953, -0.18883181,  0.24861364],\n",
       "       [-0.62808655,  0.86442562,  0.98031676],\n",
       "       [ 0.5355598 , -0.18883181,  0.00577961],\n",
       "       [ 0.2730788 ,  0.91704026, -1.21299201],\n",
       "       [-0.24495734, -0.43054692, -1.42418272],\n",
       "       [ 0.99913782, -1.46007371,  2.02414625],\n",
       "       [-1.63286723,  0.95873855, -0.20433701],\n",
       "       [ 0.72376009, -1.25539136, -0.32921092],\n",
       "       [ 0.81022423,  0.16886223,  1.25534066],\n",
       "       [ 1.47405264, -0.75163452, -1.31443661],\n",
       "       [-1.11073781, -0.66967326, -0.38855655],\n",
       "       [ 0.28381064, -0.00229617,  0.91372099],\n",
       "       [-1.60118681, -0.05458158, -0.47470116],\n",
       "       [ 0.32550506, -1.06355551, -0.75931882],\n",
       "       [ 0.87994389, -1.46007371, -0.73744518],\n",
       "       [ 1.40493806,  1.51543955,  0.70812926],\n",
       "       [ 1.13411664,  0.55865764, -0.27722588],\n",
       "       [ 0.34466429, -0.99747386,  0.44465771],\n",
       "       [ 1.40306351, -1.60181548, -0.09155822],\n",
       "       [ 0.29559622, -0.80214864, -0.43732278],\n",
       "       [ 0.19855946, -1.56152179, -1.12752759],\n",
       "       [ 0.8411713 , -1.23420066,  0.09434122],\n",
       "       [-1.02181379, -1.202897  ,  0.20289058],\n",
       "       [ 1.50472337,  1.23179329,  1.67770049],\n",
       "       [ 1.18602318,  0.02356422,  0.21669702],\n",
       "       [ 0.70554619,  1.33437513, -0.31754553],\n",
       "       [ 0.01009737, -1.62948287,  0.05539471],\n",
       "       [ 0.56346396,  0.47317073, -0.40063711],\n",
       "       [ 1.48986416, -0.49032576, -1.63644784],\n",
       "       [-1.61787038, -0.62965614, -0.1073197 ],\n",
       "       [-1.26812741,  1.13730782, -1.3791681 ],\n",
       "       [-0.75956316, -0.73502642, -1.3572358 ],\n",
       "       [-1.6461253 , -1.3771472 ,  0.28905461],\n",
       "       [ 0.30843016,  1.18226883, -1.65023317],\n",
       "       [ 0.12318696,  0.85383548, -1.3572358 ],\n",
       "       [-1.28831146, -1.42394128, -0.68743455],\n",
       "       [-0.52157887, -1.28768913, -1.14609038],\n",
       "       [ 0.4165774 , -0.8624742 , -1.31443661],\n",
       "       [ 1.4675349 ,  1.18226883,  1.51739504],\n",
       "       [ 0.97562509, -0.92443675, -1.09108448]])"
      ]
     },
     "execution_count": 38,
     "metadata": {},
     "output_type": "execute_result"
    }
   ],
   "source": [
    "x"
   ]
  },
  {
   "cell_type": "code",
   "execution_count": 39,
   "id": "8ca01805",
   "metadata": {},
   "outputs": [
    {
     "data": {
      "text/plain": [
       "array([[ 0.95598306,  0.9691098 ,  1.6041965 ],\n",
       "       [-1.19200349,  1.04623436,  0.83104401],\n",
       "       [-1.6461253 ,  1.37296802,  1.60705249],\n",
       "       [ 0.14293428,  1.1473316 ,  1.28376774],\n",
       "       [ 0.45645241, -0.73502642,  1.28062154],\n",
       "       [-1.8204008 ,  1.51543955,  1.76610727],\n",
       "       [-1.00349358,  0.70309642, -0.10205346],\n",
       "       [-0.20996049, -0.0876566 , -0.84968895],\n",
       "       [-1.82264543, -1.62948287, -2.09866461],\n",
       "       [ 0.652694  , -1.56152179, -0.22649933],\n",
       "       [-0.88482761, -1.19258569, -0.06553382],\n",
       "       [ 0.80322028,  0.19357553, -1.59608414],\n",
       "       [-1.52567125,  0.82725998,  1.50859232],\n",
       "       [-0.48090308, -1.01613619, -1.23269654],\n",
       "       [ 0.69642374,  0.70856268,  0.86367455],\n",
       "       [ 0.60769456,  1.45886692,  1.1026083 ],\n",
       "       [ 1.44702338,  1.06152278,  1.19771741],\n",
       "       [-0.84304109, -0.02834315, -0.39458775],\n",
       "       [ 0.09676151,  0.18741189, -0.346834  ],\n",
       "       [ 0.84017479,  0.41523303,  1.11921444],\n",
       "       [ 1.02746612, -1.2660875 , -0.10205346],\n",
       "       [-1.72466475, -0.3430802 ,  0.99069777],\n",
       "       [ 0.93826742, -0.27204438,  0.0356758 ],\n",
       "       [-0.93674187, -0.59023588, -0.39458775],\n",
       "       [ 1.27285397, -1.44792482, -0.32336998],\n",
       "       [ 0.04802388,  0.50756488, -0.7740548 ],\n",
       "       [ 1.05376032, -0.28612399, -0.13384051],\n",
       "       [ 1.13797152,  0.38008881, -0.13384051],\n",
       "       [-0.82432769, -0.33590351,  0.66980347],\n",
       "       [ 1.55379249,  0.45008922,  0.76092313],\n",
       "       [-0.29552539, -0.23711359,  0.58357284],\n",
       "       [-0.48458608, -1.71704857,  0.21669702],\n",
       "       [ 1.29846636, -0.06117169, -2.2758464 ],\n",
       "       [-0.50304519, -1.7324148 , -1.21299201],\n",
       "       [ 1.53345233, -1.3771472 , -1.10919482],\n",
       "       [ 1.31077419,  1.27109462, -1.4708598 ],\n",
       "       [-0.77006157,  1.53885314,  0.85283827],\n",
       "       [-1.21308859,  0.35649509,  0.44045973],\n",
       "       [ 0.93531131,  0.96392681,  0.30682057],\n",
       "       [ 0.68018031,  0.08742886,  0.28905461],\n",
       "       [ 0.4165774 ,  0.73579933,  0.58755182],\n",
       "       [ 1.56025605,  0.41523303, -1.93614969],\n",
       "       [ 0.72477076, -0.94246393,  0.04555612],\n",
       "       [-1.50299171,  0.29691633,  0.76465678],\n",
       "       [ 0.39655706,  0.10007132,  0.2845934 ],\n",
       "       [-0.5776425 , -0.81067203,  0.46554742],\n",
       "       [ 1.05181524,  1.15733673, -0.38254334],\n",
       "       [ 0.92742341, -0.35027362,  1.00104316],\n",
       "       [-0.87399682, -0.66162053,  0.51093113],\n",
       "       [ 0.652694  , -1.49718987,  0.41936802],\n",
       "       [-0.44544938, -0.83642883, -1.65023317],\n",
       "       [ 0.82021967,  1.16732335,  0.62310406],\n",
       "       [ 0.47526481,  1.38737344,  1.29005095],\n",
       "       [ 1.27095405,  0.47892195, -0.54515187],\n",
       "       [ 0.6435106 ,  1.53885314,  1.33059751],\n",
       "       [-1.85241088,  0.43850198,  0.6928619 ],\n",
       "       [-0.02694246, -0.11434473, -0.50002298],\n",
       "       [ 0.7640894 ,  1.54819296,  0.54749686],\n",
       "       [ 0.76308359,  0.51896989, -1.03801781],\n",
       "       [-1.06021399, -1.64357954, -0.21538949],\n",
       "       [ 1.25764412,  1.21698291,  1.16198054],\n",
       "       [ 1.04597746, -0.37195568,  0.08950799],\n",
       "       [-0.41751811,  0.52466135, -1.11833294],\n",
       "       [-0.08464536,  1.22192414,  0.16568658],\n",
       "       [-0.84572231, -0.8624742 , -2.12148202],\n",
       "       [-1.39528628,  0.23035564, -1.86501   ],\n",
       "       [ 0.00785902, -0.44537697, -0.96167639],\n",
       "       [ 1.02746612,  0.40355071, -0.89675177],\n",
       "       [ 0.8242145 ,  1.27598779,  0.08466485],\n",
       "       [ 0.64555228,  0.58117899,  0.58755182],\n",
       "       [-0.33228945, -0.46028254,  0.29350789],\n",
       "       [-1.47377148,  0.71402259, -0.33506848],\n",
       "       [-0.10400761, -1.202897  ,  0.27564704],\n",
       "       [ 0.79019725,  0.23035564, -0.73744518],\n",
       "       [-1.65184774,  1.26619715,  2.13937255],\n",
       "       [-1.46187563, -1.70192244, -0.25453031],\n",
       "       [-0.20647326,  0.46164538, -0.65947105],\n",
       "       [-1.89822804,  0.54169198, -1.02934918],\n",
       "       [-0.25902053, -1.00678392, -0.12319395],\n",
       "       [-0.74778651,  0.35649509, -0.16609367],\n",
       "       [ 1.05084254, -1.3771472 ,  0.51501874],\n",
       "       [-0.76218508, -0.04143812,  0.32885333],\n",
       "       [-0.85377796,  1.30525722,  0.46138274],\n",
       "       [ 0.79119975,  1.23179329,  0.38526098],\n",
       "       [ 0.58509675, -0.16835339,  1.50271112],\n",
       "       [-0.74909326,  0.40355071, -0.53863938],\n",
       "       [-0.32158879,  1.11216604,  1.42831665],\n",
       "       [-0.59523084,  0.28489586,  1.72217946],\n",
       "       [-0.33228945,  1.4636021 ,  1.05224719],\n",
       "       [-0.04837336, -1.28768913, -1.03801781],\n",
       "       [-1.44333425, -1.71704857,  0.35069626],\n",
       "       [ 0.8331959 ,  0.74122791,  1.29945293],\n",
       "       [ 1.15818339,  0.90131402,  1.69166052],\n",
       "       [-0.36093577, -0.4827855 , -0.90472726],\n",
       "       [ 0.2709304 ,  0.63699688,  1.1026083 ],\n",
       "       [ 0.63022667, -1.44792482, -1.36815587],\n",
       "       [ 0.49923329,  0.00418624, -0.18240095],\n",
       "       [ 1.52419364,  1.19717332,  1.04546953],\n",
       "       [-0.0382122 ,  1.16732335,  0.86006693],\n",
       "       [ 0.87994389, -1.35429375,  0.99759864],\n",
       "       [ 1.43581778, -0.79365568, -0.21538949],\n",
       "       [ 0.53038105, -0.25104051, -0.41889554],\n",
       "       [ 1.03526502,  0.78443582, -1.43568966],\n",
       "       [-0.00783277,  1.39695704,  1.29945293],\n",
       "       [-1.50472569, -0.71852874,  0.20289058],\n",
       "       [-0.56887482, -1.92277996, -0.11788987],\n",
       "       [-1.72669682, -1.90334954,  0.00577961],\n",
       "       [ 1.20134779,  0.36830859, -1.41277956],\n",
       "       [ 0.91360226, -0.96064272,  1.22025052],\n",
       "       [ 1.06930594,  0.97946003, -0.11788987],\n",
       "       [ 0.40288531, -0.37921745, -1.83137048],\n",
       "       [ 0.75201155, -0.02181365, -0.9207956 ],\n",
       "       [-0.72433929,  1.41607663,  0.41512911],\n",
       "       [-0.76480878,  0.82192754,  1.09594084],\n",
       "       [ 0.00673953, -0.46028254,  0.00577961],\n",
       "       [-0.74778651, -1.83055994, -0.61831443],\n",
       "       [-0.14637764,  0.92227141,  1.87892616],\n",
       "       [-1.60487761, -0.33590351, -0.16609367],\n",
       "       [ 0.03020546,  0.36240602,  0.87087647],\n",
       "       [-1.61600701,  0.04924266,  1.01820721],\n",
       "       [ 0.89579959, -1.58822992, -0.56482448],\n",
       "       [-0.17634363,  0.8005392 , -0.78891695],\n",
       "       [ 0.95008184,  0.67566908,  1.7442111 ],\n",
       "       [-0.60910057, -0.65359273,  0.02077604],\n",
       "       [-1.84082856,  1.02577993,  1.02504572],\n",
       "       [-0.69844865, -1.98495808, -1.04673537],\n",
       "       [ 0.8590884 ,  1.52012963, -1.70718676],\n",
       "       [-0.97412104, -0.63761079,  0.75718457],\n",
       "       [-2.03323356,  1.06152278, -1.09108448],\n",
       "       [ 1.2946762 , -1.52253007,  0.7534411 ],\n",
       "       [-1.82715302,  0.38596655, -1.88228781],\n",
       "       [ 0.85411524,  0.74122791,  0.83104401],\n",
       "       [-1.30867028,  1.0103861 ,  1.49976669],\n",
       "       [-1.13560137,  1.42561279, -1.10919482],\n",
       "       [-1.49434751,  1.03090107, -1.03801781],\n",
       "       [ 1.37490294,  0.48466558,  1.32128542],\n",
       "       [-1.21460127,  0.30890141, -0.2658475 ],\n",
       "       [ 0.49923329,  1.27598779, -1.95484304],\n",
       "       [-0.78718324, -0.2650278 , -0.75199725],\n",
       "       [ 0.59023843,  0.84322253,  1.78244184],\n",
       "       [ 0.86107685,  0.72492349,  0.55555544],\n",
       "       [-0.39456576, -1.202897  ,  0.41088327],\n",
       "       [-0.49688394, -0.42315979,  0.59549238],\n",
       "       [ 0.01904252, -1.65786243, -1.06432036],\n",
       "       [ 1.05376032, -1.04445327, -1.09108448],\n",
       "       [ 1.08385578,  1.52012963,  0.80172759],\n",
       "       [-1.29143203,  1.09702388, -0.82664429],\n",
       "       [-1.1890052 ,  0.30291327, -0.26018131],\n",
       "       [ 1.44048829, -0.49032576,  0.51910011],\n",
       "       [-0.20066619, -0.94246393,  0.95944652],\n",
       "       [ 0.63022667,  0.15022331, -0.65947105],\n",
       "       [ 0.35634693,  1.06660903,  0.54749686],\n",
       "       [ 0.52934487,  0.01065705, -1.02072873],\n",
       "       [-1.93163495, -0.66967326, -1.39027462],\n",
       "       [-0.52529469,  1.25638925,  1.02162839],\n",
       "       [ 0.12428563, -1.74803521, -0.06036496],\n",
       "       [-1.75555556,  0.92227141,  0.83468776],\n",
       "       [-0.07782712, -0.16835339,  0.41936802],\n",
       "       [ 0.36906953, -0.18883181,  0.24861364],\n",
       "       [-0.62808655,  0.86442562,  0.98031676],\n",
       "       [ 0.5355598 , -0.18883181,  0.00577961],\n",
       "       [ 0.2730788 ,  0.91704026, -1.21299201],\n",
       "       [-0.24495734, -0.43054692, -1.42418272],\n",
       "       [ 0.99913782, -1.46007371,  2.02414625],\n",
       "       [-1.63286723,  0.95873855, -0.20433701],\n",
       "       [ 0.72376009, -1.25539136, -0.32921092],\n",
       "       [ 0.81022423,  0.16886223,  1.25534066],\n",
       "       [ 1.47405264, -0.75163452, -1.31443661],\n",
       "       [-1.11073781, -0.66967326, -0.38855655],\n",
       "       [ 0.28381064, -0.00229617,  0.91372099],\n",
       "       [-1.60118681, -0.05458158, -0.47470116],\n",
       "       [ 0.32550506, -1.06355551, -0.75931882],\n",
       "       [ 0.87994389, -1.46007371, -0.73744518],\n",
       "       [ 1.40493806,  1.51543955,  0.70812926],\n",
       "       [ 1.13411664,  0.55865764, -0.27722588],\n",
       "       [ 0.34466429, -0.99747386,  0.44465771],\n",
       "       [ 1.40306351, -1.60181548, -0.09155822],\n",
       "       [ 0.29559622, -0.80214864, -0.43732278],\n",
       "       [ 0.19855946, -1.56152179, -1.12752759],\n",
       "       [ 0.8411713 , -1.23420066,  0.09434122],\n",
       "       [-1.02181379, -1.202897  ,  0.20289058],\n",
       "       [ 1.50472337,  1.23179329,  1.67770049],\n",
       "       [ 1.18602318,  0.02356422,  0.21669702],\n",
       "       [ 0.70554619,  1.33437513, -0.31754553],\n",
       "       [ 0.01009737, -1.62948287,  0.05539471],\n",
       "       [ 0.56346396,  0.47317073, -0.40063711],\n",
       "       [ 1.48986416, -0.49032576, -1.63644784],\n",
       "       [-1.61787038, -0.62965614, -0.1073197 ],\n",
       "       [-1.26812741,  1.13730782, -1.3791681 ],\n",
       "       [-0.75956316, -0.73502642, -1.3572358 ],\n",
       "       [-1.6461253 , -1.3771472 ,  0.28905461],\n",
       "       [ 0.30843016,  1.18226883, -1.65023317],\n",
       "       [ 0.12318696,  0.85383548, -1.3572358 ],\n",
       "       [-1.28831146, -1.42394128, -0.68743455],\n",
       "       [-0.52157887, -1.28768913, -1.14609038],\n",
       "       [ 0.4165774 , -0.8624742 , -1.31443661],\n",
       "       [ 1.4675349 ,  1.18226883,  1.51739504],\n",
       "       [ 0.97562509, -0.92443675, -1.09108448]])"
      ]
     },
     "execution_count": 39,
     "metadata": {},
     "output_type": "execute_result"
    }
   ],
   "source": [
    "from sklearn.preprocessing import StandardScaler\n",
    "sc=StandardScaler()\n",
    "x=sc.fit_transform(x)\n",
    "x"
   ]
  },
  {
   "cell_type": "markdown",
   "id": "df611379",
   "metadata": {},
   "source": [
    "# MODEL BUILDING:"
   ]
  },
  {
   "cell_type": "markdown",
   "id": "75ea0ce2",
   "metadata": {},
   "source": [
    "# Linear Regression:"
   ]
  },
  {
   "cell_type": "code",
   "execution_count": 40,
   "id": "5a77c6d6",
   "metadata": {},
   "outputs": [],
   "source": [
    "from sklearn.model_selection import train_test_split\n",
    "from sklearn.linear_model import LinearRegression\n",
    "lr=LinearRegression()\n",
    "from sklearn.metrics import r2_score\n",
    "from sklearn.metrics import mean_absolute_error\n",
    "from sklearn.metrics import mean_squared_error\n",
    "import numpy as np"
   ]
  },
  {
   "cell_type": "markdown",
   "id": "1a1c058b",
   "metadata": {},
   "source": [
    "# Splitting the dataframe:"
   ]
  },
  {
   "cell_type": "code",
   "execution_count": 41,
   "id": "e1e54657",
   "metadata": {},
   "outputs": [
    {
     "name": "stdout",
     "output_type": "stream",
     "text": [
      "At random state: 79\n",
      "Training r2_score is: -77618.55208727141\n",
      "Testing r2_score is: -92958.05254059202\n",
      "At random state: 112\n",
      "Training r2_score is: -76192.65156892977\n",
      "Testing r2_score is: -107865.01554659515\n",
      "At random state: 137\n",
      "Training r2_score is: -80989.7183055414\n",
      "Testing r2_score is: -80980.70190060581\n",
      "At random state: 151\n",
      "Training r2_score is: -75279.03984218785\n",
      "Testing r2_score is: -108862.09861938281\n",
      "At random state: 235\n",
      "Training r2_score is: -83852.6644990956\n",
      "Testing r2_score is: -68698.17967211721\n",
      "At random state: 243\n",
      "Training r2_score is: -76804.88891595992\n",
      "Testing r2_score is: -98594.66933186137\n",
      "At random state: 280\n",
      "Training r2_score is: -83555.33894898661\n",
      "Testing r2_score is: -75245.99330471686\n",
      "At random state: 341\n",
      "Training r2_score is: -80258.79011318699\n",
      "Testing r2_score is: -80173.81938992455\n",
      "At random state: 492\n",
      "Training r2_score is: -79291.92790485031\n",
      "Testing r2_score is: -98245.99011718495\n",
      "At random state: 510\n",
      "Training r2_score is: -81326.77673182849\n",
      "Testing r2_score is: -72864.8793778205\n",
      "At random state: 571\n",
      "Training r2_score is: -80750.01322805286\n",
      "Testing r2_score is: -78812.65599297095\n",
      "At random state: 735\n",
      "Training r2_score is: -80533.57643352229\n",
      "Testing r2_score is: -78557.6357549531\n",
      "At random state: 806\n",
      "Training r2_score is: -78634.3547799754\n",
      "Testing r2_score is: -86919.69779221552\n",
      "At random state: 873\n",
      "Training r2_score is: -80964.85951084699\n",
      "Testing r2_score is: -80161.80440818166\n",
      "At random state: 889\n",
      "Training r2_score is: -76118.54220170632\n",
      "Testing r2_score is: -110515.16976112676\n",
      "At random state: 976\n",
      "Training r2_score is: -82237.73596693594\n",
      "Testing r2_score is: -70036.51701195828\n"
     ]
    }
   ],
   "source": [
    "for i in range(0,1000):\n",
    "    x_train,x_test,y_train,y_test=train_test_split(x,y,random_state=i,test_size=0.20)\n",
    "    lr.fit(x_train,y_train)\n",
    "    pred_train=lr.predict(x_train)\n",
    "    pred_test=lr.predict(x_test)\n",
    "    if round(r2_score(y_train,pred_train)*100,1)==round(r2_score(y_test,pred_test)*100,1):\n",
    "        print(\"At random state:\",i)\n",
    "        print(\"Training r2_score is:\",r2_score(y_train,pred_train*100))\n",
    "        print(\"Testing r2_score is:\",r2_score(y_test,pred_test*100))"
   ]
  },
  {
   "cell_type": "code",
   "execution_count": 42,
   "id": "b49f6fe1",
   "metadata": {},
   "outputs": [
    {
     "name": "stdout",
     "output_type": "stream",
     "text": [
      "Error:\n",
      "Mean Absolute Error: 1.242480301837905\n",
      "Mean Squared Error: 2.757877930911765\n",
      "Root Mean Square Error: 1.6606859820302469\n"
     ]
    }
   ],
   "source": [
    "print('Error:')\n",
    "\n",
    "print('Mean Absolute Error:',mean_absolute_error(y_test,pred_test))\n",
    "print('Mean Squared Error:',mean_squared_error(y_test,pred_test))\n",
    "print('Root Mean Square Error:',np.sqrt(mean_squared_error(y_test,pred_test)))"
   ]
  },
  {
   "cell_type": "code",
   "execution_count": 43,
   "id": "3d35c301",
   "metadata": {},
   "outputs": [
    {
     "data": {
      "image/png": "[encoded data removed]",
      "text/plain": [
       "<Figure size 576x432 with 1 Axes>"
      ]
     },
     "metadata": {
      "needs_background": "light"
     },
     "output_type": "display_data"
    }
   ],
   "source": [
    "plt.figure(figsize=(8,6))\n",
    "plt.scatter(x=y_test, y=pred_test, color='r')\n",
    "plt.plot(y_test,y_test, color='b')\n",
    "plt.xlabel('Actual Value',fontsize=14)\n",
    "plt.ylabel('Predicted Value',fontsize=14)\n",
    "plt.title('Linear Regression',fontsize=18)\n",
    "plt.show()"
   ]
  },
  {
   "cell_type": "markdown",
   "id": "511f70d4",
   "metadata": {},
   "source": [
    "We can see that the values does not lie on the linear line. We will approach more regressors"
   ]
  },
  {
   "cell_type": "code",
   "execution_count": 44,
   "id": "c3291abc",
   "metadata": {},
   "outputs": [],
   "source": [
    "x_train,x_test,y_train,y_test=train_test_split(x,y,test_size=0.20,random_state=137)"
   ]
  },
  {
   "cell_type": "markdown",
   "id": "c99ac2f4",
   "metadata": {},
   "source": [
    "# Regularization:"
   ]
  },
  {
   "cell_type": "code",
   "execution_count": 45,
   "id": "37924474",
   "metadata": {},
   "outputs": [],
   "source": [
    "from sklearn.model_selection import GridSearchCV\n",
    "from sklearn.model_selection import cross_val_score"
   ]
  },
  {
   "cell_type": "markdown",
   "id": "e4c7fb0a",
   "metadata": {},
   "source": [
    "# 1.Lasso:"
   ]
  },
  {
   "cell_type": "code",
   "execution_count": 46,
   "id": "a29745ba",
   "metadata": {},
   "outputs": [
    {
     "name": "stdout",
     "output_type": "stream",
     "text": [
      "{'alpha': 0.1, 'random_state': 0}\n"
     ]
    }
   ],
   "source": [
    "from sklearn.linear_model import Lasso\n",
    "\n",
    "parameters = {'alpha':[.0001, .001, .01, .1, 1, 10],'random_state':list(range(0,10))}\n",
    "ls = Lasso()\n",
    "clf = GridSearchCV(ls,parameters)\n",
    "clf.fit(x_train,y_train)\n",
    "\n",
    "print(clf.best_params_)"
   ]
  },
  {
   "cell_type": "code",
   "execution_count": 47,
   "id": "cdafb438",
   "metadata": {},
   "outputs": [
    {
     "name": "stdout",
     "output_type": "stream",
     "text": [
      "At cv:- 2\n",
      "Cross validation score is:- 90.14616379006017\n",
      "R2_score is :- 90.11410397540224\n",
      "\n",
      "\n",
      "At cv:- 3\n",
      "Cross validation score is:- 89.72351383573026\n",
      "R2_score is :- 90.11410397540224\n",
      "\n",
      "\n",
      "At cv:- 4\n",
      "Cross validation score is:- 89.80785666814384\n",
      "R2_score is :- 90.11410397540224\n",
      "\n",
      "\n",
      "At cv:- 5\n",
      "Cross validation score is:- 89.57805874289184\n",
      "R2_score is :- 90.11410397540224\n",
      "\n",
      "\n",
      "At cv:- 6\n",
      "Cross validation score is:- 89.81682352909685\n",
      "R2_score is :- 90.11410397540224\n",
      "\n",
      "\n",
      "At cv:- 7\n",
      "Cross validation score is:- 89.46701250358076\n",
      "R2_score is :- 90.11410397540224\n",
      "\n",
      "\n",
      "At cv:- 8\n",
      "Cross validation score is:- 89.81744733610321\n",
      "R2_score is :- 90.11410397540224\n",
      "\n",
      "\n",
      "At cv:- 9\n",
      "Cross validation score is:- 89.36472532637083\n",
      "R2_score is :- 90.11410397540224\n",
      "\n",
      "\n"
     ]
    }
   ],
   "source": [
    "ls = Lasso(alpha=0.1,random_state=0)\n",
    "ls.fit(x_train,y_train)\n",
    "ls.score(x_train,y_train)\n",
    "pred_ls = ls.predict(x_test)\n",
    "\n",
    "lss = r2_score(y_test,pred_ls)\n",
    "for j in range(2,10):\n",
    "    lsscore = cross_val_score(ls,x,y,cv=j)\n",
    "    lsc = lsscore.mean() \n",
    "    print(\"At cv:-\",j)\n",
    "    print(\"Cross validation score is:-\",lsc*100 )\n",
    "    print(\"R2_score is :-\",lss*100)\n",
    "    print(\"\\n\")"
   ]
  },
  {
   "cell_type": "code",
   "execution_count": 48,
   "id": "0e62e421",
   "metadata": {},
   "outputs": [
    {
     "name": "stdout",
     "output_type": "stream",
     "text": [
      "At cv: 2\n",
      "Cross validation score is: 90.14616379006017\n",
      "R2_Score is: 90.11410397540224\n"
     ]
    }
   ],
   "source": [
    "print(\"At cv:\",2)\n",
    "print(\"Cross validation score is:\",90.14616379006017)\n",
    "print(\"R2_Score is:\",90.11410397540224)"
   ]
  },
  {
   "cell_type": "code",
   "execution_count": 49,
   "id": "80b8a7b1",
   "metadata": {},
   "outputs": [
    {
     "name": "stdout",
     "output_type": "stream",
     "text": [
      "Error:\n",
      "Mean Absolute Error: 1.4701577626015052\n",
      "Mean Squared Error: 2.9905107336548857\n",
      "Root Mean Square Error: 1.729309322722481\n"
     ]
    }
   ],
   "source": [
    "print('Error:')\n",
    "\n",
    "print('Mean Absolute Error:',mean_absolute_error(y_test,pred_ls))\n",
    "print('Mean Squared Error:',mean_squared_error(y_test,pred_ls))\n",
    "print('Root Mean Square Error:',np.sqrt(mean_squared_error(y_test,pred_ls)))"
   ]
  },
  {
   "cell_type": "code",
   "execution_count": 50,
   "id": "405a8446",
   "metadata": {},
   "outputs": [
    {
     "data": {
      "image/png": "[encoded data removed]",
      "text/plain": [
       "<Figure size 576x432 with 1 Axes>"
      ]
     },
     "metadata": {
      "needs_background": "light"
     },
     "output_type": "display_data"
    }
   ],
   "source": [
    "plt.figure(figsize=(8,6))\n",
    "plt.scatter(x=y_test, y=pred_ls, color='r')\n",
    "plt.plot(y_test,y_test, color='b')\n",
    "plt.xlabel('Actual Value',fontsize=14)\n",
    "plt.ylabel('Predicted Value',fontsize=14)\n",
    "plt.title('Lasso Regression',fontsize=18)\n",
    "plt.show()"
   ]
  },
  {
   "cell_type": "markdown",
   "id": "8690bc1d",
   "metadata": {},
   "source": [
    "# 2.Ridge:"
   ]
  },
  {
   "cell_type": "code",
   "execution_count": 51,
   "id": "90587df4",
   "metadata": {},
   "outputs": [
    {
     "name": "stdout",
     "output_type": "stream",
     "text": [
      "{'alpha': 0.01, 'copy_X': True, 'fit_intercept': True, 'normalize': True, 'random_state': 0, 'tol': 0.001}\n"
     ]
    }
   ],
   "source": [
    "from sklearn.linear_model import Ridge\n",
    "\n",
    "parameters = {'alpha':[.0001, .001, .01, .1, 1],'fit_intercept':[True,False],'normalize':[True,False],'copy_X':[True,False],'tol':[0.001,0.01,0.1],'random_state':[0,1,2,3,4,5,6,7,8,9]}\n",
    "rd = Ridge()\n",
    "clf = GridSearchCV(rd,parameters)\n",
    "clf.fit(x_train,y_train)\n",
    "\n",
    "print(clf.best_params_)"
   ]
  },
  {
   "cell_type": "code",
   "execution_count": 52,
   "id": "56cc8079",
   "metadata": {},
   "outputs": [
    {
     "name": "stdout",
     "output_type": "stream",
     "text": [
      "R2 Score: 90.38756847284914\n",
      "Cross Val Score: 90.17062851759303\n"
     ]
    }
   ],
   "source": [
    "rd = Ridge(alpha=0.01, copy_X= True, fit_intercept= True, normalize=False, random_state= 0, tol= 0.001)\n",
    "rd.fit(x_train,y_train)\n",
    "rd.score(x_train,y_train)\n",
    "pred_rd = rd.predict(x_test)\n",
    "\n",
    "rds = r2_score(y_test,pred_rd)\n",
    "print('R2 Score:',rds*100)\n",
    "\n",
    "rdscore = cross_val_score(rd,x,y,cv=2)\n",
    "rdc = rdscore.mean() \n",
    "print('Cross Val Score:',rdc*100)"
   ]
  },
  {
   "cell_type": "code",
   "execution_count": 53,
   "id": "6ee5cb58",
   "metadata": {},
   "outputs": [
    {
     "name": "stdout",
     "output_type": "stream",
     "text": [
      "Error:\n",
      "Mean Absolute Error: 1.4542845051702271\n",
      "Mean Squared Error: 2.907786971149838\n",
      "Root Mean Square Error: 1.705223437309562\n"
     ]
    }
   ],
   "source": [
    "print('Error:')\n",
    "\n",
    "print('Mean Absolute Error:',mean_absolute_error(y_test,pred_rd))\n",
    "print('Mean Squared Error:',mean_squared_error(y_test,pred_rd))\n",
    "print('Root Mean Square Error:',np.sqrt(mean_squared_error(y_test,pred_rd)))"
   ]
  },
  {
   "cell_type": "code",
   "execution_count": 54,
   "id": "c7a3d85e",
   "metadata": {},
   "outputs": [
    {
     "data": {
      "image/png": "[encoded data removed]",
      "text/plain": [
       "<Figure size 576x432 with 1 Axes>"
      ]
     },
     "metadata": {
      "needs_background": "light"
     },
     "output_type": "display_data"
    }
   ],
   "source": [
    "plt.figure(figsize=(8,6))\n",
    "plt.scatter(x=y_test, y=pred_rd, color='r')\n",
    "plt.plot(y_test,y_test, color='b')\n",
    "plt.xlabel('Actual Value',fontsize=14)\n",
    "plt.ylabel('Predicted Vlaue',fontsize=14)\n",
    "plt.title('Ridge Regression',fontsize=18)\n",
    "plt.show()\n"
   ]
  },
  {
   "cell_type": "markdown",
   "id": "b01fcc70",
   "metadata": {},
   "source": [
    "We can see that the data points does not lie on the best fit line."
   ]
  },
  {
   "cell_type": "markdown",
   "id": "0bd2a7d5",
   "metadata": {},
   "source": [
    "# Approaching more Regressors:"
   ]
  },
  {
   "cell_type": "code",
   "execution_count": 55,
   "id": "3dbace1c",
   "metadata": {},
   "outputs": [],
   "source": [
    "from sklearn.tree import DecisionTreeRegressor\n",
    "from sklearn.neighbors import KNeighborsRegressor\n",
    "from sklearn.svm import SVR\n",
    "from sklearn.linear_model import SGDRegressor"
   ]
  },
  {
   "cell_type": "markdown",
   "id": "001bad45",
   "metadata": {},
   "source": [
    "# 1.Decision Tree Regressor:"
   ]
  },
  {
   "cell_type": "code",
   "execution_count": 56,
   "id": "36f92708",
   "metadata": {},
   "outputs": [
    {
     "name": "stdout",
     "output_type": "stream",
     "text": [
      "R2 Score: 96.84465678411188\n",
      "Cross Val Score: 90.66422699165338\n"
     ]
    }
   ],
   "source": [
    "dtr=DecisionTreeRegressor(criterion='mse',splitter='best')\n",
    "dtr.fit(x_train,y_train)\n",
    "dtr.score(x_train,y_train)\n",
    "pred_dtr = dtr.predict(x_test)\n",
    "\n",
    "dtr_r2 = r2_score(y_test,pred_dtr)\n",
    "print('R2 Score:',dtr_r2*100)\n",
    "\n",
    "dtrscore = cross_val_score(dtr,x,y,cv=2)\n",
    "dtrcc = dtrscore.mean() \n",
    "print('Cross Val Score:',dtrcc*100)"
   ]
  },
  {
   "cell_type": "code",
   "execution_count": 57,
   "id": "b9cb3218",
   "metadata": {},
   "outputs": [
    {
     "name": "stdout",
     "output_type": "stream",
     "text": [
      "Error:\n",
      "Mean Absolute Error: 0.7299999999999998\n",
      "Mean Squared Error: 0.9544999999999998\n",
      "Root Mean Square Error: 0.9769851585361979\n"
     ]
    }
   ],
   "source": [
    "print('Error:')\n",
    "\n",
    "print('Mean Absolute Error:',mean_absolute_error(y_test,pred_dtr))\n",
    "print('Mean Squared Error:',mean_squared_error(y_test,pred_dtr))\n",
    "print('Root Mean Square Error:',np.sqrt(mean_squared_error(y_test,pred_dtr)))"
   ]
  },
  {
   "cell_type": "code",
   "execution_count": 58,
   "id": "08452cbd",
   "metadata": {},
   "outputs": [
    {
     "data": {
      "image/png": "[encoded data removed]",
      "text/plain": [
       "<Figure size 576x432 with 1 Axes>"
      ]
     },
     "metadata": {
      "needs_background": "light"
     },
     "output_type": "display_data"
    }
   ],
   "source": [
    "plt.figure(figsize=(8,6))\n",
    "plt.scatter(x=y_test, y=pred_dtr, color='r')\n",
    "plt.plot(y_test,y_test, color='b')\n",
    "plt.xlabel('Actual Value',fontsize=14)\n",
    "plt.ylabel('Predicted Vlaue',fontsize=14)\n",
    "plt.title('Decision Tree Regressor',fontsize=18)\n",
    "plt.show()"
   ]
  },
  {
   "cell_type": "markdown",
   "id": "9dbb3cae",
   "metadata": {},
   "source": [
    "# 2.KNeighbors Regressor:"
   ]
  },
  {
   "cell_type": "code",
   "execution_count": 59,
   "id": "8e33145d",
   "metadata": {},
   "outputs": [
    {
     "name": "stdout",
     "output_type": "stream",
     "text": [
      "R2 Score: 93.490604630867\n",
      "Cross Val Score: 92.68425872441632\n"
     ]
    }
   ],
   "source": [
    "knr=KNeighborsRegressor(n_neighbors=5,algorithm='auto')\n",
    "knr.fit(x_train,y_train)\n",
    "knr.score(x_train,y_train)\n",
    "pred_knr = knr.predict(x_test)\n",
    "\n",
    "knr_r2 = r2_score(y_test,pred_knr)\n",
    "print('R2 Score:',knr_r2*100)\n",
    "\n",
    "knrscore = cross_val_score(knr,x,y,cv=2)\n",
    "knrcc = knrscore.mean() \n",
    "print('Cross Val Score:',knrcc*100)"
   ]
  },
  {
   "cell_type": "code",
   "execution_count": 60,
   "id": "328c2bc3",
   "metadata": {},
   "outputs": [
    {
     "name": "stdout",
     "output_type": "stream",
     "text": [
      "Error:\n",
      "Mean Absolute Error: 0.9295000000000002\n",
      "Mean Squared Error: 1.9691100000000006\n",
      "Root Mean Square Error: 1.4032497995724071\n"
     ]
    }
   ],
   "source": [
    "print('Error:')\n",
    "\n",
    "print('Mean Absolute Error:',mean_absolute_error(y_test,pred_knr))\n",
    "print('Mean Squared Error:',mean_squared_error(y_test,pred_knr))\n",
    "print('Root Mean Square Error:',np.sqrt(mean_squared_error(y_test,pred_knr)))"
   ]
  },
  {
   "cell_type": "code",
   "execution_count": 61,
   "id": "f903a70f",
   "metadata": {},
   "outputs": [
    {
     "data": {
      "image/png": "[encoded data removed]",
      "text/plain": [
       "<Figure size 576x432 with 1 Axes>"
      ]
     },
     "metadata": {
      "needs_background": "light"
     },
     "output_type": "display_data"
    }
   ],
   "source": [
    "plt.figure(figsize=(8,6))\n",
    "plt.scatter(x=y_test, y=pred_knr, color='r')\n",
    "plt.plot(y_test,y_test, color='b')\n",
    "plt.xlabel('Actual Value',fontsize=14)\n",
    "plt.ylabel('Predicted Vlaue',fontsize=14)\n",
    "plt.title('KNeighbors Regressor',fontsize=18)\n",
    "plt.show()\n"
   ]
  },
  {
   "cell_type": "markdown",
   "id": "ec87a7a2",
   "metadata": {},
   "source": [
    "# 3.SVR:"
   ]
  },
  {
   "cell_type": "code",
   "execution_count": 62,
   "id": "17a240bc",
   "metadata": {},
   "outputs": [
    {
     "name": "stdout",
     "output_type": "stream",
     "text": [
      "R2 Score: 90.67531486663313\n",
      "Cross Val Score: 86.60284441799949\n"
     ]
    }
   ],
   "source": [
    "svr=SVR()\n",
    "svr.fit(x_train,y_train)\n",
    "svr.score(x_train,y_train)\n",
    "pred_svr = svr.predict(x_test)\n",
    "\n",
    "svr_r2 = r2_score(y_test,pred_svr)\n",
    "print('R2 Score:',svr_r2*100)\n",
    "\n",
    "svr_score = cross_val_score(svr,x,y,cv=2)\n",
    "svr_cc = svr_score.mean() \n",
    "print('Cross Val Score:',svr_cc*100)"
   ]
  },
  {
   "cell_type": "code",
   "execution_count": 63,
   "id": "a17037b1",
   "metadata": {},
   "outputs": [
    {
     "name": "stdout",
     "output_type": "stream",
     "text": [
      "Error:\n",
      "Mean Absolute Error: 1.0003268327763835\n",
      "Mean Squared Error: 2.8207428957275953\n",
      "Root Mean Square Error: 1.6795067417928382\n"
     ]
    }
   ],
   "source": [
    "print('Error:')\n",
    "\n",
    "print('Mean Absolute Error:',mean_absolute_error(y_test,pred_svr))\n",
    "print('Mean Squared Error:',mean_squared_error(y_test,pred_svr))\n",
    "print('Root Mean Square Error:',np.sqrt(mean_squared_error(y_test,pred_svr)))"
   ]
  },
  {
   "cell_type": "code",
   "execution_count": 64,
   "id": "778c805e",
   "metadata": {},
   "outputs": [
    {
     "data": {
      "image/png": "[encoded data removed]",
      "text/plain": [
       "<Figure size 576x432 with 1 Axes>"
      ]
     },
     "metadata": {
      "needs_background": "light"
     },
     "output_type": "display_data"
    }
   ],
   "source": [
    "plt.figure(figsize=(8,6))\n",
    "plt.scatter(x=y_test, y=pred_svr, color='r')\n",
    "plt.plot(y_test,y_test, color='b')\n",
    "plt.xlabel('Actual Value',fontsize=14)\n",
    "plt.ylabel('Predicted Vlaue',fontsize=14)\n",
    "plt.title('SVR',fontsize=18)\n",
    "plt.show()"
   ]
  },
  {
   "cell_type": "markdown",
   "id": "d7852cb1",
   "metadata": {},
   "source": [
    "Here, most of the data points lie on the best fit line."
   ]
  },
  {
   "cell_type": "markdown",
   "id": "ccd1da72",
   "metadata": {},
   "source": [
    "# 4.SGD Regressor:"
   ]
  },
  {
   "cell_type": "code",
   "execution_count": 65,
   "id": "9803b4f8",
   "metadata": {},
   "outputs": [
    {
     "name": "stdout",
     "output_type": "stream",
     "text": [
      "R2 Score: 90.38307618897397\n",
      "Cross Val Score: 90.2050818722557\n"
     ]
    }
   ],
   "source": [
    "sgd=SGDRegressor()\n",
    "sgd.fit(x_train,y_train)\n",
    "sgd.score(x_train,y_train)\n",
    "pred_sgd = sgd.predict(x_test)\n",
    "\n",
    "sgd_r2 = r2_score(y_test,pred_sgd)\n",
    "print('R2 Score:',sgd_r2*100)\n",
    "\n",
    "sgd_score = cross_val_score(sgd,x,y,cv=2)\n",
    "sgd_cc = sgd_score.mean() \n",
    "print('Cross Val Score:',sgd_cc*100)"
   ]
  },
  {
   "cell_type": "code",
   "execution_count": 66,
   "id": "81a98372",
   "metadata": {},
   "outputs": [
    {
     "name": "stdout",
     "output_type": "stream",
     "text": [
      "Error:\n",
      "Mean Absolute Error: 1.4543009266631937\n",
      "Mean Squared Error: 2.909145899375852\n",
      "Root Mean Square Error: 1.7056218512248993\n"
     ]
    }
   ],
   "source": [
    "print('Error:')\n",
    "\n",
    "print('Mean Absolute Error:',mean_absolute_error(y_test,pred_sgd))\n",
    "print('Mean Squared Error:',mean_squared_error(y_test,pred_sgd))\n",
    "print('Root Mean Square Error:',np.sqrt(mean_squared_error(y_test,pred_sgd)))"
   ]
  },
  {
   "cell_type": "code",
   "execution_count": 67,
   "id": "17d80a88",
   "metadata": {},
   "outputs": [
    {
     "data": {
      "image/png": "[encoded data removed]",
      "text/plain": [
       "<Figure size 576x432 with 1 Axes>"
      ]
     },
     "metadata": {
      "needs_background": "light"
     },
     "output_type": "display_data"
    }
   ],
   "source": [
    "plt.figure(figsize=(8,6))\n",
    "plt.scatter(x=y_test, y=pred_sgd, color='r')\n",
    "plt.plot(y_test,y_test, color='b')\n",
    "plt.xlabel('Actual Value',fontsize=14)\n",
    "plt.ylabel('Predicted Vlaue',fontsize=14)\n",
    "plt.title('SGD Regressor',fontsize=18)\n",
    "plt.show()"
   ]
  },
  {
   "cell_type": "markdown",
   "id": "a3b01c76",
   "metadata": {},
   "source": [
    "# Ensemble Methods:"
   ]
  },
  {
   "cell_type": "markdown",
   "id": "c91c9a77",
   "metadata": {},
   "source": [
    "# 1.Random Forest Regressor:"
   ]
  },
  {
   "cell_type": "code",
   "execution_count": 68,
   "id": "491c2b89",
   "metadata": {},
   "outputs": [
    {
     "name": "stdout",
     "output_type": "stream",
     "text": [
      "R2 Score: 97.98943860840936\n",
      "Cross Val Score: 97.24020542624275\n"
     ]
    }
   ],
   "source": [
    "from sklearn.ensemble import RandomForestRegressor\n",
    "\n",
    "rf=RandomForestRegressor(n_estimators=100,criterion='mse')\n",
    "rf.fit(x_train,y_train)\n",
    "rf.score(x_train,y_train)\n",
    "pred_rf = rf.predict(x_test)\n",
    "\n",
    "rf_r2 = r2_score(y_test,pred_rf)\n",
    "print('R2 Score:',rf_r2*100)\n",
    "\n",
    "rf_score = cross_val_score(rf,x,y,cv=2)\n",
    "rf_cc = rf_score.mean() \n",
    "print('Cross Val Score:',rf_cc*100)"
   ]
  },
  {
   "cell_type": "code",
   "execution_count": 69,
   "id": "53d24d64",
   "metadata": {},
   "outputs": [
    {
     "name": "stdout",
     "output_type": "stream",
     "text": [
      "Error:\n",
      "Mean Absolute Error: 0.6283999999999994\n",
      "Mean Squared Error: 0.6082003499999995\n",
      "Root Mean Square Error: 0.7798720087296374\n"
     ]
    }
   ],
   "source": [
    "print('Error:')\n",
    "\n",
    "print('Mean Absolute Error:',mean_absolute_error(y_test,pred_rf))\n",
    "print('Mean Squared Error:',mean_squared_error(y_test,pred_rf))\n",
    "print('Root Mean Square Error:',np.sqrt(mean_squared_error(y_test,pred_rf)))"
   ]
  },
  {
   "cell_type": "code",
   "execution_count": 70,
   "id": "24f72574",
   "metadata": {},
   "outputs": [
    {
     "data": {
      "image/png": "[encoded data removed]",
      "text/plain": [
       "<Figure size 576x432 with 1 Axes>"
      ]
     },
     "metadata": {
      "needs_background": "light"
     },
     "output_type": "display_data"
    }
   ],
   "source": [
    "plt.figure(figsize=(8,6))\n",
    "plt.scatter(x=y_test, y=pred_rf, color='r')\n",
    "plt.plot(y_test,y_test, color='b')\n",
    "plt.xlabel('Actual Value',fontsize=14)\n",
    "plt.ylabel('Predicted Value',fontsize=14)\n",
    "plt.title('Random Forest regressor',fontsize=18)\n",
    "plt.show()"
   ]
  },
  {
   "cell_type": "markdown",
   "id": "887e420e",
   "metadata": {},
   "source": [
    "# 2.ADA Boost Regressor:"
   ]
  },
  {
   "cell_type": "code",
   "execution_count": 71,
   "id": "2885ed50",
   "metadata": {},
   "outputs": [
    {
     "name": "stdout",
     "output_type": "stream",
     "text": [
      "R2 Score: 96.48646053836714\n",
      "Cross Val Score: 95.0424086140115\n"
     ]
    }
   ],
   "source": [
    "from sklearn.ensemble import AdaBoostRegressor\n",
    "\n",
    "ada=AdaBoostRegressor(n_estimators=50)\n",
    "ada.fit(x_train,y_train)\n",
    "ada.score(x_train,y_train)\n",
    "pred_ada = ada.predict(x_test)\n",
    "\n",
    "ada_r2 = r2_score(y_test,pred_ada)\n",
    "print('R2 Score:',ada_r2*100)\n",
    "\n",
    "ada_score = cross_val_score(ada,x,y,cv=2)\n",
    "ada_cc = ada_score.mean() \n",
    "print('Cross Val Score:',ada_cc*100)"
   ]
  },
  {
   "cell_type": "code",
   "execution_count": 72,
   "id": "bbe383be",
   "metadata": {},
   "outputs": [
    {
     "name": "stdout",
     "output_type": "stream",
     "text": [
      "Error:\n",
      "Mean Absolute Error: 0.8781760894732556\n",
      "Mean Squared Error: 1.0628553493774568\n",
      "Root Mean Square Error: 1.030948761761445\n"
     ]
    }
   ],
   "source": [
    "print('Error:')\n",
    "\n",
    "print('Mean Absolute Error:',mean_absolute_error(y_test,pred_ada))\n",
    "print('Mean Squared Error:',mean_squared_error(y_test,pred_ada))\n",
    "print('Root Mean Square Error:',np.sqrt(mean_squared_error(y_test,pred_ada)))"
   ]
  },
  {
   "cell_type": "code",
   "execution_count": 73,
   "id": "6f3506d6",
   "metadata": {},
   "outputs": [
    {
     "data": {
      "image/png": "[encoded data removed]",
      "text/plain": [
       "<Figure size 576x432 with 1 Axes>"
      ]
     },
     "metadata": {
      "needs_background": "light"
     },
     "output_type": "display_data"
    }
   ],
   "source": [
    "plt.figure(figsize=(8,6))\n",
    "plt.scatter(x=y_test, y=pred_ada, color='g')\n",
    "plt.plot(y_test,y_test, color='b')\n",
    "plt.xlabel('Actual Value',fontsize=14)\n",
    "plt.ylabel('Predicted Value',fontsize=14)\n",
    "plt.title('Ada Boost Regressor',fontsize=18)\n",
    "plt.show()"
   ]
  },
  {
   "cell_type": "markdown",
   "id": "5baf0dbd",
   "metadata": {},
   "source": [
    "# 3.Gradient Boosting Regressor:"
   ]
  },
  {
   "cell_type": "code",
   "execution_count": 74,
   "id": "3bd4a802",
   "metadata": {},
   "outputs": [
    {
     "name": "stdout",
     "output_type": "stream",
     "text": [
      "R2 Score: 97.7972026485454\n",
      "Cross Val Score: 97.23126870894194\n"
     ]
    }
   ],
   "source": [
    "from sklearn.ensemble import GradientBoostingRegressor\n",
    "gbr= GradientBoostingRegressor(criterion='friedman_mse',loss='huber',n_estimators=200)\n",
    "gbr.fit(x_train, y_train)\n",
    "gbr.score(x_train, y_train)\n",
    "pred_gbr =gbr.predict(x_test)\n",
    "\n",
    "gbrs= r2_score(y_test,pred_gbr)\n",
    "print('R2 Score:',gbrs*100)\n",
    "\n",
    "gbscore = cross_val_score(gbr,x,y,cv=2)\n",
    "gbrc= gbscore.mean() \n",
    "print('Cross Val Score:',gbrc*100)"
   ]
  },
  {
   "cell_type": "code",
   "execution_count": 75,
   "id": "93f949ec",
   "metadata": {},
   "outputs": [
    {
     "name": "stdout",
     "output_type": "stream",
     "text": [
      "Error:\n",
      "Mean Absolute Error: 0.6374063532038032\n",
      "Mean Squared Error: 0.6663522565077362\n",
      "Root Mean Square Error: 0.8163040221067983\n"
     ]
    }
   ],
   "source": [
    "print('Error:')\n",
    "\n",
    "print('Mean Absolute Error:',mean_absolute_error(y_test,pred_gbr))\n",
    "print('Mean Squared Error:',mean_squared_error(y_test,pred_gbr))\n",
    "print('Root Mean Square Error:',np.sqrt(mean_squared_error(y_test,pred_gbr)))"
   ]
  },
  {
   "cell_type": "code",
   "execution_count": 76,
   "id": "93cd7172",
   "metadata": {},
   "outputs": [
    {
     "data": {
      "image/png": "[encoded data removed]",
      "text/plain": [
       "<Figure size 576x432 with 1 Axes>"
      ]
     },
     "metadata": {
      "needs_background": "light"
     },
     "output_type": "display_data"
    }
   ],
   "source": [
    "plt.figure(figsize=(8,6))\n",
    "plt.scatter(x=y_test, y=pred_gbr, color='y')\n",
    "plt.plot(y_test,y_test, color='b')\n",
    "plt.xlabel('Actual Value',fontsize=14)\n",
    "plt.ylabel('Predicted Value',fontsize=14)\n",
    "plt.title('Gradient Boosting Regressor',fontsize=18)\n",
    "plt.show()"
   ]
  },
  {
   "cell_type": "markdown",
   "id": "8ceddfb9",
   "metadata": {},
   "source": [
    "The best model is Gradient Boosting Regressor. Since the difference between the percentage score of cross validation and r2_score is optimum."
   ]
  },
  {
   "cell_type": "markdown",
   "id": "77e869e1",
   "metadata": {},
   "source": [
    "# Model Saving:"
   ]
  },
  {
   "cell_type": "code",
   "execution_count": 77,
   "id": "51a5214d",
   "metadata": {},
   "outputs": [],
   "source": [
    "import pickle\n",
    "filename = 'sale_prediction.pkl'\n",
    "pickle.dump(gbr, open(filename, 'wb'))"
   ]
  },
  {
   "cell_type": "markdown",
   "id": "d5b3049d",
   "metadata": {},
   "source": [
    "# Conclusion:"
   ]
  },
  {
   "cell_type": "code",
   "execution_count": 78,
   "id": "71dd3ec9",
   "metadata": {},
   "outputs": [
    {
     "data": {
      "text/plain": [
       "array([11.4, 14.4,  8. , 18.4,  9.3, 15.9, 10.9, 11.9, 17.4, 20.1, 24.2,\n",
       "        9.7,  8.1, 14.9, 16.1, 12.9,  9.7, 10.7,  5.7, 16.7, 20.2, 19. ,\n",
       "       13.4,  3.2, 12.9, 15.9, 14.8, 21.8, 11.2, 17.3, 24.4, 11.8, 25.5,\n",
       "        8.7, 10.4, 23.8, 12.2, 12.3, 24.7, 20.7])"
      ]
     },
     "execution_count": 78,
     "metadata": {},
     "output_type": "execute_result"
    }
   ],
   "source": [
    "import numpy as np\n",
    "a=np.array(y_test)\n",
    "a"
   ]
  },
  {
   "cell_type": "code",
   "execution_count": 79,
   "id": "a29e3aae",
   "metadata": {},
   "outputs": [
    {
     "data": {
      "text/plain": [
       "array([11.00709564, 14.64772131,  7.84791559, 19.33550414,  9.82866333,\n",
       "       15.45478769, 10.39170939, 12.24341262, 15.86612904, 19.3576058 ,\n",
       "       25.38511563,  9.61043981,  8.21857421, 16.15933797, 15.19904996,\n",
       "       14.46593655,  9.86917106, 10.88249456,  6.15120499, 16.48852626,\n",
       "       20.48489495, 19.2032397 , 13.47337992,  5.14931835, 12.64398793,\n",
       "       14.93264858, 15.33752217, 22.62346802, 10.98081365, 18.4893195 ,\n",
       "       23.35925787, 12.04347323, 25.65481514,  9.49722527, 11.12424992,\n",
       "       22.67744524, 11.71699768, 12.59360081, 22.72708214, 20.50389694])"
      ]
     },
     "execution_count": 79,
     "metadata": {},
     "output_type": "execute_result"
    }
   ],
   "source": [
    "predicted=np.array(gbr.predict(x_test))\n",
    "predicted"
   ]
  },
  {
   "cell_type": "code",
   "execution_count": 80,
   "id": "3bea98c1",
   "metadata": {},
   "outputs": [
    {
     "data": {
      "text/html": [
       "<div>\n",
       "<style scoped>\n",
       "    .dataframe tbody tr th:only-of-type {\n",
       "        vertical-align: middle;\n",
       "    }\n",
       "\n",
       "    .dataframe tbody tr th {\n",
       "        vertical-align: top;\n",
       "    }\n",
       "\n",
       "    .dataframe thead th {\n",
       "        text-align: right;\n",
       "    }\n",
       "</style>\n",
       "<table border=\"1\" class=\"dataframe\">\n",
       "  <thead>\n",
       "    <tr style=\"text-align: right;\">\n",
       "      <th></th>\n",
       "      <th>original</th>\n",
       "      <th>predicted</th>\n",
       "    </tr>\n",
       "  </thead>\n",
       "  <tbody>\n",
       "    <tr>\n",
       "      <th>0</th>\n",
       "      <td>11.4</td>\n",
       "      <td>11.007096</td>\n",
       "    </tr>\n",
       "    <tr>\n",
       "      <th>1</th>\n",
       "      <td>14.4</td>\n",
       "      <td>14.647721</td>\n",
       "    </tr>\n",
       "    <tr>\n",
       "      <th>2</th>\n",
       "      <td>8.0</td>\n",
       "      <td>7.847916</td>\n",
       "    </tr>\n",
       "    <tr>\n",
       "      <th>3</th>\n",
       "      <td>18.4</td>\n",
       "      <td>19.335504</td>\n",
       "    </tr>\n",
       "    <tr>\n",
       "      <th>4</th>\n",
       "      <td>9.3</td>\n",
       "      <td>9.828663</td>\n",
       "    </tr>\n",
       "    <tr>\n",
       "      <th>5</th>\n",
       "      <td>15.9</td>\n",
       "      <td>15.454788</td>\n",
       "    </tr>\n",
       "    <tr>\n",
       "      <th>6</th>\n",
       "      <td>10.9</td>\n",
       "      <td>10.391709</td>\n",
       "    </tr>\n",
       "    <tr>\n",
       "      <th>7</th>\n",
       "      <td>11.9</td>\n",
       "      <td>12.243413</td>\n",
       "    </tr>\n",
       "    <tr>\n",
       "      <th>8</th>\n",
       "      <td>17.4</td>\n",
       "      <td>15.866129</td>\n",
       "    </tr>\n",
       "    <tr>\n",
       "      <th>9</th>\n",
       "      <td>20.1</td>\n",
       "      <td>19.357606</td>\n",
       "    </tr>\n",
       "    <tr>\n",
       "      <th>10</th>\n",
       "      <td>24.2</td>\n",
       "      <td>25.385116</td>\n",
       "    </tr>\n",
       "    <tr>\n",
       "      <th>11</th>\n",
       "      <td>9.7</td>\n",
       "      <td>9.610440</td>\n",
       "    </tr>\n",
       "    <tr>\n",
       "      <th>12</th>\n",
       "      <td>8.1</td>\n",
       "      <td>8.218574</td>\n",
       "    </tr>\n",
       "    <tr>\n",
       "      <th>13</th>\n",
       "      <td>14.9</td>\n",
       "      <td>16.159338</td>\n",
       "    </tr>\n",
       "    <tr>\n",
       "      <th>14</th>\n",
       "      <td>16.1</td>\n",
       "      <td>15.199050</td>\n",
       "    </tr>\n",
       "    <tr>\n",
       "      <th>15</th>\n",
       "      <td>12.9</td>\n",
       "      <td>14.465937</td>\n",
       "    </tr>\n",
       "    <tr>\n",
       "      <th>16</th>\n",
       "      <td>9.7</td>\n",
       "      <td>9.869171</td>\n",
       "    </tr>\n",
       "    <tr>\n",
       "      <th>17</th>\n",
       "      <td>10.7</td>\n",
       "      <td>10.882495</td>\n",
       "    </tr>\n",
       "    <tr>\n",
       "      <th>18</th>\n",
       "      <td>5.7</td>\n",
       "      <td>6.151205</td>\n",
       "    </tr>\n",
       "    <tr>\n",
       "      <th>19</th>\n",
       "      <td>16.7</td>\n",
       "      <td>16.488526</td>\n",
       "    </tr>\n",
       "    <tr>\n",
       "      <th>20</th>\n",
       "      <td>20.2</td>\n",
       "      <td>20.484895</td>\n",
       "    </tr>\n",
       "    <tr>\n",
       "      <th>21</th>\n",
       "      <td>19.0</td>\n",
       "      <td>19.203240</td>\n",
       "    </tr>\n",
       "    <tr>\n",
       "      <th>22</th>\n",
       "      <td>13.4</td>\n",
       "      <td>13.473380</td>\n",
       "    </tr>\n",
       "    <tr>\n",
       "      <th>23</th>\n",
       "      <td>3.2</td>\n",
       "      <td>5.149318</td>\n",
       "    </tr>\n",
       "    <tr>\n",
       "      <th>24</th>\n",
       "      <td>12.9</td>\n",
       "      <td>12.643988</td>\n",
       "    </tr>\n",
       "    <tr>\n",
       "      <th>25</th>\n",
       "      <td>15.9</td>\n",
       "      <td>14.932649</td>\n",
       "    </tr>\n",
       "    <tr>\n",
       "      <th>26</th>\n",
       "      <td>14.8</td>\n",
       "      <td>15.337522</td>\n",
       "    </tr>\n",
       "    <tr>\n",
       "      <th>27</th>\n",
       "      <td>21.8</td>\n",
       "      <td>22.623468</td>\n",
       "    </tr>\n",
       "    <tr>\n",
       "      <th>28</th>\n",
       "      <td>11.2</td>\n",
       "      <td>10.980814</td>\n",
       "    </tr>\n",
       "    <tr>\n",
       "      <th>29</th>\n",
       "      <td>17.3</td>\n",
       "      <td>18.489320</td>\n",
       "    </tr>\n",
       "    <tr>\n",
       "      <th>30</th>\n",
       "      <td>24.4</td>\n",
       "      <td>23.359258</td>\n",
       "    </tr>\n",
       "    <tr>\n",
       "      <th>31</th>\n",
       "      <td>11.8</td>\n",
       "      <td>12.043473</td>\n",
       "    </tr>\n",
       "    <tr>\n",
       "      <th>32</th>\n",
       "      <td>25.5</td>\n",
       "      <td>25.654815</td>\n",
       "    </tr>\n",
       "    <tr>\n",
       "      <th>33</th>\n",
       "      <td>8.7</td>\n",
       "      <td>9.497225</td>\n",
       "    </tr>\n",
       "    <tr>\n",
       "      <th>34</th>\n",
       "      <td>10.4</td>\n",
       "      <td>11.124250</td>\n",
       "    </tr>\n",
       "    <tr>\n",
       "      <th>35</th>\n",
       "      <td>23.8</td>\n",
       "      <td>22.677445</td>\n",
       "    </tr>\n",
       "    <tr>\n",
       "      <th>36</th>\n",
       "      <td>12.2</td>\n",
       "      <td>11.716998</td>\n",
       "    </tr>\n",
       "    <tr>\n",
       "      <th>37</th>\n",
       "      <td>12.3</td>\n",
       "      <td>12.593601</td>\n",
       "    </tr>\n",
       "    <tr>\n",
       "      <th>38</th>\n",
       "      <td>24.7</td>\n",
       "      <td>22.727082</td>\n",
       "    </tr>\n",
       "    <tr>\n",
       "      <th>39</th>\n",
       "      <td>20.7</td>\n",
       "      <td>20.503897</td>\n",
       "    </tr>\n",
       "  </tbody>\n",
       "</table>\n",
       "</div>"
      ],
      "text/plain": [
       "    original  predicted\n",
       "0       11.4  11.007096\n",
       "1       14.4  14.647721\n",
       "2        8.0   7.847916\n",
       "3       18.4  19.335504\n",
       "4        9.3   9.828663\n",
       "5       15.9  15.454788\n",
       "6       10.9  10.391709\n",
       "7       11.9  12.243413\n",
       "8       17.4  15.866129\n",
       "9       20.1  19.357606\n",
       "10      24.2  25.385116\n",
       "11       9.7   9.610440\n",
       "12       8.1   8.218574\n",
       "13      14.9  16.159338\n",
       "14      16.1  15.199050\n",
       "15      12.9  14.465937\n",
       "16       9.7   9.869171\n",
       "17      10.7  10.882495\n",
       "18       5.7   6.151205\n",
       "19      16.7  16.488526\n",
       "20      20.2  20.484895\n",
       "21      19.0  19.203240\n",
       "22      13.4  13.473380\n",
       "23       3.2   5.149318\n",
       "24      12.9  12.643988\n",
       "25      15.9  14.932649\n",
       "26      14.8  15.337522\n",
       "27      21.8  22.623468\n",
       "28      11.2  10.980814\n",
       "29      17.3  18.489320\n",
       "30      24.4  23.359258\n",
       "31      11.8  12.043473\n",
       "32      25.5  25.654815\n",
       "33       8.7   9.497225\n",
       "34      10.4  11.124250\n",
       "35      23.8  22.677445\n",
       "36      12.2  11.716998\n",
       "37      12.3  12.593601\n",
       "38      24.7  22.727082\n",
       "39      20.7  20.503897"
      ]
     },
     "execution_count": 80,
     "metadata": {},
     "output_type": "execute_result"
    }
   ],
   "source": [
    "ad_com=pd.DataFrame({\"original\":a,\"predicted\":predicted}, index= range(len(a)))\n",
    "ad_com"
   ]
  },
  {
   "cell_type": "markdown",
   "id": "4f23f838",
   "metadata": {},
   "source": [
    "# From the above table, the model is predicted with 97% percent accuracy."
   ]
  }
 ],
 "metadata": {
  "kernelspec": {
   "display_name": "Python 3",
   "language": "python",
   "name": "python3"
  },
  "language_info": {
   "codemirror_mode": {
    "name": "ipython",
    "version": 3
   },
   "file_extension": ".py",
   "mimetype": "text/x-python",
   "name": "python",
   "nbconvert_exporter": "python",
   "pygments_lexer": "ipython3",
   "version": "3.8.8"
  }
 },
 "nbformat": 4,
 "nbformat_minor": 5
}
